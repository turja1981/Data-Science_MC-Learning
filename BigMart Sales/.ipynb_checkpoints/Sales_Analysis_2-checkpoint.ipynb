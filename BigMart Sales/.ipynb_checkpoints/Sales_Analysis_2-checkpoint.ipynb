{
 "cells": [
  {
   "cell_type": "code",
   "execution_count": 1,
   "metadata": {
    "collapsed": false
   },
   "outputs": [],
   "source": [
    "import pandas as pd\n",
    "import scipy as sc\n",
    "import numpy as np\n",
    "from scipy.stats import mode\n",
    "%matplotlib inline\n",
    "import matplotlib.pyplot as plt "
   ]
  },
  {
   "cell_type": "code",
   "execution_count": 16,
   "metadata": {
    "collapsed": false
   },
   "outputs": [
    {
     "name": "stdout",
     "output_type": "stream",
     "text": [
      "The scikit-learn version is 0.18.1.\n",
      "The pandas version is 0.19.2.\n"
     ]
    }
   ],
   "source": [
    "print('The scikit-learn version is {}.'.format(sklearn.__version__))\n",
    "print('The pandas version is {}.'.format(pandas.__version__))"
   ]
  },
  {
   "cell_type": "code",
   "execution_count": 209,
   "metadata": {
    "collapsed": false
   },
   "outputs": [],
   "source": [
    "train_data = pd.read_csv('train_modified.csv')\n",
    "test_data = pd.read_csv('test_modified.csv')"
   ]
  },
  {
   "cell_type": "code",
   "execution_count": 4,
   "metadata": {
    "collapsed": false
   },
   "outputs": [
    {
     "data": {
      "text/html": [
       "<div>\n",
       "<table border=\"1\" class=\"dataframe\">\n",
       "  <thead>\n",
       "    <tr style=\"text-align: right;\">\n",
       "      <th></th>\n",
       "      <th>Item_MRP</th>\n",
       "      <th>Item_Outlet_Sales</th>\n",
       "      <th>Item_Visibility</th>\n",
       "      <th>Item_Weight</th>\n",
       "      <th>Outlet_Establishment_Year</th>\n",
       "      <th>Outlet_Years</th>\n",
       "      <th>log_Item_MRP</th>\n",
       "      <th>log_Item_Outlet_Sales</th>\n",
       "      <th>log_Item_Visibility</th>\n",
       "    </tr>\n",
       "  </thead>\n",
       "  <tbody>\n",
       "    <tr>\n",
       "      <th>count</th>\n",
       "      <td>8523.000000</td>\n",
       "      <td>8523.000000</td>\n",
       "      <td>8523.000000</td>\n",
       "      <td>8523.000000</td>\n",
       "      <td>8523.000000</td>\n",
       "      <td>8523.000000</td>\n",
       "      <td>8523.000000</td>\n",
       "      <td>8523.000000</td>\n",
       "      <td>8523.000000</td>\n",
       "    </tr>\n",
       "    <tr>\n",
       "      <th>mean</th>\n",
       "      <td>140.992782</td>\n",
       "      <td>2181.288914</td>\n",
       "      <td>0.069941</td>\n",
       "      <td>12.873623</td>\n",
       "      <td>1997.831867</td>\n",
       "      <td>15.168133</td>\n",
       "      <td>4.828182</td>\n",
       "      <td>7.296540</td>\n",
       "      <td>-2.934017</td>\n",
       "    </tr>\n",
       "    <tr>\n",
       "      <th>std</th>\n",
       "      <td>62.275067</td>\n",
       "      <td>1706.499616</td>\n",
       "      <td>0.049856</td>\n",
       "      <td>4.645893</td>\n",
       "      <td>8.371760</td>\n",
       "      <td>8.371760</td>\n",
       "      <td>0.526097</td>\n",
       "      <td>1.017108</td>\n",
       "      <td>0.788970</td>\n",
       "    </tr>\n",
       "    <tr>\n",
       "      <th>min</th>\n",
       "      <td>31.290000</td>\n",
       "      <td>33.290000</td>\n",
       "      <td>0.003575</td>\n",
       "      <td>4.555000</td>\n",
       "      <td>1985.000000</td>\n",
       "      <td>4.000000</td>\n",
       "      <td>3.443299</td>\n",
       "      <td>3.505257</td>\n",
       "      <td>-5.633875</td>\n",
       "    </tr>\n",
       "    <tr>\n",
       "      <th>25%</th>\n",
       "      <td>93.826500</td>\n",
       "      <td>834.247400</td>\n",
       "      <td>0.031228</td>\n",
       "      <td>8.785000</td>\n",
       "      <td>1987.000000</td>\n",
       "      <td>9.000000</td>\n",
       "      <td>4.541447</td>\n",
       "      <td>6.726530</td>\n",
       "      <td>-3.466450</td>\n",
       "    </tr>\n",
       "    <tr>\n",
       "      <th>50%</th>\n",
       "      <td>143.012800</td>\n",
       "      <td>1794.331000</td>\n",
       "      <td>0.057249</td>\n",
       "      <td>12.600000</td>\n",
       "      <td>1999.000000</td>\n",
       "      <td>14.000000</td>\n",
       "      <td>4.962934</td>\n",
       "      <td>7.492388</td>\n",
       "      <td>-2.860347</td>\n",
       "    </tr>\n",
       "    <tr>\n",
       "      <th>75%</th>\n",
       "      <td>185.643700</td>\n",
       "      <td>3101.296400</td>\n",
       "      <td>0.097383</td>\n",
       "      <td>16.850000</td>\n",
       "      <td>2004.000000</td>\n",
       "      <td>26.000000</td>\n",
       "      <td>5.223829</td>\n",
       "      <td>8.039575</td>\n",
       "      <td>-2.329104</td>\n",
       "    </tr>\n",
       "    <tr>\n",
       "      <th>max</th>\n",
       "      <td>266.888400</td>\n",
       "      <td>13086.964800</td>\n",
       "      <td>0.328391</td>\n",
       "      <td>21.350000</td>\n",
       "      <td>2009.000000</td>\n",
       "      <td>28.000000</td>\n",
       "      <td>5.586831</td>\n",
       "      <td>9.479372</td>\n",
       "      <td>-1.113550</td>\n",
       "    </tr>\n",
       "  </tbody>\n",
       "</table>\n",
       "</div>"
      ],
      "text/plain": [
       "          Item_MRP  Item_Outlet_Sales  Item_Visibility  Item_Weight  \\\n",
       "count  8523.000000        8523.000000      8523.000000  8523.000000   \n",
       "mean    140.992782        2181.288914         0.069941    12.873623   \n",
       "std      62.275067        1706.499616         0.049856     4.645893   \n",
       "min      31.290000          33.290000         0.003575     4.555000   \n",
       "25%      93.826500         834.247400         0.031228     8.785000   \n",
       "50%     143.012800        1794.331000         0.057249    12.600000   \n",
       "75%     185.643700        3101.296400         0.097383    16.850000   \n",
       "max     266.888400       13086.964800         0.328391    21.350000   \n",
       "\n",
       "       Outlet_Establishment_Year  Outlet_Years  log_Item_MRP  \\\n",
       "count                8523.000000   8523.000000   8523.000000   \n",
       "mean                 1997.831867     15.168133      4.828182   \n",
       "std                     8.371760      8.371760      0.526097   \n",
       "min                  1985.000000      4.000000      3.443299   \n",
       "25%                  1987.000000      9.000000      4.541447   \n",
       "50%                  1999.000000     14.000000      4.962934   \n",
       "75%                  2004.000000     26.000000      5.223829   \n",
       "max                  2009.000000     28.000000      5.586831   \n",
       "\n",
       "       log_Item_Outlet_Sales  log_Item_Visibility  \n",
       "count            8523.000000          8523.000000  \n",
       "mean                7.296540            -2.934017  \n",
       "std                 1.017108             0.788970  \n",
       "min                 3.505257            -5.633875  \n",
       "25%                 6.726530            -3.466450  \n",
       "50%                 7.492388            -2.860347  \n",
       "75%                 8.039575            -2.329104  \n",
       "max                 9.479372            -1.113550  "
      ]
     },
     "execution_count": 4,
     "metadata": {},
     "output_type": "execute_result"
    }
   ],
   "source": [
    "train_data.describe()"
   ]
  },
  {
   "cell_type": "code",
   "execution_count": 297,
   "metadata": {
    "collapsed": false
   },
   "outputs": [
    {
     "data": {
      "text/plain": [
       "((8523, 17), (5681, 16), (14204, 17))"
      ]
     },
     "execution_count": 297,
     "metadata": {},
     "output_type": "execute_result"
    }
   ],
   "source": [
    "train_data['source']='train'\n",
    "test_data['source']='test'\n",
    "data = pd.concat([train_data, test_data],ignore_index=True)\n",
    "train_data.shape, test_data.shape, data.shape"
   ]
  },
  {
   "cell_type": "code",
   "execution_count": 211,
   "metadata": {
    "collapsed": false
   },
   "outputs": [
    {
     "data": {
      "text/plain": [
       "Item_Fat_Content              object\n",
       "Item_Identifier               object\n",
       "Item_MRP                     float64\n",
       "Item_Outlet_Sales            float64\n",
       "Item_Type                     object\n",
       "Item_Visibility              float64\n",
       "Item_Weight                  float64\n",
       "Outlet_Establishment_Year      int64\n",
       "Outlet_Identifier             object\n",
       "Outlet_Location_Type          object\n",
       "Outlet_Size                   object\n",
       "Outlet_Type                   object\n",
       "Outlet_Years                   int64\n",
       "log_Item_MRP                 float64\n",
       "log_Item_Outlet_Sales        float64\n",
       "log_Item_Visibility          float64\n",
       "source                        object\n",
       "dtype: object"
      ]
     },
     "execution_count": 211,
     "metadata": {},
     "output_type": "execute_result"
    }
   ],
   "source": [
    "data.dtypes"
   ]
  },
  {
   "cell_type": "code",
   "execution_count": 212,
   "metadata": {
    "collapsed": false
   },
   "outputs": [
    {
     "data": {
      "text/plain": [
       "Item_Fat_Content                 2\n",
       "Item_Identifier               1559\n",
       "Item_MRP                      8052\n",
       "Item_Outlet_Sales             3494\n",
       "Item_Type                       16\n",
       "Item_Visibility              13688\n",
       "Item_Weight                    575\n",
       "Outlet_Establishment_Year        9\n",
       "Outlet_Identifier               10\n",
       "Outlet_Location_Type             3\n",
       "Outlet_Size                      3\n",
       "Outlet_Type                      4\n",
       "Outlet_Years                     9\n",
       "log_Item_MRP                  8052\n",
       "log_Item_Outlet_Sales         3494\n",
       "log_Item_Visibility          13688\n",
       "source                           2\n",
       "dtype: int64"
      ]
     },
     "execution_count": 212,
     "metadata": {},
     "output_type": "execute_result"
    }
   ],
   "source": [
    "data.apply(lambda x: len(x.unique()))"
   ]
  },
  {
   "cell_type": "code",
   "execution_count": 6,
   "metadata": {
    "collapsed": false
   },
   "outputs": [
    {
     "data": {
      "text/plain": [
       "Item_Fat_Content                0\n",
       "Item_Identifier                 0\n",
       "Item_MRP                        0\n",
       "Item_Outlet_Sales            5681\n",
       "Item_Type                       0\n",
       "Item_Visibility                 0\n",
       "Item_Weight                     0\n",
       "Outlet_Establishment_Year       0\n",
       "Outlet_Identifier               0\n",
       "Outlet_Location_Type            0\n",
       "Outlet_Size                     0\n",
       "Outlet_Type                     0\n",
       "Outlet_Years                    0\n",
       "log_Item_MRP                    0\n",
       "log_Item_Outlet_Sales        5681\n",
       "log_Item_Visibility             0\n",
       "source                          0\n",
       "dtype: int64"
      ]
     },
     "execution_count": 6,
     "metadata": {},
     "output_type": "execute_result"
    }
   ],
   "source": [
    "data.apply(lambda x: sum(x.isnull()))"
   ]
  },
  {
   "cell_type": "code",
   "execution_count": 298,
   "metadata": {
    "collapsed": true
   },
   "outputs": [],
   "source": [
    "#Import library:\n",
    "from sklearn.preprocessing import LabelEncoder\n",
    "le = LabelEncoder()\n",
    "#New variable for outlet\n",
    "#data['Outlet'] = le.fit_transform(data['Outlet_Identifier'])\n",
    "var_mod = ['Item_Fat_Content','Outlet_Location_Type','Outlet_Size','Item_Type','Outlet_Type']\n",
    "le = LabelEncoder()\n",
    "for i in var_mod:\n",
    "    data[i] = le.fit_transform(data[i])"
   ]
  },
  {
   "cell_type": "code",
   "execution_count": 299,
   "metadata": {
    "collapsed": true
   },
   "outputs": [],
   "source": [
    "#One Hot Coding:\n",
    "data = pd.get_dummies(data, columns=['Item_Fat_Content','Outlet_Location_Type','Outlet_Size','Item_Type','Outlet_Type'])"
   ]
  },
  {
   "cell_type": "code",
   "execution_count": 224,
   "metadata": {
    "collapsed": false
   },
   "outputs": [
    {
     "data": {
      "text/plain": [
       "Item_Identifier               object\n",
       "Item_MRP                     float64\n",
       "Item_Outlet_Sales            float64\n",
       "Item_Visibility              float64\n",
       "Item_Weight                  float64\n",
       "Outlet_Establishment_Year      int64\n",
       "Outlet_Identifier             object\n",
       "Outlet_Years                   int64\n",
       "log_Item_MRP                 float64\n",
       "log_Item_Outlet_Sales        float64\n",
       "log_Item_Visibility          float64\n",
       "source                        object\n",
       "Outlet                         int64\n",
       "Item_Fat_Content_0             uint8\n",
       "Item_Fat_Content_1             uint8\n",
       "Outlet_Location_Type_0         uint8\n",
       "Outlet_Location_Type_1         uint8\n",
       "Outlet_Location_Type_2         uint8\n",
       "Outlet_Size_0                  uint8\n",
       "Outlet_Size_1                  uint8\n",
       "Outlet_Size_2                  uint8\n",
       "Item_Type_0                    uint8\n",
       "Item_Type_1                    uint8\n",
       "Item_Type_2                    uint8\n",
       "Item_Type_3                    uint8\n",
       "Item_Type_4                    uint8\n",
       "Item_Type_5                    uint8\n",
       "Item_Type_6                    uint8\n",
       "Item_Type_7                    uint8\n",
       "Item_Type_8                    uint8\n",
       "Item_Type_9                    uint8\n",
       "Item_Type_10                   uint8\n",
       "Item_Type_11                   uint8\n",
       "Item_Type_12                   uint8\n",
       "Item_Type_13                   uint8\n",
       "Item_Type_14                   uint8\n",
       "Item_Type_15                   uint8\n",
       "Outlet_Type_0                  uint8\n",
       "Outlet_Type_1                  uint8\n",
       "Outlet_Type_2                  uint8\n",
       "Outlet_Type_3                  uint8\n",
       "dtype: object"
      ]
     },
     "execution_count": 224,
     "metadata": {},
     "output_type": "execute_result"
    }
   ],
   "source": [
    "data.dtypes"
   ]
  },
  {
   "cell_type": "code",
   "execution_count": 14,
   "metadata": {
    "collapsed": false
   },
   "outputs": [
    {
     "data": {
      "text/plain": [
       "Index(['Item_Fat_Content', 'Item_Identifier', 'Item_MRP', 'Item_Outlet_Sales',\n",
       "       'Item_Type', 'Item_Visibility', 'Item_Weight',\n",
       "       'Outlet_Establishment_Year', 'Outlet_Identifier',\n",
       "       'Outlet_Location_Type', 'Outlet_Size', 'Outlet_Type', 'Outlet_Years',\n",
       "       'log_Item_MRP', 'log_Item_Outlet_Sales', 'log_Item_Visibility',\n",
       "       'source'],\n",
       "      dtype='object')"
      ]
     },
     "execution_count": 14,
     "metadata": {},
     "output_type": "execute_result"
    }
   ],
   "source": [
    "train_data.columns"
   ]
  },
  {
   "cell_type": "code",
   "execution_count": 225,
   "metadata": {
    "collapsed": false
   },
   "outputs": [
    {
     "data": {
      "text/html": [
       "<div>\n",
       "<table border=\"1\" class=\"dataframe\">\n",
       "  <thead>\n",
       "    <tr style=\"text-align: right;\">\n",
       "      <th></th>\n",
       "      <th>Item_MRP</th>\n",
       "      <th>Item_Outlet_Sales</th>\n",
       "      <th>Item_Visibility</th>\n",
       "      <th>Item_Weight</th>\n",
       "      <th>Outlet_Establishment_Year</th>\n",
       "      <th>Outlet_Years</th>\n",
       "      <th>log_Item_MRP</th>\n",
       "      <th>log_Item_Outlet_Sales</th>\n",
       "      <th>log_Item_Visibility</th>\n",
       "    </tr>\n",
       "  </thead>\n",
       "  <tbody>\n",
       "    <tr>\n",
       "      <th>count</th>\n",
       "      <td>8523.000000</td>\n",
       "      <td>8523.000000</td>\n",
       "      <td>8523.000000</td>\n",
       "      <td>8523.000000</td>\n",
       "      <td>8523.000000</td>\n",
       "      <td>8523.000000</td>\n",
       "      <td>8523.000000</td>\n",
       "      <td>8523.000000</td>\n",
       "      <td>8523.000000</td>\n",
       "    </tr>\n",
       "    <tr>\n",
       "      <th>mean</th>\n",
       "      <td>140.992782</td>\n",
       "      <td>2181.288914</td>\n",
       "      <td>0.069941</td>\n",
       "      <td>12.873623</td>\n",
       "      <td>1997.831867</td>\n",
       "      <td>15.168133</td>\n",
       "      <td>4.828182</td>\n",
       "      <td>7.296540</td>\n",
       "      <td>-2.934017</td>\n",
       "    </tr>\n",
       "    <tr>\n",
       "      <th>std</th>\n",
       "      <td>62.275067</td>\n",
       "      <td>1706.499616</td>\n",
       "      <td>0.049856</td>\n",
       "      <td>4.645893</td>\n",
       "      <td>8.371760</td>\n",
       "      <td>8.371760</td>\n",
       "      <td>0.526097</td>\n",
       "      <td>1.017108</td>\n",
       "      <td>0.788970</td>\n",
       "    </tr>\n",
       "    <tr>\n",
       "      <th>min</th>\n",
       "      <td>31.290000</td>\n",
       "      <td>33.290000</td>\n",
       "      <td>0.003575</td>\n",
       "      <td>4.555000</td>\n",
       "      <td>1985.000000</td>\n",
       "      <td>4.000000</td>\n",
       "      <td>3.443299</td>\n",
       "      <td>3.505257</td>\n",
       "      <td>-5.633875</td>\n",
       "    </tr>\n",
       "    <tr>\n",
       "      <th>25%</th>\n",
       "      <td>93.826500</td>\n",
       "      <td>834.247400</td>\n",
       "      <td>0.031228</td>\n",
       "      <td>8.785000</td>\n",
       "      <td>1987.000000</td>\n",
       "      <td>9.000000</td>\n",
       "      <td>4.541447</td>\n",
       "      <td>6.726530</td>\n",
       "      <td>-3.466450</td>\n",
       "    </tr>\n",
       "    <tr>\n",
       "      <th>50%</th>\n",
       "      <td>143.012800</td>\n",
       "      <td>1794.331000</td>\n",
       "      <td>0.057249</td>\n",
       "      <td>12.600000</td>\n",
       "      <td>1999.000000</td>\n",
       "      <td>14.000000</td>\n",
       "      <td>4.962934</td>\n",
       "      <td>7.492388</td>\n",
       "      <td>-2.860347</td>\n",
       "    </tr>\n",
       "    <tr>\n",
       "      <th>75%</th>\n",
       "      <td>185.643700</td>\n",
       "      <td>3101.296400</td>\n",
       "      <td>0.097383</td>\n",
       "      <td>16.850000</td>\n",
       "      <td>2004.000000</td>\n",
       "      <td>26.000000</td>\n",
       "      <td>5.223829</td>\n",
       "      <td>8.039575</td>\n",
       "      <td>-2.329104</td>\n",
       "    </tr>\n",
       "    <tr>\n",
       "      <th>max</th>\n",
       "      <td>266.888400</td>\n",
       "      <td>13086.964800</td>\n",
       "      <td>0.328391</td>\n",
       "      <td>21.350000</td>\n",
       "      <td>2009.000000</td>\n",
       "      <td>28.000000</td>\n",
       "      <td>5.586831</td>\n",
       "      <td>9.479372</td>\n",
       "      <td>-1.113550</td>\n",
       "    </tr>\n",
       "  </tbody>\n",
       "</table>\n",
       "</div>"
      ],
      "text/plain": [
       "          Item_MRP  Item_Outlet_Sales  Item_Visibility  Item_Weight  \\\n",
       "count  8523.000000        8523.000000      8523.000000  8523.000000   \n",
       "mean    140.992782        2181.288914         0.069941    12.873623   \n",
       "std      62.275067        1706.499616         0.049856     4.645893   \n",
       "min      31.290000          33.290000         0.003575     4.555000   \n",
       "25%      93.826500         834.247400         0.031228     8.785000   \n",
       "50%     143.012800        1794.331000         0.057249    12.600000   \n",
       "75%     185.643700        3101.296400         0.097383    16.850000   \n",
       "max     266.888400       13086.964800         0.328391    21.350000   \n",
       "\n",
       "       Outlet_Establishment_Year  Outlet_Years  log_Item_MRP  \\\n",
       "count                8523.000000   8523.000000   8523.000000   \n",
       "mean                 1997.831867     15.168133      4.828182   \n",
       "std                     8.371760      8.371760      0.526097   \n",
       "min                  1985.000000      4.000000      3.443299   \n",
       "25%                  1987.000000      9.000000      4.541447   \n",
       "50%                  1999.000000     14.000000      4.962934   \n",
       "75%                  2004.000000     26.000000      5.223829   \n",
       "max                  2009.000000     28.000000      5.586831   \n",
       "\n",
       "       log_Item_Outlet_Sales  log_Item_Visibility  \n",
       "count            8523.000000          8523.000000  \n",
       "mean                7.296540            -2.934017  \n",
       "std                 1.017108             0.788970  \n",
       "min                 3.505257            -5.633875  \n",
       "25%                 6.726530            -3.466450  \n",
       "50%                 7.492388            -2.860347  \n",
       "75%                 8.039575            -2.329104  \n",
       "max                 9.479372            -1.113550  "
      ]
     },
     "execution_count": 225,
     "metadata": {},
     "output_type": "execute_result"
    }
   ],
   "source": [
    "train_data.describe()"
   ]
  },
  {
   "cell_type": "code",
   "execution_count": 226,
   "metadata": {
    "collapsed": false
   },
   "outputs": [
    {
     "data": {
      "text/html": [
       "<div>\n",
       "<table border=\"1\" class=\"dataframe\">\n",
       "  <thead>\n",
       "    <tr style=\"text-align: right;\">\n",
       "      <th></th>\n",
       "      <th>Item_Fat_Content_0</th>\n",
       "      <th>Item_Fat_Content_1</th>\n",
       "    </tr>\n",
       "  </thead>\n",
       "  <tbody>\n",
       "    <tr>\n",
       "      <th>0</th>\n",
       "      <td>1</td>\n",
       "      <td>0</td>\n",
       "    </tr>\n",
       "    <tr>\n",
       "      <th>1</th>\n",
       "      <td>0</td>\n",
       "      <td>1</td>\n",
       "    </tr>\n",
       "    <tr>\n",
       "      <th>2</th>\n",
       "      <td>1</td>\n",
       "      <td>0</td>\n",
       "    </tr>\n",
       "    <tr>\n",
       "      <th>3</th>\n",
       "      <td>0</td>\n",
       "      <td>1</td>\n",
       "    </tr>\n",
       "    <tr>\n",
       "      <th>4</th>\n",
       "      <td>1</td>\n",
       "      <td>0</td>\n",
       "    </tr>\n",
       "    <tr>\n",
       "      <th>5</th>\n",
       "      <td>0</td>\n",
       "      <td>1</td>\n",
       "    </tr>\n",
       "    <tr>\n",
       "      <th>6</th>\n",
       "      <td>0</td>\n",
       "      <td>1</td>\n",
       "    </tr>\n",
       "    <tr>\n",
       "      <th>7</th>\n",
       "      <td>1</td>\n",
       "      <td>0</td>\n",
       "    </tr>\n",
       "    <tr>\n",
       "      <th>8</th>\n",
       "      <td>0</td>\n",
       "      <td>1</td>\n",
       "    </tr>\n",
       "    <tr>\n",
       "      <th>9</th>\n",
       "      <td>0</td>\n",
       "      <td>1</td>\n",
       "    </tr>\n",
       "  </tbody>\n",
       "</table>\n",
       "</div>"
      ],
      "text/plain": [
       "   Item_Fat_Content_0  Item_Fat_Content_1\n",
       "0                   1                   0\n",
       "1                   0                   1\n",
       "2                   1                   0\n",
       "3                   0                   1\n",
       "4                   1                   0\n",
       "5                   0                   1\n",
       "6                   0                   1\n",
       "7                   1                   0\n",
       "8                   0                   1\n",
       "9                   0                   1"
      ]
     },
     "execution_count": 226,
     "metadata": {},
     "output_type": "execute_result"
    }
   ],
   "source": [
    "data[['Item_Fat_Content_0','Item_Fat_Content_1']].head(10)"
   ]
  },
  {
   "cell_type": "code",
   "execution_count": 300,
   "metadata": {
    "collapsed": false
   },
   "outputs": [],
   "source": [
    "data.drop(['Outlet_Establishment_Year'],axis=1,inplace=True)"
   ]
  },
  {
   "cell_type": "code",
   "execution_count": 301,
   "metadata": {
    "collapsed": false
   },
   "outputs": [],
   "source": [
    "train = data[data['source']==\"train\"]\n",
    "test = data[data['source']==\"test\"]"
   ]
  },
  {
   "cell_type": "code",
   "execution_count": 302,
   "metadata": {
    "collapsed": false
   },
   "outputs": [
    {
     "data": {
      "text/plain": [
       "((5681, 39), (8523, 39))"
      ]
     },
     "execution_count": 302,
     "metadata": {},
     "output_type": "execute_result"
    }
   ],
   "source": [
    "test.shape , train.shape"
   ]
  },
  {
   "cell_type": "code",
   "execution_count": 303,
   "metadata": {
    "collapsed": false
   },
   "outputs": [
    {
     "name": "stderr",
     "output_type": "stream",
     "text": [
      "C:\\ProgramData\\Anaconda3\\lib\\site-packages\\ipykernel\\__main__.py:1: SettingWithCopyWarning: \n",
      "A value is trying to be set on a copy of a slice from a DataFrame\n",
      "\n",
      "See the caveats in the documentation: http://pandas.pydata.org/pandas-docs/stable/indexing.html#indexing-view-versus-copy\n",
      "  if __name__ == '__main__':\n",
      "C:\\ProgramData\\Anaconda3\\lib\\site-packages\\ipykernel\\__main__.py:2: SettingWithCopyWarning: \n",
      "A value is trying to be set on a copy of a slice from a DataFrame\n",
      "\n",
      "See the caveats in the documentation: http://pandas.pydata.org/pandas-docs/stable/indexing.html#indexing-view-versus-copy\n",
      "  from ipykernel import kernelapp as app\n"
     ]
    }
   ],
   "source": [
    "test.drop(['log_Item_Outlet_Sales','Item_Outlet_Sales','source'],axis=1,inplace=True)\n",
    "train.drop(['source'],axis=1,inplace=True)"
   ]
  },
  {
   "cell_type": "code",
   "execution_count": 304,
   "metadata": {
    "collapsed": false
   },
   "outputs": [
    {
     "data": {
      "text/plain": [
       "((5681, 36), (8523, 38))"
      ]
     },
     "execution_count": 304,
     "metadata": {},
     "output_type": "execute_result"
    }
   ],
   "source": [
    "test.shape , train.shape"
   ]
  },
  {
   "cell_type": "code",
   "execution_count": 234,
   "metadata": {
    "collapsed": false
   },
   "outputs": [
    {
     "data": {
      "text/plain": [
       "Index(['Item_Identifier', 'Item_MRP', 'Item_Outlet_Sales', 'Item_Visibility',\n",
       "       'Item_Weight', 'Outlet_Identifier', 'Outlet_Years', 'log_Item_MRP',\n",
       "       'log_Item_Outlet_Sales', 'log_Item_Visibility', 'source', 'Outlet',\n",
       "       'Item_Fat_Content_0', 'Item_Fat_Content_1', 'Outlet_Location_Type_0',\n",
       "       'Outlet_Location_Type_1', 'Outlet_Location_Type_2', 'Outlet_Size_0',\n",
       "       'Outlet_Size_1', 'Outlet_Size_2', 'Item_Type_0', 'Item_Type_1',\n",
       "       'Item_Type_2', 'Item_Type_3', 'Item_Type_4', 'Item_Type_5',\n",
       "       'Item_Type_6', 'Item_Type_7', 'Item_Type_8', 'Item_Type_9',\n",
       "       'Item_Type_10', 'Item_Type_11', 'Item_Type_12', 'Item_Type_13',\n",
       "       'Item_Type_14', 'Item_Type_15', 'Outlet_Type_0', 'Outlet_Type_1',\n",
       "       'Outlet_Type_2', 'Outlet_Type_3'],\n",
       "      dtype='object')"
      ]
     },
     "execution_count": 234,
     "metadata": {},
     "output_type": "execute_result"
    }
   ],
   "source": [
    "test.columns"
   ]
  },
  {
   "cell_type": "code",
   "execution_count": 233,
   "metadata": {
    "collapsed": false
   },
   "outputs": [
    {
     "data": {
      "text/plain": [
       "Index(['Item_Identifier', 'Item_MRP', 'Item_Outlet_Sales', 'Item_Visibility',\n",
       "       'Item_Weight', 'Outlet_Identifier', 'Outlet_Years', 'log_Item_MRP',\n",
       "       'log_Item_Outlet_Sales', 'log_Item_Visibility', 'source', 'Outlet',\n",
       "       'Item_Fat_Content_0', 'Item_Fat_Content_1', 'Outlet_Location_Type_0',\n",
       "       'Outlet_Location_Type_1', 'Outlet_Location_Type_2', 'Outlet_Size_0',\n",
       "       'Outlet_Size_1', 'Outlet_Size_2', 'Item_Type_0', 'Item_Type_1',\n",
       "       'Item_Type_2', 'Item_Type_3', 'Item_Type_4', 'Item_Type_5',\n",
       "       'Item_Type_6', 'Item_Type_7', 'Item_Type_8', 'Item_Type_9',\n",
       "       'Item_Type_10', 'Item_Type_11', 'Item_Type_12', 'Item_Type_13',\n",
       "       'Item_Type_14', 'Item_Type_15', 'Outlet_Type_0', 'Outlet_Type_1',\n",
       "       'Outlet_Type_2', 'Outlet_Type_3'],\n",
       "      dtype='object')"
      ]
     },
     "execution_count": 233,
     "metadata": {},
     "output_type": "execute_result"
    }
   ],
   "source": [
    "train.columns"
   ]
  },
  {
   "cell_type": "code",
   "execution_count": 277,
   "metadata": {
    "collapsed": false
   },
   "outputs": [
    {
     "name": "stderr",
     "output_type": "stream",
     "text": [
      "C:\\ProgramData\\Anaconda3\\lib\\site-packages\\ipykernel\\__main__.py:1: SettingWithCopyWarning: \n",
      "A value is trying to be set on a copy of a slice from a DataFrame\n",
      "\n",
      "See the caveats in the documentation: http://pandas.pydata.org/pandas-docs/stable/indexing.html#indexing-view-versus-copy\n",
      "  if __name__ == '__main__':\n"
     ]
    }
   ],
   "source": [
    "train.drop(['Diff'],axis=1,inplace=True)"
   ]
  },
  {
   "cell_type": "code",
   "execution_count": 285,
   "metadata": {
    "collapsed": false
   },
   "outputs": [],
   "source": [
    "from sklearn.model_selection import cross_val_score\n",
    "from sklearn import metrics\n",
    "%matplotlib inline\n",
    "import matplotlib.pyplot as plt \n",
    "\n",
    "def modelfit(alg, dtrain, dtest, predictors, target, IDcol, filename):\n",
    "    #Fit the algorithm on the data\n",
    "    alg.fit(dtrain[predictors], dtrain[target])\n",
    "        \n",
    "    #Predict training set:\n",
    "    dtrain_predictions = alg.predict(dtrain[predictors])\n",
    "\n",
    "    #Perform cross-validation:\n",
    "    cv_score = cross_val_score(alg, dtrain[predictors], dtrain[target], cv=5, scoring='neg_mean_squared_error')\n",
    "    cv_score = np.sqrt(np.abs( cv_score))\n",
    "    \n",
    "    #print('target '+target)\n",
    "    \n",
    "    print('predictors '+str(predictors))\n",
    "        \n",
    "    #Print model report:\n",
    "    print (\"\\nModel Report\")\n",
    "    print (\"RMSE : %.4g\" % np.sqrt(metrics.mean_squared_error(dtrain[target].values, dtrain_predictions)))\n",
    "    #dtrain['Diff'] = dtrain_predictions - dtrain[target].values\n",
    "    print (\"EXP RMSE : %.4g\" % np.sqrt(metrics.mean_squared_error(np.exp(dtrain[target].values), np.exp(dtrain_predictions))))\n",
    "    print (\"CV Score : Mean - %.4g | Std - %.4g | Min - %.4g | Max - %.4g\" % (np.mean(cv_score),np.std(cv_score),np.min(cv_score),np.max(cv_score)))\n",
    "    \n",
    "    #plt.scatter(dtrain[target].values, dtrain_predictions,  color='black')\n",
    "    \n",
    "    #plt.plot(dtrain[target].values - dtrain_predictions , color='blue',linewidth=3)\n",
    "    \n",
    "    #Predict on testing data:\n",
    "    \n",
    "    dtest_predictions = alg.predict(dtest[predictors])\n",
    "    dtest[target] = dtest_predictions\n",
    "    dtest['Item_Outlet_Sales'] = np.exp(dtest_predictions)\n",
    "    #Export submission file:\n",
    "    #IDcol = IDcol.append(target)\n",
    "    \n",
    "    #print(dtest[IDcol])\n",
    "    \n",
    "    IDcol.append(\"Item_Outlet_Sales\")\n",
    "    #print(IDcol)\n",
    "    \n",
    "    submission = pd.DataFrame({ x: dtest[x] for x in IDcol})\n",
    "    submission.to_csv(filename, index=False)"
   ]
  },
  {
   "cell_type": "code",
   "execution_count": 311,
   "metadata": {
    "collapsed": false
   },
   "outputs": [
    {
     "name": "stdout",
     "output_type": "stream",
     "text": [
      "predictors ['Item_Visibility', 'Item_Weight', 'Outlet_Years', 'log_Item_MRP', 'log_Item_Visibility', 'Item_Fat_Content_0', 'Item_Fat_Content_1', 'Outlet_Location_Type_0', 'Outlet_Location_Type_1', 'Outlet_Location_Type_2', 'Outlet_Size_0', 'Outlet_Size_1', 'Outlet_Size_2', 'Item_Type_0', 'Item_Type_1', 'Item_Type_2', 'Item_Type_3', 'Item_Type_4', 'Item_Type_5', 'Item_Type_6', 'Item_Type_7', 'Item_Type_8', 'Item_Type_9', 'Item_Type_10', 'Item_Type_11', 'Item_Type_12', 'Item_Type_13', 'Item_Type_14', 'Item_Type_15', 'Outlet_Type_0', 'Outlet_Type_1', 'Outlet_Type_2', 'Outlet_Type_3']\n",
      "\n",
      "Model Report\n",
      "RMSE : 0.5167\n",
      "EXP RMSE : 1101\n",
      "CV Score : Mean - 0.5187 | Std - 0.007682 | Min - 0.5084 | Max - 0.5276\n"
     ]
    },
    {
     "name": "stderr",
     "output_type": "stream",
     "text": [
      "C:\\ProgramData\\Anaconda3\\lib\\site-packages\\ipykernel\\__main__.py:35: SettingWithCopyWarning: \n",
      "A value is trying to be set on a copy of a slice from a DataFrame.\n",
      "Try using .loc[row_indexer,col_indexer] = value instead\n",
      "\n",
      "See the caveats in the documentation: http://pandas.pydata.org/pandas-docs/stable/indexing.html#indexing-view-versus-copy\n",
      "C:\\ProgramData\\Anaconda3\\lib\\site-packages\\ipykernel\\__main__.py:36: SettingWithCopyWarning: \n",
      "A value is trying to be set on a copy of a slice from a DataFrame.\n",
      "Try using .loc[row_indexer,col_indexer] = value instead\n",
      "\n",
      "See the caveats in the documentation: http://pandas.pydata.org/pandas-docs/stable/indexing.html#indexing-view-versus-copy\n"
     ]
    },
    {
     "data": {
      "image/png": "[encoded data removed]",
      "text/plain": [
       "<matplotlib.figure.Figure at 0x21ed24d37b8>"
      ]
     },
     "metadata": {},
     "output_type": "display_data"
    }
   ],
   "source": [
    "from sklearn.linear_model import LinearRegression, Ridge, Lasso\n",
    "\n",
    "target = 'log_Item_Outlet_Sales'\n",
    "IDcol = ['Item_Identifier','Outlet_Identifier']\n",
    "removeColumn = ['Item_MRP' , 'Item_Outlet_Sales' , 'log_Item_Outlet_Sales' ,  'Outlet_Establishment_Year' ,'Outlet' ]\n",
    "predictors = [x for x in train.columns if x not in [target]+IDcol+removeColumn]\n",
    "# print predictors\n",
    "alg1 = LinearRegression(normalize=True)\n",
    "modelfit(alg1, train, test, predictors, target, IDcol, 'linear.csv')\n",
    "coef1 = pd.Series(alg1.coef_, predictors).sort_values()\n",
    "#print(coef1)\n",
    "#coef1.plot(kind='bar', title='Model Coefficients')"
   ]
  },
  {
   "cell_type": "code",
   "execution_count": 271,
   "metadata": {
    "collapsed": false
   },
   "outputs": [
    {
     "data": {
      "text/plain": [
       "count    8523.000000\n",
       "mean        0.000100\n",
       "std         0.516464\n",
       "min        -1.346035\n",
       "25%        -0.362941\n",
       "50%        -0.054361\n",
       "75%         0.277318\n",
       "max         2.112940\n",
       "Name: Diff, dtype: float64"
      ]
     },
     "execution_count": 271,
     "metadata": {},
     "output_type": "execute_result"
    }
   ],
   "source": [
    "train['Diff'].describe()"
   ]
  },
  {
   "cell_type": "code",
   "execution_count": 267,
   "metadata": {
    "collapsed": false
   },
   "outputs": [
    {
     "name": "stdout",
     "output_type": "stream",
     "text": [
      "predictors ['Item_Visibility', 'Item_Weight', 'Outlet_Years', 'log_Item_MRP', 'log_Item_Visibility', 'Outlet', 'Item_Fat_Content_0', 'Item_Fat_Content_1', 'Outlet_Location_Type_0', 'Outlet_Location_Type_1', 'Outlet_Location_Type_2', 'Outlet_Size_0', 'Outlet_Size_1', 'Outlet_Size_2', 'Item_Type_0', 'Item_Type_1', 'Item_Type_2', 'Item_Type_3', 'Item_Type_4', 'Item_Type_5', 'Item_Type_6', 'Item_Type_7', 'Item_Type_8', 'Item_Type_9', 'Item_Type_10', 'Item_Type_11', 'Item_Type_12', 'Item_Type_13', 'Item_Type_14', 'Item_Type_15', 'Outlet_Type_0', 'Outlet_Type_1', 'Outlet_Type_2', 'Outlet_Type_3']\n",
      "\n",
      "Model Report\n",
      "RMSE : 0.5166\n",
      "EXP RMSE : 1101\n",
      "CV Score : Mean - 0.5185 | Std - 0.007467 | Min - 0.5083 | Max - 0.5265\n"
     ]
    },
    {
     "name": "stderr",
     "output_type": "stream",
     "text": [
      "C:\\ProgramData\\Anaconda3\\lib\\site-packages\\ipykernel\\__main__.py:28: SettingWithCopyWarning: \n",
      "A value is trying to be set on a copy of a slice from a DataFrame.\n",
      "Try using .loc[row_indexer,col_indexer] = value instead\n",
      "\n",
      "See the caveats in the documentation: http://pandas.pydata.org/pandas-docs/stable/indexing.html#indexing-view-versus-copy\n",
      "C:\\ProgramData\\Anaconda3\\lib\\site-packages\\ipykernel\\__main__.py:29: SettingWithCopyWarning: \n",
      "A value is trying to be set on a copy of a slice from a DataFrame.\n",
      "Try using .loc[row_indexer,col_indexer] = value instead\n",
      "\n",
      "See the caveats in the documentation: http://pandas.pydata.org/pandas-docs/stable/indexing.html#indexing-view-versus-copy\n"
     ]
    }
   ],
   "source": [
    "target = 'log_Item_Outlet_Sales'\n",
    "IDcol = ['Item_Identifier','Outlet_Identifier']\n",
    "removeColumn = ['Item_MRP' , 'Item_Outlet_Sales' , 'log_Item_Outlet_Sales' ,  'Outlet_Establishment_Year' , 'Outlet_Location_Type', 'Outlet_Size', 'Outlet_Type']\n",
    "predictors = [x for x in train.columns if x not in [target]+IDcol+removeColumn]\n",
    "alg2 = Ridge(alpha=0.001, normalize=True ,  fit_intercept=True, max_iter=100)\n",
    "modelfit(alg2, train, test, predictors, target, IDcol, 'Ridge.csv')\n",
    "coef1 = pd.Series(alg1.coef_, predictors).sort_values()\n",
    "#print(coef1)"
   ]
  },
  {
   "cell_type": "code",
   "execution_count": 326,
   "metadata": {
    "collapsed": false
   },
   "outputs": [
    {
     "name": "stdout",
     "output_type": "stream",
     "text": [
      "predictors ['Item_Visibility', 'Item_Weight', 'Outlet_Years', 'log_Item_MRP', 'log_Item_Visibility', 'Item_Fat_Content_0', 'Item_Fat_Content_1', 'Outlet_Location_Type_0', 'Outlet_Location_Type_1', 'Outlet_Location_Type_2', 'Outlet_Size_0', 'Outlet_Size_1', 'Outlet_Size_2', 'Item_Type_0', 'Item_Type_1', 'Item_Type_2', 'Item_Type_3', 'Item_Type_4', 'Item_Type_5', 'Item_Type_6', 'Item_Type_7', 'Item_Type_8', 'Item_Type_9', 'Item_Type_10', 'Item_Type_11', 'Item_Type_12', 'Item_Type_13', 'Item_Type_14', 'Item_Type_15', 'Outlet_Type_0', 'Outlet_Type_1', 'Outlet_Type_2', 'Outlet_Type_3']\n",
      "\n",
      "Model Report\n",
      "RMSE : 0.4815\n",
      "EXP RMSE : 1037\n",
      "CV Score : Mean - 0.5575 | Std - 0.01294 | Min - 0.5372 | Max - 0.5731\n"
     ]
    },
    {
     "name": "stderr",
     "output_type": "stream",
     "text": [
      "C:\\ProgramData\\Anaconda3\\lib\\site-packages\\ipykernel\\__main__.py:35: SettingWithCopyWarning: \n",
      "A value is trying to be set on a copy of a slice from a DataFrame.\n",
      "Try using .loc[row_indexer,col_indexer] = value instead\n",
      "\n",
      "See the caveats in the documentation: http://pandas.pydata.org/pandas-docs/stable/indexing.html#indexing-view-versus-copy\n",
      "C:\\ProgramData\\Anaconda3\\lib\\site-packages\\ipykernel\\__main__.py:36: SettingWithCopyWarning: \n",
      "A value is trying to be set on a copy of a slice from a DataFrame.\n",
      "Try using .loc[row_indexer,col_indexer] = value instead\n",
      "\n",
      "See the caveats in the documentation: http://pandas.pydata.org/pandas-docs/stable/indexing.html#indexing-view-versus-copy\n"
     ]
    },
    {
     "data": {
      "image/png": "[encoded data removed]",
      "text/plain": [
       "<matplotlib.figure.Figure at 0x21ed2485128>"
      ]
     },
     "metadata": {},
     "output_type": "display_data"
    }
   ],
   "source": [
    "target = 'log_Item_Outlet_Sales'\n",
    "IDcol = ['Item_Identifier','Outlet_Identifier']\n",
    "removeColumn = ['Item_MRP' , 'Item_Outlet_Sales' , 'log_Item_Outlet_Sales' ,  'Outlet_Establishment_Year' , 'Outlet_Location_Type', 'Outlet_Size', 'Outlet_Type']\n",
    "predictors = [x for x in train.columns if x not in [target]+IDcol+removeColumn]\n",
    "alg2 = DecisionTreeRegressor(max_depth = 20 , min_samples_split = 100)\n",
    "modelfit(alg2, train, test, predictors, target, IDcol, 'Ridge.csv')\n",
    "coef1 = pd.Series(alg1.coef_, predictors).sort_values()"
   ]
  },
  {
   "cell_type": "code",
   "execution_count": 335,
   "metadata": {
    "collapsed": false
   },
   "outputs": [],
   "source": [
    "from sklearn.model_selection import cross_val_score\n",
    "from sklearn import metrics\n",
    "%matplotlib inline\n",
    "import matplotlib.pyplot as plt \n",
    "from sklearn.grid_search import GridSearchCV\n",
    "\n",
    "def modelfitWithGridSearch(alg, dtrain, dtest, predictors, target, IDcol, filename , tuned_parameters):\n",
    "    #Fit the algorithm on the data\n",
    "    \n",
    "    clf = GridSearchCV(alg, tuned_parameters, cv=5, scoring='neg_mean_squared_error')\n",
    "    \n",
    "    clf.fit(dtrain[predictors], dtrain[target])\n",
    "    \n",
    "    print(\"Best parameters set found on development set:\")\n",
    "    print(clf.best_estimator_)\n",
    "    \n",
    "    print(\"Best Score\"+str(clf.best_score_))\n",
    "    #alg.fit(dtrain[predictors], dtrain[target])\n",
    "        \n",
    "    #Predict training set:\n",
    "    dtrain_predictions = clf.predict(dtrain[predictors])\n",
    "\n",
    "    #Perform cross-validation:\n",
    "    #cv_score = cross_val_score(alg, dtrain[predictors], dtrain[target], cv=5, scoring='neg_mean_squared_error')\n",
    "    #cv_score = np.sqrt(np.abs( cv_score))\n",
    "\n",
    "    #print('predictors '+str(predictors))\n",
    "        \n",
    "    #Print model report:\n",
    "    print (\"\\nModel Report\")\n",
    "   \n",
    "    print (\"RMSE : %.4g\" % np.sqrt(metrics.mean_squared_error(dtrain[target].values, dtrain_predictions)))\n",
    "    #dtrain['Diff'] = dtrain_predictions - dtrain[target].values\n",
    "    print (\"EXP RMSE : %.4g\" % np.sqrt(metrics.mean_squared_error(np.exp(dtrain[target].values), np.exp(dtrain_predictions))))\n",
    "    #print (\"CV Score : Mean - %.4g | Std - %.4g | Min - %.4g | Max - %.4g\" % (np.mean(cv_score),np.std(cv_score),np.min(cv_score),np.max(cv_score)))\n",
    "    print(\"Grid scores on development set:\")\n",
    "   \n",
    "    dtest_predictions = clf.predict(dtest[predictors])\n",
    "    dtest[target] = dtest_predictions\n",
    "    dtest['Item_Outlet_Sales'] = np.exp(dtest_predictions)\n",
    "    #IDcol = IDcol.append(target)\n",
    "    IDcol.append(\"Item_Outlet_Sales\")\n",
    "    submission = pd.DataFrame({ x: dtest[x] for x in IDcol})\n",
    "    submission.to_csv(filename, index=False)"
   ]
  },
  {
   "cell_type": "code",
   "execution_count": null,
   "metadata": {
    "collapsed": true
   },
   "outputs": [],
   "source": []
  },
  {
   "cell_type": "code",
   "execution_count": 336,
   "metadata": {
    "collapsed": false
   },
   "outputs": [
    {
     "name": "stdout",
     "output_type": "stream",
     "text": [
      "Best parameters set found on development set:\n",
      "DecisionTreeRegressor(criterion='mse', max_depth=10, max_features='auto',\n",
      "           max_leaf_nodes=20, min_impurity_split=1e-07,\n",
      "           min_samples_leaf=20, min_samples_split=100,\n",
      "           min_weight_fraction_leaf=0.0, presort=False, random_state=None,\n",
      "           splitter='best')\n",
      "Best Score-0.2797412118660776\n",
      "\n",
      "Model Report\n",
      "RMSE : 0.5206\n",
      "EXP RMSE : 1119\n",
      "Grid scores on development set:\n"
     ]
    },
    {
     "name": "stderr",
     "output_type": "stream",
     "text": [
      "C:\\ProgramData\\Anaconda3\\lib\\site-packages\\ipykernel\\__main__.py:39: SettingWithCopyWarning: \n",
      "A value is trying to be set on a copy of a slice from a DataFrame.\n",
      "Try using .loc[row_indexer,col_indexer] = value instead\n",
      "\n",
      "See the caveats in the documentation: http://pandas.pydata.org/pandas-docs/stable/indexing.html#indexing-view-versus-copy\n",
      "C:\\ProgramData\\Anaconda3\\lib\\site-packages\\ipykernel\\__main__.py:40: SettingWithCopyWarning: \n",
      "A value is trying to be set on a copy of a slice from a DataFrame.\n",
      "Try using .loc[row_indexer,col_indexer] = value instead\n",
      "\n",
      "See the caveats in the documentation: http://pandas.pydata.org/pandas-docs/stable/indexing.html#indexing-view-versus-copy\n"
     ]
    }
   ],
   "source": [
    "from sklearn.tree import DecisionTreeRegressor\n",
    "removeColumn = ['Item_MRP' , 'Item_Outlet_Sales' , 'log_Item_Outlet_Sales']\n",
    "predictors = [x for x in train.columns if x not in [target]+IDcol+removeColumn]\n",
    "\n",
    "param_grid = {\"criterion\": [\"mse\"],\n",
    "              \"min_samples_split\": [50 , 100 , 200],\n",
    "              \"max_depth\": [ 10 ,20 , 30],\n",
    "              \"min_samples_leaf\": [5, 10 , 20],\n",
    "              \"max_leaf_nodes\": [5, 10, 20],\n",
    "              \"max_features\" :['auto']\n",
    "              }\n",
    "\n",
    "alg3 = DecisionTreeRegressor()\n",
    "modelfitWithGridSearch(alg3, train, test, predictors, target, IDcol, 'Decision.csv' , param_grid)\n",
    "#coef3 = pd.Series(alg3.feature_importances_, predictors).sort_values(ascending=False)\n",
    "#coef3.plot(kind='bar', title='Feature Importances')"
   ]
  },
  {
   "cell_type": "code",
   "execution_count": null,
   "metadata": {
    "collapsed": true
   },
   "outputs": [],
   "source": []
  }
 ],
 "metadata": {
  "kernelspec": {
   "display_name": "Python 3",
   "language": "python",
   "name": "python3"
  },
  "language_info": {
   "codemirror_mode": {
    "name": "ipython",
    "version": 3
   },
   "file_extension": ".py",
   "mimetype": "text/x-python",
   "name": "python",
   "nbconvert_exporter": "python",
   "pygments_lexer": "ipython3",
   "version": "3.6.0"
  }
 },
 "nbformat": 4,
 "nbformat_minor": 2
}
