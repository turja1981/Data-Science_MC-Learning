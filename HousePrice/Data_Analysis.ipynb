{
 "cells": [
  {
   "cell_type": "code",
   "execution_count": 1,
   "metadata": {
    "collapsed": true
   },
   "outputs": [],
   "source": [
    "import numpy as np # linear algebra\n",
    "import pandas as pd # data processing, CSV file I/O (e.g. pd.read_csv)\n",
    "import matplotlib.pyplot as plt\n",
    "import seaborn as sns\n",
    "from sklearn import model_selection, preprocessing\n",
    "#import xgboost as xgb\n",
    "color = sns.color_palette()\n",
    "\n",
    "%matplotlib inline\n",
    "\n",
    "pd.options.mode.chained_assignment = None  # default='warn'\n",
    "pd.set_option('display.max_columns', 500)\n",
    "sns.set(style=\"white\", color_codes=True)"
   ]
  },
  {
   "cell_type": "code",
   "execution_count": 2,
   "metadata": {
    "collapsed": false
   },
   "outputs": [],
   "source": [
    "pd.set_option('display.max_rows' , 300)"
   ]
  },
  {
   "cell_type": "code",
   "execution_count": 3,
   "metadata": {
    "collapsed": true
   },
   "outputs": [],
   "source": [
    "#Load Data\n",
    "train_house_df = pd.read_csv('train.csv/train.csv')\n",
    "test_house_df = pd.read_csv('test.csv/test.csv')\n",
    "macro_df = pd.read_csv('macro.csv/macro.csv')"
   ]
  },
  {
   "cell_type": "code",
   "execution_count": 4,
   "metadata": {
    "collapsed": false
   },
   "outputs": [
    {
     "data": {
      "text/plain": [
       "(2484, 100)"
      ]
     },
     "execution_count": 4,
     "metadata": {},
     "output_type": "execute_result"
    }
   ],
   "source": [
    "macro_df.shape"
   ]
  },
  {
   "cell_type": "code",
   "execution_count": 5,
   "metadata": {
    "collapsed": false
   },
   "outputs": [
    {
     "data": {
      "text/plain": [
       "(30471, 292)"
      ]
     },
     "execution_count": 5,
     "metadata": {},
     "output_type": "execute_result"
    }
   ],
   "source": [
    "train_house_df.shape"
   ]
  },
  {
   "cell_type": "code",
   "execution_count": 6,
   "metadata": {
    "collapsed": false
   },
   "outputs": [
    {
     "data": {
      "text/plain": [
       "count    3.047100e+04\n",
       "mean     7.123035e+06\n",
       "std      4.780111e+06\n",
       "min      1.000000e+05\n",
       "25%      4.740002e+06\n",
       "50%      6.274411e+06\n",
       "75%      8.300000e+06\n",
       "max      1.111111e+08\n",
       "Name: price_doc, dtype: float64"
      ]
     },
     "execution_count": 6,
     "metadata": {},
     "output_type": "execute_result"
    }
   ],
   "source": [
    "train_house_df['price_doc'].describe()"
   ]
  },
  {
   "cell_type": "code",
   "execution_count": 7,
   "metadata": {
    "collapsed": false
   },
   "outputs": [
    {
     "data": {
      "text/plain": [
       "(7662, 291)"
      ]
     },
     "execution_count": 7,
     "metadata": {},
     "output_type": "execute_result"
    }
   ],
   "source": [
    "test_house_df.shape"
   ]
  },
  {
   "cell_type": "code",
   "execution_count": 8,
   "metadata": {
    "collapsed": false
   },
   "outputs": [
    {
     "name": "stdout",
     "output_type": "stream",
     "text": [
      "1\n",
      "14\n",
      "14\n",
      "1\n",
      "2\n",
      "9\n"
     ]
    }
   ],
   "source": [
    "print(len(train_house_df[train_house_df[\"floor\"]>50]))\n",
    "print(len(train_house_df[train_house_df[\"full_sq\"]>300]))\n",
    "print(len(train_house_df[train_house_df[\"life_sq\"]>200]))\n",
    "print(len(train_house_df[train_house_df[\"max_floor\"]>100]))\n",
    "print(len( train_house_df[train_house_df[\"num_room\"]>10]))\n",
    "print(len(train_house_df[train_house_df[\"kitch_sq\"]>100]))"
   ]
  },
  {
   "cell_type": "code",
   "execution_count": 9,
   "metadata": {
    "collapsed": false
   },
   "outputs": [],
   "source": [
    "train_house_df = train_house_df.drop(train_house_df.index[train_house_df[\"full_sq\"]>200])\n",
    "train_house_df = train_house_df.drop(train_house_df.index[train_house_df[\"life_sq\"]>200] )\n",
    "train_house_df = train_house_df.drop(train_house_df.index[train_house_df[\"floor\"]>50])\n",
    "train_house_df = train_house_df.drop(train_house_df.index[train_house_df[\"max_floor\"]>100] )\n",
    "train_house_df = train_house_df.drop(train_house_df.index[train_house_df[\"num_room\"]>10] )\n",
    "train_house_df = train_house_df.drop(train_house_df.index[train_house_df[\"kitch_sq\"]>100] )\n"
   ]
  },
  {
   "cell_type": "code",
   "execution_count": 10,
   "metadata": {
    "collapsed": false
   },
   "outputs": [
    {
     "name": "stdout",
     "output_type": "stream",
     "text": [
      "0\n",
      "0\n",
      "0\n",
      "0\n",
      "0\n",
      "0\n"
     ]
    }
   ],
   "source": [
    "print(len(train_house_df[train_house_df[\"floor\"]>50]))\n",
    "print(len(train_house_df[train_house_df[\"full_sq\"]>300]))\n",
    "print(len(train_house_df[train_house_df[\"life_sq\"]>200]))\n",
    "print(len(train_house_df[train_house_df[\"max_floor\"]>100]))\n",
    "print(len( train_house_df[train_house_df[\"num_room\"]>10]))\n",
    "print(len(train_house_df[train_house_df[\"kitch_sq\"]>100]))"
   ]
  },
  {
   "cell_type": "code",
   "execution_count": 11,
   "metadata": {
    "collapsed": false
   },
   "outputs": [
    {
     "data": {
      "text/plain": [
       "(30413, 292)"
      ]
     },
     "execution_count": 11,
     "metadata": {},
     "output_type": "execute_result"
    }
   ],
   "source": [
    "train_house_df.shape"
   ]
  },
  {
   "cell_type": "code",
   "execution_count": 12,
   "metadata": {
    "collapsed": false
   },
   "outputs": [
    {
     "data": {
      "text/plain": [
       "(7662, 291)"
      ]
     },
     "execution_count": 12,
     "metadata": {},
     "output_type": "execute_result"
    }
   ],
   "source": [
    "test_house_df.shape"
   ]
  },
  {
   "cell_type": "code",
   "execution_count": 93,
   "metadata": {
    "collapsed": true
   },
   "outputs": [],
   "source": [
    "label_df = train_house_df['price_doc']\n",
    "\n",
    "feature_df = train_house_df.drop(['price_doc'], axis=1 )\n",
    "\n",
    "merge_df = feature_df.append(test_house_df)\n",
    "\n",
    "imp_column=['full_sq' , 'life_sq' , 'floor' , 'max_floor' , 'num_room' , 'kitch_sq' , 'state' , 'build_year' , 'material']\n",
    "\n",
    "#merge_df[imp_column].describe()\n",
    "\n",
    "merge_df['build_year'][merge_df['build_year'] <= 1600]=2014\n",
    "\n",
    "merge_df['build_year'][merge_df['build_year'] > 2050]=2014\n",
    "\n",
    "merge_df['house_age'] = 2020  - merge_df['build_year']\n",
    "\n",
    "imp_column.append('house_age')\n"
   ]
  },
  {
   "cell_type": "code",
   "execution_count": 94,
   "metadata": {
    "collapsed": false
   },
   "outputs": [
    {
     "data": {
      "text/html": [
       "<div>\n",
       "<table border=\"1\" class=\"dataframe\">\n",
       "  <thead>\n",
       "    <tr style=\"text-align: right;\">\n",
       "      <th></th>\n",
       "      <th>full_sq</th>\n",
       "      <th>life_sq</th>\n",
       "      <th>floor</th>\n",
       "      <th>max_floor</th>\n",
       "      <th>num_room</th>\n",
       "      <th>kitch_sq</th>\n",
       "      <th>state</th>\n",
       "      <th>build_year</th>\n",
       "      <th>material</th>\n",
       "    </tr>\n",
       "  </thead>\n",
       "  <tbody>\n",
       "    <tr>\n",
       "      <th>count</th>\n",
       "      <td>30413.000000</td>\n",
       "      <td>24036.000000</td>\n",
       "      <td>30246.000000</td>\n",
       "      <td>20860.000000</td>\n",
       "      <td>20860.000000</td>\n",
       "      <td>20860.000000</td>\n",
       "      <td>16878.000000</td>\n",
       "      <td>1.683200e+04</td>\n",
       "      <td>20860.000000</td>\n",
       "    </tr>\n",
       "    <tr>\n",
       "      <th>mean</th>\n",
       "      <td>53.729885</td>\n",
       "      <td>33.815111</td>\n",
       "      <td>7.667096</td>\n",
       "      <td>12.552828</td>\n",
       "      <td>1.906136</td>\n",
       "      <td>5.962176</td>\n",
       "      <td>2.106944</td>\n",
       "      <td>3.070220e+03</td>\n",
       "      <td>1.825983</td>\n",
       "    </tr>\n",
       "    <tr>\n",
       "      <th>std</th>\n",
       "      <td>20.684685</td>\n",
       "      <td>18.459489</td>\n",
       "      <td>5.298543</td>\n",
       "      <td>6.708632</td>\n",
       "      <td>0.832723</td>\n",
       "      <td>4.802485</td>\n",
       "      <td>0.879812</td>\n",
       "      <td>1.545436e+05</td>\n",
       "      <td>1.480466</td>\n",
       "    </tr>\n",
       "    <tr>\n",
       "      <th>min</th>\n",
       "      <td>0.000000</td>\n",
       "      <td>0.000000</td>\n",
       "      <td>0.000000</td>\n",
       "      <td>0.000000</td>\n",
       "      <td>0.000000</td>\n",
       "      <td>0.000000</td>\n",
       "      <td>1.000000</td>\n",
       "      <td>0.000000e+00</td>\n",
       "      <td>1.000000</td>\n",
       "    </tr>\n",
       "    <tr>\n",
       "      <th>25%</th>\n",
       "      <td>38.000000</td>\n",
       "      <td>20.000000</td>\n",
       "      <td>3.000000</td>\n",
       "      <td>9.000000</td>\n",
       "      <td>1.000000</td>\n",
       "      <td>1.000000</td>\n",
       "      <td>1.000000</td>\n",
       "      <td>1.966000e+03</td>\n",
       "      <td>1.000000</td>\n",
       "    </tr>\n",
       "    <tr>\n",
       "      <th>50%</th>\n",
       "      <td>49.000000</td>\n",
       "      <td>30.000000</td>\n",
       "      <td>7.000000</td>\n",
       "      <td>12.000000</td>\n",
       "      <td>2.000000</td>\n",
       "      <td>6.000000</td>\n",
       "      <td>2.000000</td>\n",
       "      <td>1.979000e+03</td>\n",
       "      <td>1.000000</td>\n",
       "    </tr>\n",
       "    <tr>\n",
       "      <th>75%</th>\n",
       "      <td>63.000000</td>\n",
       "      <td>43.000000</td>\n",
       "      <td>11.000000</td>\n",
       "      <td>17.000000</td>\n",
       "      <td>2.000000</td>\n",
       "      <td>9.000000</td>\n",
       "      <td>3.000000</td>\n",
       "      <td>2.005000e+03</td>\n",
       "      <td>2.000000</td>\n",
       "    </tr>\n",
       "    <tr>\n",
       "      <th>max</th>\n",
       "      <td>199.000000</td>\n",
       "      <td>197.000000</td>\n",
       "      <td>44.000000</td>\n",
       "      <td>99.000000</td>\n",
       "      <td>10.000000</td>\n",
       "      <td>97.000000</td>\n",
       "      <td>33.000000</td>\n",
       "      <td>2.005201e+07</td>\n",
       "      <td>6.000000</td>\n",
       "    </tr>\n",
       "  </tbody>\n",
       "</table>\n",
       "</div>"
      ],
      "text/plain": [
       "            full_sq       life_sq         floor     max_floor      num_room  \\\n",
       "count  30413.000000  24036.000000  30246.000000  20860.000000  20860.000000   \n",
       "mean      53.729885     33.815111      7.667096     12.552828      1.906136   \n",
       "std       20.684685     18.459489      5.298543      6.708632      0.832723   \n",
       "min        0.000000      0.000000      0.000000      0.000000      0.000000   \n",
       "25%       38.000000     20.000000      3.000000      9.000000      1.000000   \n",
       "50%       49.000000     30.000000      7.000000     12.000000      2.000000   \n",
       "75%       63.000000     43.000000     11.000000     17.000000      2.000000   \n",
       "max      199.000000    197.000000     44.000000     99.000000     10.000000   \n",
       "\n",
       "           kitch_sq         state    build_year      material  \n",
       "count  20860.000000  16878.000000  1.683200e+04  20860.000000  \n",
       "mean       5.962176      2.106944  3.070220e+03      1.825983  \n",
       "std        4.802485      0.879812  1.545436e+05      1.480466  \n",
       "min        0.000000      1.000000  0.000000e+00      1.000000  \n",
       "25%        1.000000      1.000000  1.966000e+03      1.000000  \n",
       "50%        6.000000      2.000000  1.979000e+03      1.000000  \n",
       "75%        9.000000      3.000000  2.005000e+03      2.000000  \n",
       "max       97.000000     33.000000  2.005201e+07      6.000000  "
      ]
     },
     "execution_count": 94,
     "metadata": {},
     "output_type": "execute_result"
    }
   ],
   "source": [
    "train_house_df[['full_sq' , 'life_sq' , 'floor' , 'max_floor' , 'num_room' , 'kitch_sq' , 'state' , 'build_year' , 'material']].describe()"
   ]
  },
  {
   "cell_type": "code",
   "execution_count": 299,
   "metadata": {
    "collapsed": false
   },
   "outputs": [
    {
     "data": {
      "text/plain": [
       "2"
      ]
     },
     "execution_count": 299,
     "metadata": {},
     "output_type": "execute_result"
    }
   ],
   "source": [
    "train_house_df['full_sq'][train_house_df['full_sq']==0.000].count()"
   ]
  },
  {
   "cell_type": "code",
   "execution_count": 301,
   "metadata": {
    "collapsed": false
   },
   "outputs": [
    {
     "data": {
      "text/html": [
       "<div>\n",
       "<table border=\"1\" class=\"dataframe\">\n",
       "  <thead>\n",
       "    <tr style=\"text-align: right;\">\n",
       "      <th></th>\n",
       "      <th>id</th>\n",
       "      <th>timestamp</th>\n",
       "      <th>full_sq</th>\n",
       "      <th>life_sq</th>\n",
       "      <th>floor</th>\n",
       "      <th>max_floor</th>\n",
       "      <th>material</th>\n",
       "      <th>build_year</th>\n",
       "      <th>num_room</th>\n",
       "      <th>kitch_sq</th>\n",
       "      <th>state</th>\n",
       "      <th>product_type</th>\n",
       "      <th>sub_area</th>\n",
       "      <th>area_m</th>\n",
       "      <th>raion_popul</th>\n",
       "      <th>green_zone_part</th>\n",
       "      <th>indust_part</th>\n",
       "      <th>children_preschool</th>\n",
       "      <th>preschool_quota</th>\n",
       "      <th>preschool_education_centers_raion</th>\n",
       "      <th>children_school</th>\n",
       "      <th>school_quota</th>\n",
       "      <th>school_education_centers_raion</th>\n",
       "      <th>school_education_centers_top_20_raion</th>\n",
       "      <th>hospital_beds_raion</th>\n",
       "      <th>healthcare_centers_raion</th>\n",
       "      <th>university_top_20_raion</th>\n",
       "      <th>sport_objects_raion</th>\n",
       "      <th>additional_education_raion</th>\n",
       "      <th>culture_objects_top_25</th>\n",
       "      <th>culture_objects_top_25_raion</th>\n",
       "      <th>shopping_centers_raion</th>\n",
       "      <th>office_raion</th>\n",
       "      <th>thermal_power_plant_raion</th>\n",
       "      <th>incineration_raion</th>\n",
       "      <th>oil_chemistry_raion</th>\n",
       "      <th>radiation_raion</th>\n",
       "      <th>railroad_terminal_raion</th>\n",
       "      <th>big_market_raion</th>\n",
       "      <th>nuclear_reactor_raion</th>\n",
       "      <th>detention_facility_raion</th>\n",
       "      <th>full_all</th>\n",
       "      <th>male_f</th>\n",
       "      <th>female_f</th>\n",
       "      <th>young_all</th>\n",
       "      <th>young_male</th>\n",
       "      <th>young_female</th>\n",
       "      <th>work_all</th>\n",
       "      <th>work_male</th>\n",
       "      <th>work_female</th>\n",
       "      <th>ekder_all</th>\n",
       "      <th>ekder_male</th>\n",
       "      <th>ekder_female</th>\n",
       "      <th>0_6_all</th>\n",
       "      <th>0_6_male</th>\n",
       "      <th>0_6_female</th>\n",
       "      <th>7_14_all</th>\n",
       "      <th>7_14_male</th>\n",
       "      <th>7_14_female</th>\n",
       "      <th>0_17_all</th>\n",
       "      <th>0_17_male</th>\n",
       "      <th>0_17_female</th>\n",
       "      <th>16_29_all</th>\n",
       "      <th>16_29_male</th>\n",
       "      <th>16_29_female</th>\n",
       "      <th>0_13_all</th>\n",
       "      <th>0_13_male</th>\n",
       "      <th>0_13_female</th>\n",
       "      <th>raion_build_count_with_material_info</th>\n",
       "      <th>build_count_block</th>\n",
       "      <th>build_count_wood</th>\n",
       "      <th>build_count_frame</th>\n",
       "      <th>build_count_brick</th>\n",
       "      <th>build_count_monolith</th>\n",
       "      <th>build_count_panel</th>\n",
       "      <th>build_count_foam</th>\n",
       "      <th>build_count_slag</th>\n",
       "      <th>build_count_mix</th>\n",
       "      <th>raion_build_count_with_builddate_info</th>\n",
       "      <th>build_count_before_1920</th>\n",
       "      <th>build_count_1921-1945</th>\n",
       "      <th>build_count_1946-1970</th>\n",
       "      <th>build_count_1971-1995</th>\n",
       "      <th>build_count_after_1995</th>\n",
       "      <th>ID_metro</th>\n",
       "      <th>metro_min_avto</th>\n",
       "      <th>metro_km_avto</th>\n",
       "      <th>metro_min_walk</th>\n",
       "      <th>metro_km_walk</th>\n",
       "      <th>kindergarten_km</th>\n",
       "      <th>school_km</th>\n",
       "      <th>park_km</th>\n",
       "      <th>green_zone_km</th>\n",
       "      <th>industrial_km</th>\n",
       "      <th>water_treatment_km</th>\n",
       "      <th>cemetery_km</th>\n",
       "      <th>incineration_km</th>\n",
       "      <th>railroad_station_walk_km</th>\n",
       "      <th>railroad_station_walk_min</th>\n",
       "      <th>ID_railroad_station_walk</th>\n",
       "      <th>railroad_station_avto_km</th>\n",
       "      <th>railroad_station_avto_min</th>\n",
       "      <th>ID_railroad_station_avto</th>\n",
       "      <th>public_transport_station_km</th>\n",
       "      <th>public_transport_station_min_walk</th>\n",
       "      <th>water_km</th>\n",
       "      <th>water_1line</th>\n",
       "      <th>mkad_km</th>\n",
       "      <th>ttk_km</th>\n",
       "      <th>sadovoe_km</th>\n",
       "      <th>bulvar_ring_km</th>\n",
       "      <th>kremlin_km</th>\n",
       "      <th>big_road1_km</th>\n",
       "      <th>ID_big_road1</th>\n",
       "      <th>big_road1_1line</th>\n",
       "      <th>big_road2_km</th>\n",
       "      <th>ID_big_road2</th>\n",
       "      <th>railroad_km</th>\n",
       "      <th>railroad_1line</th>\n",
       "      <th>zd_vokzaly_avto_km</th>\n",
       "      <th>ID_railroad_terminal</th>\n",
       "      <th>bus_terminal_avto_km</th>\n",
       "      <th>ID_bus_terminal</th>\n",
       "      <th>oil_chemistry_km</th>\n",
       "      <th>nuclear_reactor_km</th>\n",
       "      <th>radiation_km</th>\n",
       "      <th>power_transmission_line_km</th>\n",
       "      <th>thermal_power_plant_km</th>\n",
       "      <th>ts_km</th>\n",
       "      <th>big_market_km</th>\n",
       "      <th>market_shop_km</th>\n",
       "      <th>fitness_km</th>\n",
       "      <th>swim_pool_km</th>\n",
       "      <th>ice_rink_km</th>\n",
       "      <th>stadium_km</th>\n",
       "      <th>basketball_km</th>\n",
       "      <th>hospice_morgue_km</th>\n",
       "      <th>detention_facility_km</th>\n",
       "      <th>public_healthcare_km</th>\n",
       "      <th>university_km</th>\n",
       "      <th>workplaces_km</th>\n",
       "      <th>shopping_centers_km</th>\n",
       "      <th>office_km</th>\n",
       "      <th>additional_education_km</th>\n",
       "      <th>preschool_km</th>\n",
       "      <th>big_church_km</th>\n",
       "      <th>church_synagogue_km</th>\n",
       "      <th>mosque_km</th>\n",
       "      <th>theater_km</th>\n",
       "      <th>museum_km</th>\n",
       "      <th>exhibition_km</th>\n",
       "      <th>catering_km</th>\n",
       "      <th>ecology</th>\n",
       "      <th>green_part_500</th>\n",
       "      <th>prom_part_500</th>\n",
       "      <th>office_count_500</th>\n",
       "      <th>office_sqm_500</th>\n",
       "      <th>trc_count_500</th>\n",
       "      <th>trc_sqm_500</th>\n",
       "      <th>cafe_count_500</th>\n",
       "      <th>cafe_sum_500_min_price_avg</th>\n",
       "      <th>cafe_sum_500_max_price_avg</th>\n",
       "      <th>cafe_avg_price_500</th>\n",
       "      <th>cafe_count_500_na_price</th>\n",
       "      <th>cafe_count_500_price_500</th>\n",
       "      <th>cafe_count_500_price_1000</th>\n",
       "      <th>cafe_count_500_price_1500</th>\n",
       "      <th>cafe_count_500_price_2500</th>\n",
       "      <th>cafe_count_500_price_4000</th>\n",
       "      <th>cafe_count_500_price_high</th>\n",
       "      <th>big_church_count_500</th>\n",
       "      <th>church_count_500</th>\n",
       "      <th>mosque_count_500</th>\n",
       "      <th>leisure_count_500</th>\n",
       "      <th>sport_count_500</th>\n",
       "      <th>market_count_500</th>\n",
       "      <th>green_part_1000</th>\n",
       "      <th>prom_part_1000</th>\n",
       "      <th>office_count_1000</th>\n",
       "      <th>office_sqm_1000</th>\n",
       "      <th>trc_count_1000</th>\n",
       "      <th>trc_sqm_1000</th>\n",
       "      <th>cafe_count_1000</th>\n",
       "      <th>cafe_sum_1000_min_price_avg</th>\n",
       "      <th>cafe_sum_1000_max_price_avg</th>\n",
       "      <th>cafe_avg_price_1000</th>\n",
       "      <th>cafe_count_1000_na_price</th>\n",
       "      <th>cafe_count_1000_price_500</th>\n",
       "      <th>cafe_count_1000_price_1000</th>\n",
       "      <th>cafe_count_1000_price_1500</th>\n",
       "      <th>cafe_count_1000_price_2500</th>\n",
       "      <th>cafe_count_1000_price_4000</th>\n",
       "      <th>cafe_count_1000_price_high</th>\n",
       "      <th>big_church_count_1000</th>\n",
       "      <th>church_count_1000</th>\n",
       "      <th>mosque_count_1000</th>\n",
       "      <th>leisure_count_1000</th>\n",
       "      <th>sport_count_1000</th>\n",
       "      <th>market_count_1000</th>\n",
       "      <th>green_part_1500</th>\n",
       "      <th>prom_part_1500</th>\n",
       "      <th>office_count_1500</th>\n",
       "      <th>office_sqm_1500</th>\n",
       "      <th>trc_count_1500</th>\n",
       "      <th>trc_sqm_1500</th>\n",
       "      <th>cafe_count_1500</th>\n",
       "      <th>cafe_sum_1500_min_price_avg</th>\n",
       "      <th>cafe_sum_1500_max_price_avg</th>\n",
       "      <th>cafe_avg_price_1500</th>\n",
       "      <th>cafe_count_1500_na_price</th>\n",
       "      <th>cafe_count_1500_price_500</th>\n",
       "      <th>cafe_count_1500_price_1000</th>\n",
       "      <th>cafe_count_1500_price_1500</th>\n",
       "      <th>cafe_count_1500_price_2500</th>\n",
       "      <th>cafe_count_1500_price_4000</th>\n",
       "      <th>cafe_count_1500_price_high</th>\n",
       "      <th>big_church_count_1500</th>\n",
       "      <th>church_count_1500</th>\n",
       "      <th>mosque_count_1500</th>\n",
       "      <th>leisure_count_1500</th>\n",
       "      <th>sport_count_1500</th>\n",
       "      <th>market_count_1500</th>\n",
       "      <th>green_part_2000</th>\n",
       "      <th>prom_part_2000</th>\n",
       "      <th>office_count_2000</th>\n",
       "      <th>office_sqm_2000</th>\n",
       "      <th>trc_count_2000</th>\n",
       "      <th>trc_sqm_2000</th>\n",
       "      <th>cafe_count_2000</th>\n",
       "      <th>cafe_sum_2000_min_price_avg</th>\n",
       "      <th>cafe_sum_2000_max_price_avg</th>\n",
       "      <th>cafe_avg_price_2000</th>\n",
       "      <th>cafe_count_2000_na_price</th>\n",
       "      <th>cafe_count_2000_price_500</th>\n",
       "      <th>cafe_count_2000_price_1000</th>\n",
       "      <th>cafe_count_2000_price_1500</th>\n",
       "      <th>cafe_count_2000_price_2500</th>\n",
       "      <th>cafe_count_2000_price_4000</th>\n",
       "      <th>cafe_count_2000_price_high</th>\n",
       "      <th>big_church_count_2000</th>\n",
       "      <th>church_count_2000</th>\n",
       "      <th>mosque_count_2000</th>\n",
       "      <th>leisure_count_2000</th>\n",
       "      <th>sport_count_2000</th>\n",
       "      <th>market_count_2000</th>\n",
       "      <th>green_part_3000</th>\n",
       "      <th>prom_part_3000</th>\n",
       "      <th>office_count_3000</th>\n",
       "      <th>office_sqm_3000</th>\n",
       "      <th>trc_count_3000</th>\n",
       "      <th>trc_sqm_3000</th>\n",
       "      <th>cafe_count_3000</th>\n",
       "      <th>cafe_sum_3000_min_price_avg</th>\n",
       "      <th>cafe_sum_3000_max_price_avg</th>\n",
       "      <th>cafe_avg_price_3000</th>\n",
       "      <th>cafe_count_3000_na_price</th>\n",
       "      <th>cafe_count_3000_price_500</th>\n",
       "      <th>cafe_count_3000_price_1000</th>\n",
       "      <th>cafe_count_3000_price_1500</th>\n",
       "      <th>cafe_count_3000_price_2500</th>\n",
       "      <th>cafe_count_3000_price_4000</th>\n",
       "      <th>cafe_count_3000_price_high</th>\n",
       "      <th>big_church_count_3000</th>\n",
       "      <th>church_count_3000</th>\n",
       "      <th>mosque_count_3000</th>\n",
       "      <th>leisure_count_3000</th>\n",
       "      <th>sport_count_3000</th>\n",
       "      <th>market_count_3000</th>\n",
       "      <th>green_part_5000</th>\n",
       "      <th>prom_part_5000</th>\n",
       "      <th>office_count_5000</th>\n",
       "      <th>office_sqm_5000</th>\n",
       "      <th>trc_count_5000</th>\n",
       "      <th>trc_sqm_5000</th>\n",
       "      <th>cafe_count_5000</th>\n",
       "      <th>cafe_sum_5000_min_price_avg</th>\n",
       "      <th>cafe_sum_5000_max_price_avg</th>\n",
       "      <th>cafe_avg_price_5000</th>\n",
       "      <th>cafe_count_5000_na_price</th>\n",
       "      <th>cafe_count_5000_price_500</th>\n",
       "      <th>cafe_count_5000_price_1000</th>\n",
       "      <th>cafe_count_5000_price_1500</th>\n",
       "      <th>cafe_count_5000_price_2500</th>\n",
       "      <th>cafe_count_5000_price_4000</th>\n",
       "      <th>cafe_count_5000_price_high</th>\n",
       "      <th>big_church_count_5000</th>\n",
       "      <th>church_count_5000</th>\n",
       "      <th>mosque_count_5000</th>\n",
       "      <th>leisure_count_5000</th>\n",
       "      <th>sport_count_5000</th>\n",
       "      <th>market_count_5000</th>\n",
       "    </tr>\n",
       "  </thead>\n",
       "  <tbody>\n",
       "    <tr>\n",
       "      <th>464</th>\n",
       "      <td>30938</td>\n",
       "      <td>2015-08-05</td>\n",
       "      <td>0.0</td>\n",
       "      <td>37.8</td>\n",
       "      <td>7</td>\n",
       "      <td>19</td>\n",
       "      <td>1</td>\n",
       "      <td>0.0</td>\n",
       "      <td>1</td>\n",
       "      <td>0.0</td>\n",
       "      <td>1.0</td>\n",
       "      <td>OwnerOccupier</td>\n",
       "      <td>Poselenie Shherbinka</td>\n",
       "      <td>7878765.473</td>\n",
       "      <td>32241</td>\n",
       "      <td>0.05707</td>\n",
       "      <td>0.211401</td>\n",
       "      <td>2041</td>\n",
       "      <td>NaN</td>\n",
       "      <td>0</td>\n",
       "      <td>1892</td>\n",
       "      <td>NaN</td>\n",
       "      <td>0</td>\n",
       "      <td>0</td>\n",
       "      <td>NaN</td>\n",
       "      <td>0</td>\n",
       "      <td>0</td>\n",
       "      <td>0</td>\n",
       "      <td>3</td>\n",
       "      <td>no</td>\n",
       "      <td>0</td>\n",
       "      <td>1</td>\n",
       "      <td>0</td>\n",
       "      <td>no</td>\n",
       "      <td>no</td>\n",
       "      <td>no</td>\n",
       "      <td>no</td>\n",
       "      <td>no</td>\n",
       "      <td>no</td>\n",
       "      <td>no</td>\n",
       "      <td>no</td>\n",
       "      <td>39873</td>\n",
       "      <td>18306</td>\n",
       "      <td>21567</td>\n",
       "      <td>4207</td>\n",
       "      <td>2168</td>\n",
       "      <td>2039</td>\n",
       "      <td>20445</td>\n",
       "      <td>10490</td>\n",
       "      <td>9955</td>\n",
       "      <td>7589</td>\n",
       "      <td>2090</td>\n",
       "      <td>5499</td>\n",
       "      <td>2041</td>\n",
       "      <td>1065</td>\n",
       "      <td>976</td>\n",
       "      <td>1892</td>\n",
       "      <td>953</td>\n",
       "      <td>939</td>\n",
       "      <td>4724</td>\n",
       "      <td>2441</td>\n",
       "      <td>2283</td>\n",
       "      <td>7467</td>\n",
       "      <td>3649</td>\n",
       "      <td>3818</td>\n",
       "      <td>3681</td>\n",
       "      <td>1894</td>\n",
       "      <td>1787</td>\n",
       "      <td>2.0</td>\n",
       "      <td>0.0</td>\n",
       "      <td>1.0</td>\n",
       "      <td>0.0</td>\n",
       "      <td>0.0</td>\n",
       "      <td>0.0</td>\n",
       "      <td>0.0</td>\n",
       "      <td>0.0</td>\n",
       "      <td>1.0</td>\n",
       "      <td>0.0</td>\n",
       "      <td>2.0</td>\n",
       "      <td>0.0</td>\n",
       "      <td>0.0</td>\n",
       "      <td>2.0</td>\n",
       "      <td>0.0</td>\n",
       "      <td>0.0</td>\n",
       "      <td>45</td>\n",
       "      <td>13.486605</td>\n",
       "      <td>7.452169</td>\n",
       "      <td>89.626403</td>\n",
       "      <td>7.468867</td>\n",
       "      <td>1.624732</td>\n",
       "      <td>3.545038</td>\n",
       "      <td>2.088126</td>\n",
       "      <td>0.013266</td>\n",
       "      <td>1.164123</td>\n",
       "      <td>2.721279</td>\n",
       "      <td>2.7377</td>\n",
       "      <td>12.63698</td>\n",
       "      <td>2.919158</td>\n",
       "      <td>35.0299</td>\n",
       "      <td>39.0</td>\n",
       "      <td>2.90246</td>\n",
       "      <td>7.671926</td>\n",
       "      <td>39</td>\n",
       "      <td>0.392616</td>\n",
       "      <td>4.711389</td>\n",
       "      <td>0.19883</td>\n",
       "      <td>no</td>\n",
       "      <td>9.248265</td>\n",
       "      <td>22.933801</td>\n",
       "      <td>26.124079</td>\n",
       "      <td>27.479111</td>\n",
       "      <td>28.151572</td>\n",
       "      <td>1.921731</td>\n",
       "      <td>2</td>\n",
       "      <td>no</td>\n",
       "      <td>4.373373</td>\n",
       "      <td>39</td>\n",
       "      <td>1.133269</td>\n",
       "      <td>no</td>\n",
       "      <td>29.502495</td>\n",
       "      <td>32</td>\n",
       "      <td>11.687548</td>\n",
       "      <td>9</td>\n",
       "      <td>23.812046</td>\n",
       "      <td>18.490563</td>\n",
       "      <td>9.849307</td>\n",
       "      <td>6.841845</td>\n",
       "      <td>10.524119</td>\n",
       "      <td>12.349194</td>\n",
       "      <td>21.418622</td>\n",
       "      <td>3.405386</td>\n",
       "      <td>2.972129</td>\n",
       "      <td>5.887086</td>\n",
       "      <td>13.909034</td>\n",
       "      <td>21.308799</td>\n",
       "      <td>12.347827</td>\n",
       "      <td>5.350455</td>\n",
       "      <td>27.281659</td>\n",
       "      <td>8.329413</td>\n",
       "      <td>23.14958</td>\n",
       "      <td>10.473497</td>\n",
       "      <td>0.557908</td>\n",
       "      <td>2.781995</td>\n",
       "      <td>1.404904</td>\n",
       "      <td>3.545038</td>\n",
       "      <td>4.228442</td>\n",
       "      <td>1.908842</td>\n",
       "      <td>5.410078</td>\n",
       "      <td>25.888122</td>\n",
       "      <td>15.867925</td>\n",
       "      <td>13.205145</td>\n",
       "      <td>1.32567</td>\n",
       "      <td>no data</td>\n",
       "      <td>19.92</td>\n",
       "      <td>0.0</td>\n",
       "      <td>0</td>\n",
       "      <td>0</td>\n",
       "      <td>0</td>\n",
       "      <td>0</td>\n",
       "      <td>0</td>\n",
       "      <td>NaN</td>\n",
       "      <td>NaN</td>\n",
       "      <td>NaN</td>\n",
       "      <td>0</td>\n",
       "      <td>0</td>\n",
       "      <td>0</td>\n",
       "      <td>0</td>\n",
       "      <td>0</td>\n",
       "      <td>0</td>\n",
       "      <td>0</td>\n",
       "      <td>0</td>\n",
       "      <td>0</td>\n",
       "      <td>0</td>\n",
       "      <td>0</td>\n",
       "      <td>0</td>\n",
       "      <td>0</td>\n",
       "      <td>7.26</td>\n",
       "      <td>0.0</td>\n",
       "      <td>0</td>\n",
       "      <td>0</td>\n",
       "      <td>1</td>\n",
       "      <td>175000</td>\n",
       "      <td>0</td>\n",
       "      <td>NaN</td>\n",
       "      <td>NaN</td>\n",
       "      <td>NaN</td>\n",
       "      <td>0</td>\n",
       "      <td>0</td>\n",
       "      <td>0</td>\n",
       "      <td>0</td>\n",
       "      <td>0</td>\n",
       "      <td>0</td>\n",
       "      <td>0</td>\n",
       "      <td>0</td>\n",
       "      <td>0</td>\n",
       "      <td>0</td>\n",
       "      <td>0</td>\n",
       "      <td>0</td>\n",
       "      <td>0</td>\n",
       "      <td>4.41</td>\n",
       "      <td>6.97</td>\n",
       "      <td>0</td>\n",
       "      <td>0</td>\n",
       "      <td>1</td>\n",
       "      <td>175000</td>\n",
       "      <td>1</td>\n",
       "      <td>300.0</td>\n",
       "      <td>500.0</td>\n",
       "      <td>400.0</td>\n",
       "      <td>0</td>\n",
       "      <td>1</td>\n",
       "      <td>0</td>\n",
       "      <td>0</td>\n",
       "      <td>0</td>\n",
       "      <td>0</td>\n",
       "      <td>0</td>\n",
       "      <td>0</td>\n",
       "      <td>0</td>\n",
       "      <td>0</td>\n",
       "      <td>0</td>\n",
       "      <td>0</td>\n",
       "      <td>1</td>\n",
       "      <td>3.29</td>\n",
       "      <td>14.84</td>\n",
       "      <td>0</td>\n",
       "      <td>0</td>\n",
       "      <td>1</td>\n",
       "      <td>175000</td>\n",
       "      <td>1</td>\n",
       "      <td>300.0</td>\n",
       "      <td>500.0</td>\n",
       "      <td>400.0</td>\n",
       "      <td>0</td>\n",
       "      <td>1</td>\n",
       "      <td>0</td>\n",
       "      <td>0</td>\n",
       "      <td>0</td>\n",
       "      <td>0</td>\n",
       "      <td>0</td>\n",
       "      <td>0</td>\n",
       "      <td>1</td>\n",
       "      <td>0</td>\n",
       "      <td>0</td>\n",
       "      <td>0</td>\n",
       "      <td>1</td>\n",
       "      <td>4.73</td>\n",
       "      <td>13.05</td>\n",
       "      <td>4</td>\n",
       "      <td>63808</td>\n",
       "      <td>1</td>\n",
       "      <td>175000</td>\n",
       "      <td>4</td>\n",
       "      <td>533.33</td>\n",
       "      <td>833.33</td>\n",
       "      <td>683.33</td>\n",
       "      <td>1</td>\n",
       "      <td>2</td>\n",
       "      <td>0</td>\n",
       "      <td>1</td>\n",
       "      <td>0</td>\n",
       "      <td>0</td>\n",
       "      <td>0</td>\n",
       "      <td>0</td>\n",
       "      <td>3</td>\n",
       "      <td>0</td>\n",
       "      <td>0</td>\n",
       "      <td>2</td>\n",
       "      <td>1</td>\n",
       "      <td>10.51</td>\n",
       "      <td>6.35</td>\n",
       "      <td>4</td>\n",
       "      <td>63808</td>\n",
       "      <td>1</td>\n",
       "      <td>175000</td>\n",
       "      <td>7</td>\n",
       "      <td>850.0</td>\n",
       "      <td>1333.33</td>\n",
       "      <td>1091.67</td>\n",
       "      <td>1</td>\n",
       "      <td>2</td>\n",
       "      <td>0</td>\n",
       "      <td>3</td>\n",
       "      <td>1</td>\n",
       "      <td>0</td>\n",
       "      <td>0</td>\n",
       "      <td>1</td>\n",
       "      <td>6</td>\n",
       "      <td>0</td>\n",
       "      <td>0</td>\n",
       "      <td>6</td>\n",
       "      <td>1</td>\n",
       "    </tr>\n",
       "  </tbody>\n",
       "</table>\n",
       "</div>"
      ],
      "text/plain": [
       "        id   timestamp  full_sq  life_sq  floor  max_floor  material  \\\n",
       "464  30938  2015-08-05      0.0     37.8      7         19         1   \n",
       "\n",
       "     build_year  num_room  kitch_sq  state   product_type  \\\n",
       "464         0.0         1       0.0    1.0  OwnerOccupier   \n",
       "\n",
       "                 sub_area       area_m  raion_popul  green_zone_part  \\\n",
       "464  Poselenie Shherbinka  7878765.473        32241          0.05707   \n",
       "\n",
       "     indust_part  children_preschool  preschool_quota  \\\n",
       "464     0.211401                2041              NaN   \n",
       "\n",
       "     preschool_education_centers_raion  children_school  school_quota  \\\n",
       "464                                  0             1892           NaN   \n",
       "\n",
       "     school_education_centers_raion  school_education_centers_top_20_raion  \\\n",
       "464                               0                                      0   \n",
       "\n",
       "     hospital_beds_raion  healthcare_centers_raion  university_top_20_raion  \\\n",
       "464                  NaN                         0                        0   \n",
       "\n",
       "     sport_objects_raion  additional_education_raion culture_objects_top_25  \\\n",
       "464                    0                           3                     no   \n",
       "\n",
       "     culture_objects_top_25_raion  shopping_centers_raion  office_raion  \\\n",
       "464                             0                       1             0   \n",
       "\n",
       "    thermal_power_plant_raion incineration_raion oil_chemistry_raion  \\\n",
       "464                        no                 no                  no   \n",
       "\n",
       "    radiation_raion railroad_terminal_raion big_market_raion  \\\n",
       "464              no                      no               no   \n",
       "\n",
       "    nuclear_reactor_raion detention_facility_raion  full_all  male_f  \\\n",
       "464                    no                       no     39873   18306   \n",
       "\n",
       "     female_f  young_all  young_male  young_female  work_all  work_male  \\\n",
       "464     21567       4207        2168          2039     20445      10490   \n",
       "\n",
       "     work_female  ekder_all  ekder_male  ekder_female  0_6_all  0_6_male  \\\n",
       "464         9955       7589        2090          5499     2041      1065   \n",
       "\n",
       "     0_6_female  7_14_all  7_14_male  7_14_female  0_17_all  0_17_male  \\\n",
       "464         976      1892        953          939      4724       2441   \n",
       "\n",
       "     0_17_female  16_29_all  16_29_male  16_29_female  0_13_all  0_13_male  \\\n",
       "464         2283       7467        3649          3818      3681       1894   \n",
       "\n",
       "     0_13_female  raion_build_count_with_material_info  build_count_block  \\\n",
       "464         1787                                   2.0                0.0   \n",
       "\n",
       "     build_count_wood  build_count_frame  build_count_brick  \\\n",
       "464               1.0                0.0                0.0   \n",
       "\n",
       "     build_count_monolith  build_count_panel  build_count_foam  \\\n",
       "464                   0.0                0.0               0.0   \n",
       "\n",
       "     build_count_slag  build_count_mix  raion_build_count_with_builddate_info  \\\n",
       "464               1.0              0.0                                    2.0   \n",
       "\n",
       "     build_count_before_1920  build_count_1921-1945  build_count_1946-1970  \\\n",
       "464                      0.0                    0.0                    2.0   \n",
       "\n",
       "     build_count_1971-1995  build_count_after_1995  ID_metro  metro_min_avto  \\\n",
       "464                    0.0                     0.0        45       13.486605   \n",
       "\n",
       "     metro_km_avto  metro_min_walk  metro_km_walk  kindergarten_km  school_km  \\\n",
       "464       7.452169       89.626403       7.468867         1.624732   3.545038   \n",
       "\n",
       "      park_km  green_zone_km  industrial_km  water_treatment_km  cemetery_km  \\\n",
       "464  2.088126       0.013266       1.164123            2.721279       2.7377   \n",
       "\n",
       "     incineration_km  railroad_station_walk_km  railroad_station_walk_min  \\\n",
       "464         12.63698                  2.919158                    35.0299   \n",
       "\n",
       "     ID_railroad_station_walk  railroad_station_avto_km  \\\n",
       "464                      39.0                   2.90246   \n",
       "\n",
       "     railroad_station_avto_min  ID_railroad_station_avto  \\\n",
       "464                   7.671926                        39   \n",
       "\n",
       "     public_transport_station_km  public_transport_station_min_walk  water_km  \\\n",
       "464                     0.392616                           4.711389   0.19883   \n",
       "\n",
       "    water_1line   mkad_km     ttk_km  sadovoe_km  bulvar_ring_km  kremlin_km  \\\n",
       "464          no  9.248265  22.933801   26.124079       27.479111   28.151572   \n",
       "\n",
       "     big_road1_km  ID_big_road1 big_road1_1line  big_road2_km  ID_big_road2  \\\n",
       "464      1.921731             2              no      4.373373            39   \n",
       "\n",
       "     railroad_km railroad_1line  zd_vokzaly_avto_km  ID_railroad_terminal  \\\n",
       "464     1.133269             no           29.502495                    32   \n",
       "\n",
       "     bus_terminal_avto_km  ID_bus_terminal  oil_chemistry_km  \\\n",
       "464             11.687548                9         23.812046   \n",
       "\n",
       "     nuclear_reactor_km  radiation_km  power_transmission_line_km  \\\n",
       "464           18.490563      9.849307                    6.841845   \n",
       "\n",
       "     thermal_power_plant_km      ts_km  big_market_km  market_shop_km  \\\n",
       "464               10.524119  12.349194      21.418622        3.405386   \n",
       "\n",
       "     fitness_km  swim_pool_km  ice_rink_km  stadium_km  basketball_km  \\\n",
       "464    2.972129      5.887086    13.909034   21.308799      12.347827   \n",
       "\n",
       "     hospice_morgue_km  detention_facility_km  public_healthcare_km  \\\n",
       "464           5.350455              27.281659              8.329413   \n",
       "\n",
       "     university_km  workplaces_km  shopping_centers_km  office_km  \\\n",
       "464       23.14958      10.473497             0.557908   2.781995   \n",
       "\n",
       "     additional_education_km  preschool_km  big_church_km  \\\n",
       "464                 1.404904      3.545038       4.228442   \n",
       "\n",
       "     church_synagogue_km  mosque_km  theater_km  museum_km  exhibition_km  \\\n",
       "464             1.908842   5.410078   25.888122  15.867925      13.205145   \n",
       "\n",
       "     catering_km  ecology  green_part_500  prom_part_500  office_count_500  \\\n",
       "464      1.32567  no data           19.92            0.0                 0   \n",
       "\n",
       "     office_sqm_500  trc_count_500  trc_sqm_500  cafe_count_500  \\\n",
       "464               0              0            0               0   \n",
       "\n",
       "     cafe_sum_500_min_price_avg  cafe_sum_500_max_price_avg  \\\n",
       "464                         NaN                         NaN   \n",
       "\n",
       "     cafe_avg_price_500  cafe_count_500_na_price  cafe_count_500_price_500  \\\n",
       "464                 NaN                        0                         0   \n",
       "\n",
       "     cafe_count_500_price_1000  cafe_count_500_price_1500  \\\n",
       "464                          0                          0   \n",
       "\n",
       "     cafe_count_500_price_2500  cafe_count_500_price_4000  \\\n",
       "464                          0                          0   \n",
       "\n",
       "     cafe_count_500_price_high  big_church_count_500  church_count_500  \\\n",
       "464                          0                     0                 0   \n",
       "\n",
       "     mosque_count_500  leisure_count_500  sport_count_500  market_count_500  \\\n",
       "464                 0                  0                0                 0   \n",
       "\n",
       "     green_part_1000  prom_part_1000  office_count_1000  office_sqm_1000  \\\n",
       "464             7.26             0.0                  0                0   \n",
       "\n",
       "     trc_count_1000  trc_sqm_1000  cafe_count_1000  \\\n",
       "464               1        175000                0   \n",
       "\n",
       "     cafe_sum_1000_min_price_avg  cafe_sum_1000_max_price_avg  \\\n",
       "464                          NaN                          NaN   \n",
       "\n",
       "     cafe_avg_price_1000  cafe_count_1000_na_price  cafe_count_1000_price_500  \\\n",
       "464                  NaN                         0                          0   \n",
       "\n",
       "     cafe_count_1000_price_1000  cafe_count_1000_price_1500  \\\n",
       "464                           0                           0   \n",
       "\n",
       "     cafe_count_1000_price_2500  cafe_count_1000_price_4000  \\\n",
       "464                           0                           0   \n",
       "\n",
       "     cafe_count_1000_price_high  big_church_count_1000  church_count_1000  \\\n",
       "464                           0                      0                  0   \n",
       "\n",
       "     mosque_count_1000  leisure_count_1000  sport_count_1000  \\\n",
       "464                  0                   0                 0   \n",
       "\n",
       "     market_count_1000  green_part_1500  prom_part_1500  office_count_1500  \\\n",
       "464                  0             4.41            6.97                  0   \n",
       "\n",
       "     office_sqm_1500  trc_count_1500  trc_sqm_1500  cafe_count_1500  \\\n",
       "464                0               1        175000                1   \n",
       "\n",
       "     cafe_sum_1500_min_price_avg  cafe_sum_1500_max_price_avg  \\\n",
       "464                        300.0                        500.0   \n",
       "\n",
       "     cafe_avg_price_1500  cafe_count_1500_na_price  cafe_count_1500_price_500  \\\n",
       "464                400.0                         0                          1   \n",
       "\n",
       "     cafe_count_1500_price_1000  cafe_count_1500_price_1500  \\\n",
       "464                           0                           0   \n",
       "\n",
       "     cafe_count_1500_price_2500  cafe_count_1500_price_4000  \\\n",
       "464                           0                           0   \n",
       "\n",
       "     cafe_count_1500_price_high  big_church_count_1500  church_count_1500  \\\n",
       "464                           0                      0                  0   \n",
       "\n",
       "     mosque_count_1500  leisure_count_1500  sport_count_1500  \\\n",
       "464                  0                   0                 0   \n",
       "\n",
       "     market_count_1500  green_part_2000  prom_part_2000  office_count_2000  \\\n",
       "464                  1             3.29           14.84                  0   \n",
       "\n",
       "     office_sqm_2000  trc_count_2000  trc_sqm_2000  cafe_count_2000  \\\n",
       "464                0               1        175000                1   \n",
       "\n",
       "     cafe_sum_2000_min_price_avg  cafe_sum_2000_max_price_avg  \\\n",
       "464                        300.0                        500.0   \n",
       "\n",
       "     cafe_avg_price_2000  cafe_count_2000_na_price  cafe_count_2000_price_500  \\\n",
       "464                400.0                         0                          1   \n",
       "\n",
       "     cafe_count_2000_price_1000  cafe_count_2000_price_1500  \\\n",
       "464                           0                           0   \n",
       "\n",
       "     cafe_count_2000_price_2500  cafe_count_2000_price_4000  \\\n",
       "464                           0                           0   \n",
       "\n",
       "     cafe_count_2000_price_high  big_church_count_2000  church_count_2000  \\\n",
       "464                           0                      0                  1   \n",
       "\n",
       "     mosque_count_2000  leisure_count_2000  sport_count_2000  \\\n",
       "464                  0                   0                 0   \n",
       "\n",
       "     market_count_2000  green_part_3000  prom_part_3000  office_count_3000  \\\n",
       "464                  1             4.73           13.05                  4   \n",
       "\n",
       "     office_sqm_3000  trc_count_3000  trc_sqm_3000  cafe_count_3000  \\\n",
       "464            63808               1        175000                4   \n",
       "\n",
       "     cafe_sum_3000_min_price_avg  cafe_sum_3000_max_price_avg  \\\n",
       "464                       533.33                       833.33   \n",
       "\n",
       "     cafe_avg_price_3000  cafe_count_3000_na_price  cafe_count_3000_price_500  \\\n",
       "464               683.33                         1                          2   \n",
       "\n",
       "     cafe_count_3000_price_1000  cafe_count_3000_price_1500  \\\n",
       "464                           0                           1   \n",
       "\n",
       "     cafe_count_3000_price_2500  cafe_count_3000_price_4000  \\\n",
       "464                           0                           0   \n",
       "\n",
       "     cafe_count_3000_price_high  big_church_count_3000  church_count_3000  \\\n",
       "464                           0                      0                  3   \n",
       "\n",
       "     mosque_count_3000  leisure_count_3000  sport_count_3000  \\\n",
       "464                  0                   0                 2   \n",
       "\n",
       "     market_count_3000  green_part_5000  prom_part_5000  office_count_5000  \\\n",
       "464                  1            10.51            6.35                  4   \n",
       "\n",
       "     office_sqm_5000  trc_count_5000  trc_sqm_5000  cafe_count_5000  \\\n",
       "464            63808               1        175000                7   \n",
       "\n",
       "     cafe_sum_5000_min_price_avg  cafe_sum_5000_max_price_avg  \\\n",
       "464                        850.0                      1333.33   \n",
       "\n",
       "     cafe_avg_price_5000  cafe_count_5000_na_price  cafe_count_5000_price_500  \\\n",
       "464              1091.67                         1                          2   \n",
       "\n",
       "     cafe_count_5000_price_1000  cafe_count_5000_price_1500  \\\n",
       "464                           0                           3   \n",
       "\n",
       "     cafe_count_5000_price_2500  cafe_count_5000_price_4000  \\\n",
       "464                           1                           0   \n",
       "\n",
       "     cafe_count_5000_price_high  big_church_count_5000  church_count_5000  \\\n",
       "464                           0                      1                  6   \n",
       "\n",
       "     mosque_count_5000  leisure_count_5000  sport_count_5000  \\\n",
       "464                  0                   0                 6   \n",
       "\n",
       "     market_count_5000  \n",
       "464                  1  "
      ]
     },
     "execution_count": 301,
     "metadata": {},
     "output_type": "execute_result"
    }
   ],
   "source": [
    "test_house_df[test_house_df['full_sq']==0.000]"
   ]
  },
  {
   "cell_type": "code",
   "execution_count": 95,
   "metadata": {
    "collapsed": false
   },
   "outputs": [
    {
     "data": {
      "text/html": [
       "<div>\n",
       "<table border=\"1\" class=\"dataframe\">\n",
       "  <thead>\n",
       "    <tr style=\"text-align: right;\">\n",
       "      <th></th>\n",
       "      <th>full_sq</th>\n",
       "      <th>life_sq</th>\n",
       "      <th>floor</th>\n",
       "      <th>max_floor</th>\n",
       "      <th>num_room</th>\n",
       "      <th>kitch_sq</th>\n",
       "      <th>state</th>\n",
       "      <th>build_year</th>\n",
       "      <th>material</th>\n",
       "    </tr>\n",
       "  </thead>\n",
       "  <tbody>\n",
       "    <tr>\n",
       "      <th>count</th>\n",
       "      <td>7662.000000</td>\n",
       "      <td>6486.000000</td>\n",
       "      <td>7662.000000</td>\n",
       "      <td>7662.000000</td>\n",
       "      <td>7662.000000</td>\n",
       "      <td>7662.000000</td>\n",
       "      <td>6968.000000</td>\n",
       "      <td>6613.000000</td>\n",
       "      <td>7662.000000</td>\n",
       "    </tr>\n",
       "    <tr>\n",
       "      <th>mean</th>\n",
       "      <td>53.701164</td>\n",
       "      <td>32.660037</td>\n",
       "      <td>7.652571</td>\n",
       "      <td>12.591099</td>\n",
       "      <td>1.876403</td>\n",
       "      <td>6.938662</td>\n",
       "      <td>1.985792</td>\n",
       "      <td>1820.888099</td>\n",
       "      <td>1.854216</td>\n",
       "    </tr>\n",
       "    <tr>\n",
       "      <th>std</th>\n",
       "      <td>20.104320</td>\n",
       "      <td>22.737855</td>\n",
       "      <td>5.099418</td>\n",
       "      <td>6.659291</td>\n",
       "      <td>0.835665</td>\n",
       "      <td>25.579688</td>\n",
       "      <td>0.820086</td>\n",
       "      <td>552.993964</td>\n",
       "      <td>1.517171</td>\n",
       "    </tr>\n",
       "    <tr>\n",
       "      <th>min</th>\n",
       "      <td>0.000000</td>\n",
       "      <td>0.000000</td>\n",
       "      <td>1.000000</td>\n",
       "      <td>0.000000</td>\n",
       "      <td>1.000000</td>\n",
       "      <td>0.000000</td>\n",
       "      <td>1.000000</td>\n",
       "      <td>0.000000</td>\n",
       "      <td>1.000000</td>\n",
       "    </tr>\n",
       "    <tr>\n",
       "      <th>25%</th>\n",
       "      <td>39.200000</td>\n",
       "      <td>19.900000</td>\n",
       "      <td>4.000000</td>\n",
       "      <td>9.000000</td>\n",
       "      <td>1.000000</td>\n",
       "      <td>1.000000</td>\n",
       "      <td>1.000000</td>\n",
       "      <td>1966.000000</td>\n",
       "      <td>1.000000</td>\n",
       "    </tr>\n",
       "    <tr>\n",
       "      <th>50%</th>\n",
       "      <td>50.410000</td>\n",
       "      <td>30.400000</td>\n",
       "      <td>7.000000</td>\n",
       "      <td>14.000000</td>\n",
       "      <td>2.000000</td>\n",
       "      <td>7.000000</td>\n",
       "      <td>2.000000</td>\n",
       "      <td>1982.000000</td>\n",
       "      <td>1.000000</td>\n",
       "    </tr>\n",
       "    <tr>\n",
       "      <th>75%</th>\n",
       "      <td>63.300000</td>\n",
       "      <td>41.800000</td>\n",
       "      <td>11.000000</td>\n",
       "      <td>17.000000</td>\n",
       "      <td>2.000000</td>\n",
       "      <td>9.500000</td>\n",
       "      <td>3.000000</td>\n",
       "      <td>2011.000000</td>\n",
       "      <td>2.000000</td>\n",
       "    </tr>\n",
       "    <tr>\n",
       "      <th>max</th>\n",
       "      <td>403.000000</td>\n",
       "      <td>869.000000</td>\n",
       "      <td>41.000000</td>\n",
       "      <td>48.000000</td>\n",
       "      <td>19.000000</td>\n",
       "      <td>1968.000000</td>\n",
       "      <td>4.000000</td>\n",
       "      <td>2019.000000</td>\n",
       "      <td>6.000000</td>\n",
       "    </tr>\n",
       "  </tbody>\n",
       "</table>\n",
       "</div>"
      ],
      "text/plain": [
       "           full_sq      life_sq        floor    max_floor     num_room  \\\n",
       "count  7662.000000  6486.000000  7662.000000  7662.000000  7662.000000   \n",
       "mean     53.701164    32.660037     7.652571    12.591099     1.876403   \n",
       "std      20.104320    22.737855     5.099418     6.659291     0.835665   \n",
       "min       0.000000     0.000000     1.000000     0.000000     1.000000   \n",
       "25%      39.200000    19.900000     4.000000     9.000000     1.000000   \n",
       "50%      50.410000    30.400000     7.000000    14.000000     2.000000   \n",
       "75%      63.300000    41.800000    11.000000    17.000000     2.000000   \n",
       "max     403.000000   869.000000    41.000000    48.000000    19.000000   \n",
       "\n",
       "          kitch_sq        state   build_year     material  \n",
       "count  7662.000000  6968.000000  6613.000000  7662.000000  \n",
       "mean      6.938662     1.985792  1820.888099     1.854216  \n",
       "std      25.579688     0.820086   552.993964     1.517171  \n",
       "min       0.000000     1.000000     0.000000     1.000000  \n",
       "25%       1.000000     1.000000  1966.000000     1.000000  \n",
       "50%       7.000000     2.000000  1982.000000     1.000000  \n",
       "75%       9.500000     3.000000  2011.000000     2.000000  \n",
       "max    1968.000000     4.000000  2019.000000     6.000000  "
      ]
     },
     "execution_count": 95,
     "metadata": {},
     "output_type": "execute_result"
    }
   ],
   "source": [
    "test_house_df[['full_sq' , 'life_sq' , 'floor' , 'max_floor' , 'num_room' , 'kitch_sq' , 'state' , 'build_year' , 'material']].describe()"
   ]
  },
  {
   "cell_type": "code",
   "execution_count": 292,
   "metadata": {
    "collapsed": false
   },
   "outputs": [
    {
     "data": {
      "image/png": "[encoded data removed]",
      "text/plain": [
       "<matplotlib.figure.Figure at 0x1c6113df470>"
      ]
     },
     "metadata": {},
     "output_type": "display_data"
    }
   ],
   "source": [
    "f, ax = plt.subplots(figsize=(12, 10))\n",
    "sns.heatmap(train_house_df[['full_sq' , 'life_sq' , 'floor' , 'max_floor' , 'num_room' , 'kitch_sq' , 'state' , 'build_year' , 'material']].corr(),linewidths=.5, ax=ax,square=True,annot=True);"
   ]
  },
  {
   "cell_type": "code",
   "execution_count": 97,
   "metadata": {
    "collapsed": false
   },
   "outputs": [
    {
     "data": {
      "text/plain": [
       "(38075, 292)"
      ]
     },
     "execution_count": 97,
     "metadata": {},
     "output_type": "execute_result"
    }
   ],
   "source": [
    "merge_df.shape"
   ]
  },
  {
   "cell_type": "code",
   "execution_count": 98,
   "metadata": {
    "collapsed": false
   },
   "outputs": [
    {
     "data": {
      "text/plain": [
       "(30413,)"
      ]
     },
     "execution_count": 98,
     "metadata": {},
     "output_type": "execute_result"
    }
   ],
   "source": [
    "label_df.shape"
   ]
  },
  {
   "cell_type": "code",
   "execution_count": 99,
   "metadata": {
    "collapsed": true
   },
   "outputs": [],
   "source": [
    "from sklearn.preprocessing import Imputer\n",
    "\n",
    "imp  =  Imputer(missing_values='NaN' ,strategy='mean' , axis=1)\n",
    "\n",
    "merge_df[imp_column] = imp.fit_transform(merge_df[imp_column])\n"
   ]
  },
  {
   "cell_type": "code",
   "execution_count": 100,
   "metadata": {
    "collapsed": false
   },
   "outputs": [],
   "source": [
    "merge_df['log_full_sq'] =  np.log1p(merge_df['full_sq'])\n",
    "merge_df['log_life_sq'] =  np.log1p(merge_df['life_sq'])\n",
    "merge_df['product_type'][merge_df['product_type'].isnull()]='Investment'"
   ]
  },
  {
   "cell_type": "code",
   "execution_count": 101,
   "metadata": {
    "collapsed": false
   },
   "outputs": [],
   "source": [
    "main_merge_df  =  merge_df[['log_full_sq' , 'log_life_sq' , 'floor' , 'max_floor' , 'num_room' , 'kitch_sq' , 'state' , 'house_age', 'material','product_type' , 'sub_area']]"
   ]
  },
  {
   "cell_type": "code",
   "execution_count": 179,
   "metadata": {
    "collapsed": false
   },
   "outputs": [],
   "source": [
    "from sklearn.preprocessing import LabelEncoder\n",
    "\n",
    "def createDummy(df , var_mod):\n",
    "    le = LabelEncoder()\n",
    "    #var_mod = ['PROD_ABBR','STATE_ABBR' ]\n",
    "    le = LabelEncoder()\n",
    "    for i in var_mod:\n",
    "        df[i] = le.fit_transform(df[i])\n",
    "\n",
    "    #One Hot Coding:\n",
    "    #df = pd.get_dummies(df, columns=var_mod)\n",
    "    return df"
   ]
  },
  {
   "cell_type": "code",
   "execution_count": 103,
   "metadata": {
    "collapsed": false
   },
   "outputs": [],
   "source": [
    "other_column =  merge_df.columns.drop(imp_column)"
   ]
  },
  {
   "cell_type": "code",
   "execution_count": 104,
   "metadata": {
    "collapsed": false
   },
   "outputs": [],
   "source": [
    "cat_columns  = merge_df[other_column].select_dtypes(exclude=['float64' , 'int64']).columns\n",
    "\n",
    "num_columns  = merge_df[other_column].select_dtypes(include=['float64' , 'int64']).columns"
   ]
  },
  {
   "cell_type": "code",
   "execution_count": 105,
   "metadata": {
    "collapsed": false
   },
   "outputs": [
    {
     "data": {
      "text/plain": [
       "Index(['timestamp', 'product_type', 'sub_area', 'culture_objects_top_25',\n",
       "       'thermal_power_plant_raion', 'incineration_raion',\n",
       "       'oil_chemistry_raion', 'radiation_raion', 'railroad_terminal_raion',\n",
       "       'big_market_raion', 'nuclear_reactor_raion', 'detention_facility_raion',\n",
       "       'water_1line', 'big_road1_1line', 'railroad_1line', 'ecology'],\n",
       "      dtype='object')"
      ]
     },
     "execution_count": 105,
     "metadata": {},
     "output_type": "execute_result"
    }
   ],
   "source": [
    "cat_columns"
   ]
  },
  {
   "cell_type": "code",
   "execution_count": 106,
   "metadata": {
    "collapsed": false
   },
   "outputs": [],
   "source": [
    "macro_cat_columns  = macro_df.select_dtypes(exclude=['float64' , 'int64']).columns\n",
    "\n",
    "macro_num_columns  = macro_df.select_dtypes(include=['float64' , 'int64']).columns"
   ]
  },
  {
   "cell_type": "code",
   "execution_count": 107,
   "metadata": {
    "collapsed": false
   },
   "outputs": [],
   "source": [
    "from sklearn.preprocessing import Imputer\n",
    "\n",
    "imp  =  Imputer(missing_values='NaN' ,strategy='mean' , axis=1)\n",
    "\n",
    "macro_df[macro_num_columns] = imp.fit_transform(macro_df[macro_num_columns])"
   ]
  },
  {
   "cell_type": "code",
   "execution_count": 108,
   "metadata": {
    "collapsed": true
   },
   "outputs": [],
   "source": [
    "macro_num_columns_required=['oil_urals', 'balance_trade', 'balance_trade_growth', 'eurrub',\n",
    "       'net_capital_export', 'micex_rgbi_tr', 'micex_cbi_tr', 'deposits_rate',\n",
    "       'mortgage_value', 'rent_price_3room_bus', 'power_clinics',\n",
    "       'seats_theather_rfmin_per_100000_cap']"
   ]
  },
  {
   "cell_type": "code",
   "execution_count": 109,
   "metadata": {
    "collapsed": false
   },
   "outputs": [
    {
     "data": {
      "text/plain": [
       "(2484, 100)"
      ]
     },
     "execution_count": 109,
     "metadata": {},
     "output_type": "execute_result"
    }
   ],
   "source": [
    "macro_df.shape"
   ]
  },
  {
   "cell_type": "code",
   "execution_count": 110,
   "metadata": {
    "collapsed": false
   },
   "outputs": [
    {
     "data": {
      "text/plain": [
       "268"
      ]
     },
     "execution_count": 110,
     "metadata": {},
     "output_type": "execute_result"
    }
   ],
   "source": [
    "len(num_columns)"
   ]
  },
  {
   "cell_type": "code",
   "execution_count": 111,
   "metadata": {
    "collapsed": false
   },
   "outputs": [],
   "source": [
    "imp  =  Imputer(missing_values='NaN' ,strategy='mean' , axis=1)\n",
    "\n",
    "merge_df[num_columns] = imp.fit_transform(merge_df[num_columns])"
   ]
  },
  {
   "cell_type": "code",
   "execution_count": 180,
   "metadata": {
    "collapsed": true
   },
   "outputs": [],
   "source": [
    "num_columns_required = ['id','green_part_500', 'prom_part_500', 'office_sqm_500', 'trc_count_500',\n",
    "       'trc_sqm_500', 'cafe_sum_500_min_price_avg',\n",
    "       'cafe_count_500_price_1000', 'cafe_count_500_price_4000',\n",
    "       'cafe_count_500_price_high', 'mosque_count_500', 'leisure_count_500',\n",
    "       'sport_count_500', 'market_count_500', 'prom_part_1000',\n",
    "       'office_sqm_1000', 'cafe_sum_1000_min_price_avg',\n",
    "       'cafe_count_1000_price_high', 'mosque_count_1000', 'market_count_1000',\n",
    "       'trc_sqm_1500', 'cafe_sum_1500_min_price_avg', 'mosque_count_1500',\n",
    "       'cafe_sum_2000_min_price_avg', 'mosque_count_2000', 'market_count_2000',\n",
    "       'mosque_count_3000', 'prom_part_5000', 'mosque_count_5000', 'female_f',\n",
    "       '7_14_female', 'build_count_1971-1995', 'green_zone_km',\n",
    "       'water_treatment_km', 'water_km', 'big_road1_km', 'railroad_km',\n",
    "       'fitness_km', 'additional_education_km', 'church_synagogue_km',\n",
    "       'catering_km']"
   ]
  },
  {
   "cell_type": "code",
   "execution_count": 181,
   "metadata": {
    "collapsed": false
   },
   "outputs": [
    {
     "data": {
      "text/plain": [
       "41"
      ]
     },
     "execution_count": 181,
     "metadata": {},
     "output_type": "execute_result"
    }
   ],
   "source": [
    "len(num_columns_required)"
   ]
  },
  {
   "cell_type": "code",
   "execution_count": 182,
   "metadata": {
    "collapsed": false
   },
   "outputs": [
    {
     "data": {
      "text/plain": [
       "16"
      ]
     },
     "execution_count": 182,
     "metadata": {},
     "output_type": "execute_result"
    }
   ],
   "source": [
    "len(cat_columns)"
   ]
  },
  {
   "cell_type": "code",
   "execution_count": 183,
   "metadata": {
    "collapsed": false
   },
   "outputs": [
    {
     "data": {
      "text/plain": [
       "Index(['timestamp', 'product_type', 'sub_area', 'culture_objects_top_25',\n",
       "       'thermal_power_plant_raion', 'incineration_raion',\n",
       "       'oil_chemistry_raion', 'radiation_raion', 'railroad_terminal_raion',\n",
       "       'big_market_raion', 'nuclear_reactor_raion', 'detention_facility_raion',\n",
       "       'water_1line', 'big_road1_1line', 'railroad_1line', 'ecology'],\n",
       "      dtype='object')"
      ]
     },
     "execution_count": 183,
     "metadata": {},
     "output_type": "execute_result"
    }
   ],
   "source": [
    "cat_columns"
   ]
  },
  {
   "cell_type": "code",
   "execution_count": 184,
   "metadata": {
    "collapsed": false
   },
   "outputs": [
    {
     "data": {
      "text/plain": [
       "(38075, 294)"
      ]
     },
     "execution_count": 184,
     "metadata": {},
     "output_type": "execute_result"
    }
   ],
   "source": [
    "merge_df.shape"
   ]
  },
  {
   "cell_type": "code",
   "execution_count": 185,
   "metadata": {
    "collapsed": false
   },
   "outputs": [],
   "source": [
    "macro_df['child_on_acc_pre_school'][macro_df['child_on_acc_pre_school']=='#!']='18,200'\n",
    "\n",
    "macro_df['child_on_acc_pre_school'][macro_df['child_on_acc_pre_school'].isnull()]='18,200'\n",
    "\n",
    "macro_df['modern_education_share'][macro_df['modern_education_share'].isnull()]='93,17'\n",
    "\n",
    "macro_df['old_education_build_share'][macro_df['old_education_build_share'].isnull()]='18,95'"
   ]
  },
  {
   "cell_type": "code",
   "execution_count": 186,
   "metadata": {
    "collapsed": false
   },
   "outputs": [
    {
     "data": {
      "text/plain": [
       "(38075, 89)"
      ]
     },
     "execution_count": 186,
     "metadata": {},
     "output_type": "execute_result"
    }
   ],
   "source": [
    "main_merge_df.shape"
   ]
  },
  {
   "cell_type": "code",
   "execution_count": 187,
   "metadata": {
    "collapsed": true
   },
   "outputs": [],
   "source": [
    "main_merge_df[cat_columns] = merge_df[cat_columns]\n",
    "\n",
    "main_merge_df[num_columns_required] = merge_df[num_columns_required]"
   ]
  },
  {
   "cell_type": "code",
   "execution_count": 188,
   "metadata": {
    "collapsed": false
   },
   "outputs": [
    {
     "data": {
      "text/plain": [
       "(38075, 89)"
      ]
     },
     "execution_count": 188,
     "metadata": {},
     "output_type": "execute_result"
    }
   ],
   "source": [
    "main_merge_df.shape"
   ]
  },
  {
   "cell_type": "code",
   "execution_count": 189,
   "metadata": {
    "collapsed": false
   },
   "outputs": [
    {
     "data": {
      "text/plain": [
       "Index(['timestamp', 'child_on_acc_pre_school', 'modern_education_share',\n",
       "       'old_education_build_share'],\n",
       "      dtype='object')"
      ]
     },
     "execution_count": 189,
     "metadata": {},
     "output_type": "execute_result"
    }
   ],
   "source": [
    "macro_cat_columns"
   ]
  },
  {
   "cell_type": "code",
   "execution_count": 190,
   "metadata": {
    "collapsed": false
   },
   "outputs": [
    {
     "data": {
      "text/plain": [
       "16"
      ]
     },
     "execution_count": 190,
     "metadata": {},
     "output_type": "execute_result"
    }
   ],
   "source": [
    "#macro_col_required=macro_num_columns_required+['child_on_acc_pre_school' , 'modern_education_share' , 'old_education_build_share']\n",
    "macro_col_required=macro_num_columns_required+macro_cat_columns.tolist()\n",
    "len(macro_col_required)"
   ]
  },
  {
   "cell_type": "code",
   "execution_count": 191,
   "metadata": {
    "collapsed": false
   },
   "outputs": [],
   "source": [
    "merge_macro_df = pd.merge(main_merge_df, macro_df[macro_col_required], on='timestamp') "
   ]
  },
  {
   "cell_type": "code",
   "execution_count": 192,
   "metadata": {
    "collapsed": false
   },
   "outputs": [
    {
     "data": {
      "text/plain": [
       "(38075, 104)"
      ]
     },
     "execution_count": 192,
     "metadata": {},
     "output_type": "execute_result"
    }
   ],
   "source": [
    "merge_macro_df.shape"
   ]
  },
  {
   "cell_type": "code",
   "execution_count": 136,
   "metadata": {
    "collapsed": false
   },
   "outputs": [],
   "source": [
    "from sklearn.model_selection import cross_val_score\n",
    "from sklearn import metrics\n",
    "%matplotlib inline\n",
    "import matplotlib.pyplot as plt \n",
    "from sklearn.grid_search import GridSearchCV\n",
    "\n",
    "def modelfitWithGridSearch(name , alg, dtrain, dvalidation , dtest, predictors, target, IDcol, tuned_parameters,rmse, cvNo):\n",
    "    #Fit the algorithm on the data\n",
    "    \n",
    "    clf = GridSearchCV(alg, tuned_parameters, cv=cvNo, scoring='neg_mean_squared_error')\n",
    "    \n",
    "    clf.fit(dtrain[predictors], dtrain[target])\n",
    "    \n",
    "    print(\"Best parameters set found on development set:\")\n",
    "    print(clf.best_estimator_)\n",
    "    \n",
    "    print(\"Best Score\"+str(clf.best_score_))\n",
    "       \n",
    "    #Predict training set:\n",
    "    dtrain_predictions = clf.predict(dtrain[predictors])\n",
    "    #print('predictors '+str(predictors))\n",
    "        \n",
    "    #Print model report:\n",
    "    print (\"\\nModel Report\")\n",
    "    print (\"RMSE : %.4g\" % np.sqrt(metrics.mean_squared_error(dtrain[target].values, dtrain_predictions)))\n",
    "  \n",
    "   \n",
    "    \n",
    "    dvalidation_predictions = clf.predict(dvalidation[predictors])\n",
    "    dvalidation.loc[:,'PRED_'+str(target)+'_'+str(name)] = dvalidation_predictions\n",
    "    print (\"\\nValidation Model Report\")\n",
    "    print (\"RMSE : %.4g\" % np.sqrt(metrics.mean_squared_error(dvalidation[target].values, dvalidation_predictions)))\n",
    "    \n",
    "    print(len(rmse['ALG']))\n",
    "    rmse.loc[len(rmse['ALG'])-1,'CVD_Best_Score'] =clf.best_score_\n",
    "    rmse.loc[len(rmse['ALG'])-1,'Train_RMSE'] =np.sqrt(metrics.mean_squared_error(dtrain[target].values, dtrain_predictions))\n",
    "    rmse.loc[len(rmse['ALG'])-1,'Test_RMSE']  =np.sqrt(metrics.mean_squared_error(dvalidation[target].values, dvalidation_predictions))\n",
    "    \n",
    "    \n",
    "    #dvalidation[[target,'PRED_'+str(target)]].plot.area(figsize=(10,6) , stacked=False )\n",
    "\n",
    "    dtest_predictions = clf.predict(dtest[predictors])\n",
    "    dtest.loc[:,target] = dtest_predictions\n",
    "    #dtest['Item_Outlet_Sales'] = np.exp(dtest_predictions)\n",
    "    IDcol.append(target)\n",
    "    submission = pd.DataFrame({ x: dtest[x].astype(int) for x in IDcol})\n",
    "    filename = name+\".csv\"\n",
    "    submission.to_csv(filename, index=False)"
   ]
  },
  {
   "cell_type": "code",
   "execution_count": 173,
   "metadata": {
    "collapsed": true
   },
   "outputs": [],
   "source": [
    "from sklearn.model_selection import cross_val_score\n",
    "from sklearn import metrics\n",
    "%matplotlib inline\n",
    "import matplotlib.pyplot as plt \n",
    "\n",
    "def executeModel(name , alg, dtrain, dvalidation , dtest, predictors, target, IDcol,rmse):\n",
    "    #Fit the algorithm on the data\n",
    "    \n",
    "    alg.fit(dtrain[predictors], dtrain[target])\n",
    "    \n",
    "    print(alg.feature_importances_)\n",
    "          \n",
    "\n",
    "    #Predict training set:\n",
    "    dtrain_predictions = alg.predict(dtrain[predictors])\n",
    "    #print('predictors '+str(predictors))\n",
    "        \n",
    "    #Print model report:\n",
    "    print (\"\\nModel Report\")\n",
    "    print (\"RMSE : %.4g\" % np.sqrt(metrics.mean_squared_error(dtrain[target].values, dtrain_predictions)))\n",
    "    #print(alg.estimators_ )  \n",
    "   \n",
    "    \n",
    "    dvalidation_predictions = alg.predict(dvalidation[predictors])\n",
    "    dvalidation.loc[:,'PRED_'+str(target)+'_'+str(name)] = dvalidation_predictions\n",
    "    print (\"\\nValidation Model Report\")\n",
    "    print (\"RMSE : %.4g\" % np.sqrt(metrics.mean_squared_error(dvalidation[target].values, dvalidation_predictions)))\n",
    "    \n",
    "    print(len(rmse['ALG']))\n",
    "    rmse.loc[len(rmse['ALG'])-1,'Train_RMSE'] =np.sqrt(metrics.mean_squared_error(dtrain[target].values, dtrain_predictions))\n",
    "    rmse.loc[len(rmse['ALG'])-1,'Test_RMSE']  =np.sqrt(metrics.mean_squared_error(dvalidation[target].values, dvalidation_predictions))\n",
    "    \n",
    "    \n",
    "    #dvalidation[[target,'PRED_'+str(target)]].plot.area(figsize=(10,6) , stacked=False )\n",
    "\n",
    "    dtest_predictions = alg.predict(dtest[predictors])\n",
    "    dtest.loc[:,target] = dtest_predictions\n",
    "    #dtest['Item_Outlet_Sales'] = np.exp(dtest_predictions)\n",
    "    IDcol.append(target)\n",
    "    submission = pd.DataFrame({ x: dtest[x].astype(int) for x in IDcol})\n",
    "    filename = name+\".csv\"\n",
    "    submission.to_csv(filename, index=False)"
   ]
  },
  {
   "cell_type": "code",
   "execution_count": 174,
   "metadata": {
    "collapsed": false
   },
   "outputs": [],
   "source": [
    "from sklearn.linear_model import LinearRegression, Ridge\n",
    "from sklearn.linear_model import Lasso\n",
    "from sklearn.tree import DecisionTreeRegressor\n",
    "from sklearn.ensemble import RandomForestRegressor\n",
    "from sklearn.ensemble import GradientBoostingRegressor\n",
    "\n",
    "\n",
    "def ridge(train_agency_df, test_agency_df,target,IDcol,rmse,cvNo):\n",
    "    removeColumn =['MAX_AGE' , 'PRD_ERND_PREM_AMT' ,'MIN_AGE' ,'WRTN_PREM_AMT' ,'MONTHS'  'NB_WRTN_PREM_AMT' ,'POLY_INFORCE_QTY' ]\n",
    "    predictors = [x for x in train_agency_df.columns if x not in [target]+IDcol+removeColumn]\n",
    "    param_grid = {\n",
    "                  \"alpha\": [1e-20, 1e-15, 1e-10,1e-5, 0.0001 , 0.001 , 0.01  , 0.1]\n",
    "\n",
    "                  }\n",
    "\n",
    "    alg2 = Ridge(alpha=0.001, normalize=True ,  fit_intercept=True, max_iter=100)\n",
    "    modelfitWithGridSearch(\"ridge\",alg2, train_agency_df, test_agency_df , None, predictors, target, IDcol, param_grid,rmse,cvNo)\n",
    "    \n",
    "\n",
    "\n",
    "def lasso(train_agency_df, test_agency_df,target,IDcol,rmse,cvNo):\n",
    "    removeColumn =['MA_AGE' , 'PRD_ERND_PREM_AMT' ,'MIN_AGE' ,'WRTN_PREM_AMT' ,'MONTHS' ,'NB_WRTN_PREM_AMT' ,'POLY_INFORCE_QTY'  ]\n",
    "    predictors = [x for x in train_agency_df.columns if x not in [target]+IDcol+removeColumn]\n",
    "    param_grid = {\n",
    "                  \"alpha\": [1e-2,  1, 5, 10 , 20]\n",
    "\n",
    "                  }\n",
    "\n",
    "    alg2 = Lasso(normalize=True ,  fit_intercept=True )\n",
    "    modelfitWithGridSearch(\"lasso\",alg2, train_agency_df, test_agency_df , None, predictors, target, IDcol, param_grid,rmse,cvNo)  \n",
    "    \n",
    "def decisionTreeRegressor(train_agency_df, test_agency_df,target,IDcol,rmse,cvNo):\n",
    "    removeColumn =['NB_WRTN_PREM_AMT','POLY_INFORCE_QTY']\n",
    "    predictors = [x for x in train_agency_df.columns if x not in [target]+IDcol+removeColumn]\n",
    "\n",
    "    param_grid = {\"criterion\": [\"mse\"],\n",
    "                  \"min_samples_split\": [10 , 20  ],\n",
    "                  #\"max_depth\": [ 10 ,20 , 30],\n",
    "                  \"min_samples_leaf\": [5, 10 ]\n",
    "                  }\n",
    "\n",
    "    alg3 = DecisionTreeRegressor()\n",
    "    modelfitWithGridSearch(\"DecisionTree\",alg3, train_agency_df, test_agency_df , None, predictors, target, IDcol, param_grid,rmse,cvNo)    \n",
    "    \n",
    "def randomForestRegressor(train_agency_df,validation_agency_df, test_agency_df,target,IDcol,rmse,cvNo):\n",
    "    removeColumn =['NB_WRTN_PREM_AMT','POLY_INFORCE_QTY']\n",
    "    predictors = [x for x in train_agency_df.columns if x not in [target]+IDcol+removeColumn]\n",
    "\n",
    "    param_grid = {\"criterion\": [\"mse\"],\n",
    "                  \"n_estimators\":[100],\n",
    "                  \"oob_score\":[\"True\"],\n",
    "                  #\"max_depth\":[10,15,20],\n",
    "                  #\"min_samples_split\":[5],\n",
    "                   \"max_features\" : [\"auto\"]\n",
    "                  }\n",
    "    if (cvNo!=0) :\n",
    "        alg3 = RandomForestRegressor()\n",
    "        modelfitWithGridSearch(\"RandomForest\",alg3, train_agency_df, validation_agency_df,test_agency_df , predictors, target, IDcol,param_grid,rmse,cvNo)   \n",
    "    else:\n",
    "        alg3 = RandomForestRegressor(n_estimators=100 , oob_score=True )\n",
    "        executeModel(\"RandomForest\",alg3, train_agency_df,validation_agency_df, test_agency_df , predictors, target, IDcol,rmse) \n",
    "    \n",
    "def gradientBoostingRegressor(train_agency_df,validation_agency_df, test_agency_df,target,IDcol,rmse,cvNo):\n",
    "    removeColumn =[ ]\n",
    "    predictors = [x for x in train_agency_df.columns if x not in [target]+IDcol+removeColumn]\n",
    "\n",
    "    param_grid = { \n",
    "                   \"loss\" :[\"ls\"],\n",
    "                 # \"alpha\": [0.5,  0.9, 1.5],\n",
    "                  \"min_samples_split\": [10],\n",
    "                  \"max_depth\":[5],\n",
    "                  \"n_estimators\":[100], \n",
    "                  'min_samples_leaf': [5]\n",
    "                  }\n",
    "\n",
    "    alg3 = GradientBoostingRegressor(min_samples_split=10 ,max_depth=10 , n_estimators=500 , min_samples_leaf=5 )\n",
    "    \n",
    "    if (cvNo!=0) :\n",
    "        alg3 = GradientBoostingRegressor()\n",
    "        modelfitWithGridSearch(\"GBM\",alg3, train_agency_df,validation_agency_df, test_agency_df , predictors, target, IDcol,param_grid,rmse,cvNo)\n",
    "    else:\n",
    "        alg3 = GradientBoostingRegressor(min_samples_split=10 ,max_depth=10 , n_estimators=500 , min_samples_leaf=5 )\n",
    "        executeModel(\"GBM\",alg3, train_agency_df,validation_agency_df, test_agency_df , predictors, target, IDcol,rmse) "
   ]
  },
  {
   "cell_type": "code",
   "execution_count": 142,
   "metadata": {
    "collapsed": false
   },
   "outputs": [],
   "source": [
    "import datetime\n",
    "rmse_data = {'ALG':[] , 'CVD_Best_Score':[] , 'Train_RMSE':[] ,'Test_RMSE':[] }\n",
    "rmse = pd.DataFrame(rmse_data)\n",
    "index = 0\n",
    "\n",
    "def best_fit_model_ensemble_regression(train_agency_df, validation_df,test_agency_df , target, IDcol,cvNo,index):\n",
    "    #print(\"------------ Algorithm :- [Random Forest]----------------------------------\")\n",
    "    #print(datetime.datetime.now().time())\n",
    "    index= index +1;\n",
    "    #rmse.loc[index,'ALG']='Random Forest'\n",
    "    #randomForestRegressor(train_agency_df,validation_df, test_agency_df , target, IDcol,rmse,cvNo)\n",
    "    print(\"------------ Algorithm :- [Gradient Boosting Regression]----------------------------------\")\n",
    "    \n",
    "    print(datetime.datetime.now().time())\n",
    "    index= index +1;\n",
    "    rmse.loc[index,'ALG']='Gradient Boosting'\n",
    "    gradientBoostingRegressor(train_agency_df, validation_df,test_agency_df , target, IDcol,rmse,cvNo)\n",
    "\n",
    "       #print(\"-!!!!!--Best RMSE--!!!!--\"+rmse.sort_values('Test_RMSE').head(1))\n",
    "\n",
    "    return rmse   "
   ]
  },
  {
   "cell_type": "code",
   "execution_count": 284,
   "metadata": {
    "collapsed": false
   },
   "outputs": [
    {
     "data": {
      "text/plain": [
       "['log_full_sq',\n",
       " 'mkad_km',\n",
       " 'build_count_panel',\n",
       " 'floor',\n",
       " 'culture_objects_top_25',\n",
       " 'mosque_km',\n",
       " 'trc_sqm_3000',\n",
       " 'office_km',\n",
       " 'house_age',\n",
       " 'industrial_km',\n",
       " 'catering_km',\n",
       " 'cafe_count_1000_price_high',\n",
       " 'leisure_count_500',\n",
       " 'water_km',\n",
       " 'trc_sqm_1500',\n",
       " 'railroad_km',\n",
       " 'eurrub',\n",
       " 'cemetery_km',\n",
       " 'cafe_sum_2000_min_price_avg',\n",
       " 'green_zone_km',\n",
       " 'kindergarten_km',\n",
       " 'micex_rgbi_tr',\n",
       " 'max_floor',\n",
       " 'state',\n",
       " 'fitness_km',\n",
       " 'build_count_1971-1995',\n",
       " 'cafe_count_500_price_1000',\n",
       " 'mosque_count_5000',\n",
       " 'ecology',\n",
       " '7_14_female',\n",
       " 'young_female',\n",
       " 'micex_cbi_tr',\n",
       " 'build_count_block',\n",
       " 'prom_part_1000',\n",
       " 'church_synagogue_km',\n",
       " 'big_road1_km',\n",
       " 'office_sqm_500',\n",
       " 'build_count_monolith',\n",
       " 'net_capital_export',\n",
       " '16_29_female',\n",
       " 'material',\n",
       " 'mosque_count_3000',\n",
       " 'additional_education_km',\n",
       " 'office_sqm_1000',\n",
       " 'product_type',\n",
       " 'prom_part_5000',\n",
       " 'sport_count_500',\n",
       " 'green_part_3000',\n",
       " 'oil_urals',\n",
       " 'mosque_count_1500']"
      ]
     },
     "execution_count": 284,
     "metadata": {},
     "output_type": "execute_result"
    }
   ],
   "source": [
    "selected_columns = important_columns.loc[important_columns['imp'].sort_values(ascending=False).index]['predictor'].head(50).tolist()\n",
    "selected_columns"
   ]
  },
  {
   "cell_type": "code",
   "execution_count": 298,
   "metadata": {
    "collapsed": false
   },
   "outputs": [
    {
     "ename": "KeyError",
     "evalue": "'full_sq'",
     "output_type": "error",
     "traceback": [
      "\u001b[0;31m---------------------------------------------------------------------------\u001b[0m",
      "\u001b[0;31mKeyError\u001b[0m                                  Traceback (most recent call last)",
      "\u001b[0;32mC:\\ProgramData\\Anaconda3\\lib\\site-packages\\pandas\\indexes\\base.py\u001b[0m in \u001b[0;36mget_loc\u001b[0;34m(self, key, method, tolerance)\u001b[0m\n\u001b[1;32m   2133\u001b[0m             \u001b[1;32mtry\u001b[0m\u001b[1;33m:\u001b[0m\u001b[1;33m\u001b[0m\u001b[0m\n\u001b[0;32m-> 2134\u001b[0;31m                 \u001b[1;32mreturn\u001b[0m \u001b[0mself\u001b[0m\u001b[1;33m.\u001b[0m\u001b[0m_engine\u001b[0m\u001b[1;33m.\u001b[0m\u001b[0mget_loc\u001b[0m\u001b[1;33m(\u001b[0m\u001b[0mkey\u001b[0m\u001b[1;33m)\u001b[0m\u001b[1;33m\u001b[0m\u001b[0m\n\u001b[0m\u001b[1;32m   2135\u001b[0m             \u001b[1;32mexcept\u001b[0m \u001b[0mKeyError\u001b[0m\u001b[1;33m:\u001b[0m\u001b[1;33m\u001b[0m\u001b[0m\n",
      "\u001b[0;32mpandas\\index.pyx\u001b[0m in \u001b[0;36mpandas.index.IndexEngine.get_loc (pandas\\index.c:4433)\u001b[0;34m()\u001b[0m\n",
      "\u001b[0;32mpandas\\index.pyx\u001b[0m in \u001b[0;36mpandas.index.IndexEngine.get_loc (pandas\\index.c:4279)\u001b[0;34m()\u001b[0m\n",
      "\u001b[0;32mpandas\\src\\hashtable_class_helper.pxi\u001b[0m in \u001b[0;36mpandas.hashtable.PyObjectHashTable.get_item (pandas\\hashtable.c:13742)\u001b[0;34m()\u001b[0m\n",
      "\u001b[0;32mpandas\\src\\hashtable_class_helper.pxi\u001b[0m in \u001b[0;36mpandas.hashtable.PyObjectHashTable.get_item (pandas\\hashtable.c:13696)\u001b[0;34m()\u001b[0m\n",
      "\u001b[0;31mKeyError\u001b[0m: 'full_sq'",
      "\nDuring handling of the above exception, another exception occurred:\n",
      "\u001b[0;31mKeyError\u001b[0m                                  Traceback (most recent call last)",
      "\u001b[0;32m<ipython-input-298-48a0af5a2d99>\u001b[0m in \u001b[0;36m<module>\u001b[0;34m()\u001b[0m\n\u001b[0;32m----> 1\u001b[0;31m \u001b[0mmerge_macro_df\u001b[0m\u001b[1;33m[\u001b[0m\u001b[1;34m'full_sq'\u001b[0m\u001b[1;33m]\u001b[0m\u001b[1;33m.\u001b[0m\u001b[0mplot\u001b[0m\u001b[1;33m(\u001b[0m\u001b[1;33m)\u001b[0m\u001b[1;33m\u001b[0m\u001b[0m\n\u001b[0m",
      "\u001b[0;32mC:\\ProgramData\\Anaconda3\\lib\\site-packages\\pandas\\core\\frame.py\u001b[0m in \u001b[0;36m__getitem__\u001b[0;34m(self, key)\u001b[0m\n\u001b[1;32m   2057\u001b[0m             \u001b[1;32mreturn\u001b[0m \u001b[0mself\u001b[0m\u001b[1;33m.\u001b[0m\u001b[0m_getitem_multilevel\u001b[0m\u001b[1;33m(\u001b[0m\u001b[0mkey\u001b[0m\u001b[1;33m)\u001b[0m\u001b[1;33m\u001b[0m\u001b[0m\n\u001b[1;32m   2058\u001b[0m         \u001b[1;32melse\u001b[0m\u001b[1;33m:\u001b[0m\u001b[1;33m\u001b[0m\u001b[0m\n\u001b[0;32m-> 2059\u001b[0;31m             \u001b[1;32mreturn\u001b[0m \u001b[0mself\u001b[0m\u001b[1;33m.\u001b[0m\u001b[0m_getitem_column\u001b[0m\u001b[1;33m(\u001b[0m\u001b[0mkey\u001b[0m\u001b[1;33m)\u001b[0m\u001b[1;33m\u001b[0m\u001b[0m\n\u001b[0m\u001b[1;32m   2060\u001b[0m \u001b[1;33m\u001b[0m\u001b[0m\n\u001b[1;32m   2061\u001b[0m     \u001b[1;32mdef\u001b[0m \u001b[0m_getitem_column\u001b[0m\u001b[1;33m(\u001b[0m\u001b[0mself\u001b[0m\u001b[1;33m,\u001b[0m \u001b[0mkey\u001b[0m\u001b[1;33m)\u001b[0m\u001b[1;33m:\u001b[0m\u001b[1;33m\u001b[0m\u001b[0m\n",
      "\u001b[0;32mC:\\ProgramData\\Anaconda3\\lib\\site-packages\\pandas\\core\\frame.py\u001b[0m in \u001b[0;36m_getitem_column\u001b[0;34m(self, key)\u001b[0m\n\u001b[1;32m   2064\u001b[0m         \u001b[1;31m# get column\u001b[0m\u001b[1;33m\u001b[0m\u001b[1;33m\u001b[0m\u001b[0m\n\u001b[1;32m   2065\u001b[0m         \u001b[1;32mif\u001b[0m \u001b[0mself\u001b[0m\u001b[1;33m.\u001b[0m\u001b[0mcolumns\u001b[0m\u001b[1;33m.\u001b[0m\u001b[0mis_unique\u001b[0m\u001b[1;33m:\u001b[0m\u001b[1;33m\u001b[0m\u001b[0m\n\u001b[0;32m-> 2066\u001b[0;31m             \u001b[1;32mreturn\u001b[0m \u001b[0mself\u001b[0m\u001b[1;33m.\u001b[0m\u001b[0m_get_item_cache\u001b[0m\u001b[1;33m(\u001b[0m\u001b[0mkey\u001b[0m\u001b[1;33m)\u001b[0m\u001b[1;33m\u001b[0m\u001b[0m\n\u001b[0m\u001b[1;32m   2067\u001b[0m \u001b[1;33m\u001b[0m\u001b[0m\n\u001b[1;32m   2068\u001b[0m         \u001b[1;31m# duplicate columns & possible reduce dimensionality\u001b[0m\u001b[1;33m\u001b[0m\u001b[1;33m\u001b[0m\u001b[0m\n",
      "\u001b[0;32mC:\\ProgramData\\Anaconda3\\lib\\site-packages\\pandas\\core\\generic.py\u001b[0m in \u001b[0;36m_get_item_cache\u001b[0;34m(self, item)\u001b[0m\n\u001b[1;32m   1384\u001b[0m         \u001b[0mres\u001b[0m \u001b[1;33m=\u001b[0m \u001b[0mcache\u001b[0m\u001b[1;33m.\u001b[0m\u001b[0mget\u001b[0m\u001b[1;33m(\u001b[0m\u001b[0mitem\u001b[0m\u001b[1;33m)\u001b[0m\u001b[1;33m\u001b[0m\u001b[0m\n\u001b[1;32m   1385\u001b[0m         \u001b[1;32mif\u001b[0m \u001b[0mres\u001b[0m \u001b[1;32mis\u001b[0m \u001b[1;32mNone\u001b[0m\u001b[1;33m:\u001b[0m\u001b[1;33m\u001b[0m\u001b[0m\n\u001b[0;32m-> 1386\u001b[0;31m             \u001b[0mvalues\u001b[0m \u001b[1;33m=\u001b[0m \u001b[0mself\u001b[0m\u001b[1;33m.\u001b[0m\u001b[0m_data\u001b[0m\u001b[1;33m.\u001b[0m\u001b[0mget\u001b[0m\u001b[1;33m(\u001b[0m\u001b[0mitem\u001b[0m\u001b[1;33m)\u001b[0m\u001b[1;33m\u001b[0m\u001b[0m\n\u001b[0m\u001b[1;32m   1387\u001b[0m             \u001b[0mres\u001b[0m \u001b[1;33m=\u001b[0m \u001b[0mself\u001b[0m\u001b[1;33m.\u001b[0m\u001b[0m_box_item_values\u001b[0m\u001b[1;33m(\u001b[0m\u001b[0mitem\u001b[0m\u001b[1;33m,\u001b[0m \u001b[0mvalues\u001b[0m\u001b[1;33m)\u001b[0m\u001b[1;33m\u001b[0m\u001b[0m\n\u001b[1;32m   1388\u001b[0m             \u001b[0mcache\u001b[0m\u001b[1;33m[\u001b[0m\u001b[0mitem\u001b[0m\u001b[1;33m]\u001b[0m \u001b[1;33m=\u001b[0m \u001b[0mres\u001b[0m\u001b[1;33m\u001b[0m\u001b[0m\n",
      "\u001b[0;32mC:\\ProgramData\\Anaconda3\\lib\\site-packages\\pandas\\core\\internals.py\u001b[0m in \u001b[0;36mget\u001b[0;34m(self, item, fastpath)\u001b[0m\n\u001b[1;32m   3541\u001b[0m \u001b[1;33m\u001b[0m\u001b[0m\n\u001b[1;32m   3542\u001b[0m             \u001b[1;32mif\u001b[0m \u001b[1;32mnot\u001b[0m \u001b[0misnull\u001b[0m\u001b[1;33m(\u001b[0m\u001b[0mitem\u001b[0m\u001b[1;33m)\u001b[0m\u001b[1;33m:\u001b[0m\u001b[1;33m\u001b[0m\u001b[0m\n\u001b[0;32m-> 3543\u001b[0;31m                 \u001b[0mloc\u001b[0m \u001b[1;33m=\u001b[0m \u001b[0mself\u001b[0m\u001b[1;33m.\u001b[0m\u001b[0mitems\u001b[0m\u001b[1;33m.\u001b[0m\u001b[0mget_loc\u001b[0m\u001b[1;33m(\u001b[0m\u001b[0mitem\u001b[0m\u001b[1;33m)\u001b[0m\u001b[1;33m\u001b[0m\u001b[0m\n\u001b[0m\u001b[1;32m   3544\u001b[0m             \u001b[1;32melse\u001b[0m\u001b[1;33m:\u001b[0m\u001b[1;33m\u001b[0m\u001b[0m\n\u001b[1;32m   3545\u001b[0m                 \u001b[0mindexer\u001b[0m \u001b[1;33m=\u001b[0m \u001b[0mnp\u001b[0m\u001b[1;33m.\u001b[0m\u001b[0marange\u001b[0m\u001b[1;33m(\u001b[0m\u001b[0mlen\u001b[0m\u001b[1;33m(\u001b[0m\u001b[0mself\u001b[0m\u001b[1;33m.\u001b[0m\u001b[0mitems\u001b[0m\u001b[1;33m)\u001b[0m\u001b[1;33m)\u001b[0m\u001b[1;33m[\u001b[0m\u001b[0misnull\u001b[0m\u001b[1;33m(\u001b[0m\u001b[0mself\u001b[0m\u001b[1;33m.\u001b[0m\u001b[0mitems\u001b[0m\u001b[1;33m)\u001b[0m\u001b[1;33m]\u001b[0m\u001b[1;33m\u001b[0m\u001b[0m\n",
      "\u001b[0;32mC:\\ProgramData\\Anaconda3\\lib\\site-packages\\pandas\\indexes\\base.py\u001b[0m in \u001b[0;36mget_loc\u001b[0;34m(self, key, method, tolerance)\u001b[0m\n\u001b[1;32m   2134\u001b[0m                 \u001b[1;32mreturn\u001b[0m \u001b[0mself\u001b[0m\u001b[1;33m.\u001b[0m\u001b[0m_engine\u001b[0m\u001b[1;33m.\u001b[0m\u001b[0mget_loc\u001b[0m\u001b[1;33m(\u001b[0m\u001b[0mkey\u001b[0m\u001b[1;33m)\u001b[0m\u001b[1;33m\u001b[0m\u001b[0m\n\u001b[1;32m   2135\u001b[0m             \u001b[1;32mexcept\u001b[0m \u001b[0mKeyError\u001b[0m\u001b[1;33m:\u001b[0m\u001b[1;33m\u001b[0m\u001b[0m\n\u001b[0;32m-> 2136\u001b[0;31m                 \u001b[1;32mreturn\u001b[0m \u001b[0mself\u001b[0m\u001b[1;33m.\u001b[0m\u001b[0m_engine\u001b[0m\u001b[1;33m.\u001b[0m\u001b[0mget_loc\u001b[0m\u001b[1;33m(\u001b[0m\u001b[0mself\u001b[0m\u001b[1;33m.\u001b[0m\u001b[0m_maybe_cast_indexer\u001b[0m\u001b[1;33m(\u001b[0m\u001b[0mkey\u001b[0m\u001b[1;33m)\u001b[0m\u001b[1;33m)\u001b[0m\u001b[1;33m\u001b[0m\u001b[0m\n\u001b[0m\u001b[1;32m   2137\u001b[0m \u001b[1;33m\u001b[0m\u001b[0m\n\u001b[1;32m   2138\u001b[0m         \u001b[0mindexer\u001b[0m \u001b[1;33m=\u001b[0m \u001b[0mself\u001b[0m\u001b[1;33m.\u001b[0m\u001b[0mget_indexer\u001b[0m\u001b[1;33m(\u001b[0m\u001b[1;33m[\u001b[0m\u001b[0mkey\u001b[0m\u001b[1;33m]\u001b[0m\u001b[1;33m,\u001b[0m \u001b[0mmethod\u001b[0m\u001b[1;33m=\u001b[0m\u001b[0mmethod\u001b[0m\u001b[1;33m,\u001b[0m \u001b[0mtolerance\u001b[0m\u001b[1;33m=\u001b[0m\u001b[0mtolerance\u001b[0m\u001b[1;33m)\u001b[0m\u001b[1;33m\u001b[0m\u001b[0m\n",
      "\u001b[0;32mpandas\\index.pyx\u001b[0m in \u001b[0;36mpandas.index.IndexEngine.get_loc (pandas\\index.c:4433)\u001b[0;34m()\u001b[0m\n",
      "\u001b[0;32mpandas\\index.pyx\u001b[0m in \u001b[0;36mpandas.index.IndexEngine.get_loc (pandas\\index.c:4279)\u001b[0;34m()\u001b[0m\n",
      "\u001b[0;32mpandas\\src\\hashtable_class_helper.pxi\u001b[0m in \u001b[0;36mpandas.hashtable.PyObjectHashTable.get_item (pandas\\hashtable.c:13742)\u001b[0;34m()\u001b[0m\n",
      "\u001b[0;32mpandas\\src\\hashtable_class_helper.pxi\u001b[0m in \u001b[0;36mpandas.hashtable.PyObjectHashTable.get_item (pandas\\hashtable.c:13696)\u001b[0;34m()\u001b[0m\n",
      "\u001b[0;31mKeyError\u001b[0m: 'full_sq'"
     ]
    }
   ],
   "source": [
    "merge_macro_df['full_sq'].plot()"
   ]
  },
  {
   "cell_type": "code",
   "execution_count": 295,
   "metadata": {
    "collapsed": false
   },
   "outputs": [
    {
     "name": "stdout",
     "output_type": "stream",
     "text": [
      "(38075, 50)\n",
      "After Dummay Coding Shape(38075, 50)\n",
      "--Model Start----\n",
      "18:28:44.311946\n"
     ]
    },
    {
     "ename": "ValueError",
     "evalue": "Input contains NaN, infinity or a value too large for dtype('float64').",
     "output_type": "error",
     "traceback": [
      "\u001b[0;31m---------------------------------------------------------------------------\u001b[0m",
      "\u001b[0;31mValueError\u001b[0m                                Traceback (most recent call last)",
      "\u001b[0;32m<ipython-input-295-4c641adc98c3>\u001b[0m in \u001b[0;36m<module>\u001b[0;34m()\u001b[0m\n\u001b[1;32m     54\u001b[0m \u001b[0malg\u001b[0m \u001b[1;33m=\u001b[0m \u001b[0mGradientBoostingRegressor\u001b[0m\u001b[1;33m(\u001b[0m\u001b[0mmin_samples_split\u001b[0m\u001b[1;33m=\u001b[0m\u001b[1;36m10\u001b[0m \u001b[1;33m,\u001b[0m\u001b[0mmax_depth\u001b[0m\u001b[1;33m=\u001b[0m\u001b[1;36m10\u001b[0m \u001b[1;33m,\u001b[0m \u001b[0mmin_samples_leaf\u001b[0m\u001b[1;33m=\u001b[0m\u001b[1;36m5\u001b[0m\u001b[1;33m,\u001b[0m \u001b[0mn_estimators\u001b[0m\u001b[1;33m=\u001b[0m\u001b[1;36m500\u001b[0m \u001b[1;33m)\u001b[0m\u001b[1;33m\u001b[0m\u001b[0m\n\u001b[1;32m     55\u001b[0m \u001b[1;33m\u001b[0m\u001b[0m\n\u001b[0;32m---> 56\u001b[0;31m \u001b[0malg\u001b[0m\u001b[1;33m.\u001b[0m\u001b[0mfit\u001b[0m\u001b[1;33m(\u001b[0m\u001b[0mtrain_model_df\u001b[0m\u001b[1;33m[\u001b[0m\u001b[0mpredictors\u001b[0m\u001b[1;33m]\u001b[0m\u001b[1;33m,\u001b[0m \u001b[0mtrain_model_df\u001b[0m\u001b[1;33m[\u001b[0m\u001b[0mtarget\u001b[0m\u001b[1;33m]\u001b[0m\u001b[1;33m)\u001b[0m\u001b[1;33m\u001b[0m\u001b[0m\n\u001b[0m\u001b[1;32m     57\u001b[0m \u001b[1;33m\u001b[0m\u001b[0m\n\u001b[1;32m     58\u001b[0m \u001b[1;31m#Predict training set:\u001b[0m\u001b[1;33m\u001b[0m\u001b[1;33m\u001b[0m\u001b[0m\n",
      "\u001b[0;32mC:\\ProgramData\\Anaconda3\\lib\\site-packages\\sklearn\\ensemble\\gradient_boosting.py\u001b[0m in \u001b[0;36mfit\u001b[0;34m(self, X, y, sample_weight, monitor)\u001b[0m\n\u001b[1;32m    971\u001b[0m \u001b[1;33m\u001b[0m\u001b[0m\n\u001b[1;32m    972\u001b[0m         \u001b[1;31m# Check input\u001b[0m\u001b[1;33m\u001b[0m\u001b[1;33m\u001b[0m\u001b[0m\n\u001b[0;32m--> 973\u001b[0;31m         \u001b[0mX\u001b[0m\u001b[1;33m,\u001b[0m \u001b[0my\u001b[0m \u001b[1;33m=\u001b[0m \u001b[0mcheck_X_y\u001b[0m\u001b[1;33m(\u001b[0m\u001b[0mX\u001b[0m\u001b[1;33m,\u001b[0m \u001b[0my\u001b[0m\u001b[1;33m,\u001b[0m \u001b[0maccept_sparse\u001b[0m\u001b[1;33m=\u001b[0m\u001b[1;33m[\u001b[0m\u001b[1;34m'csr'\u001b[0m\u001b[1;33m,\u001b[0m \u001b[1;34m'csc'\u001b[0m\u001b[1;33m,\u001b[0m \u001b[1;34m'coo'\u001b[0m\u001b[1;33m]\u001b[0m\u001b[1;33m,\u001b[0m \u001b[0mdtype\u001b[0m\u001b[1;33m=\u001b[0m\u001b[0mDTYPE\u001b[0m\u001b[1;33m)\u001b[0m\u001b[1;33m\u001b[0m\u001b[0m\n\u001b[0m\u001b[1;32m    974\u001b[0m         \u001b[0mn_samples\u001b[0m\u001b[1;33m,\u001b[0m \u001b[0mself\u001b[0m\u001b[1;33m.\u001b[0m\u001b[0mn_features\u001b[0m \u001b[1;33m=\u001b[0m \u001b[0mX\u001b[0m\u001b[1;33m.\u001b[0m\u001b[0mshape\u001b[0m\u001b[1;33m\u001b[0m\u001b[0m\n\u001b[1;32m    975\u001b[0m         \u001b[1;32mif\u001b[0m \u001b[0msample_weight\u001b[0m \u001b[1;32mis\u001b[0m \u001b[1;32mNone\u001b[0m\u001b[1;33m:\u001b[0m\u001b[1;33m\u001b[0m\u001b[0m\n",
      "\u001b[0;32mC:\\ProgramData\\Anaconda3\\lib\\site-packages\\sklearn\\utils\\validation.py\u001b[0m in \u001b[0;36mcheck_X_y\u001b[0;34m(X, y, accept_sparse, dtype, order, copy, force_all_finite, ensure_2d, allow_nd, multi_output, ensure_min_samples, ensure_min_features, y_numeric, warn_on_dtype, estimator)\u001b[0m\n\u001b[1;32m    525\u001b[0m     \u001b[1;32melse\u001b[0m\u001b[1;33m:\u001b[0m\u001b[1;33m\u001b[0m\u001b[0m\n\u001b[1;32m    526\u001b[0m         \u001b[0my\u001b[0m \u001b[1;33m=\u001b[0m \u001b[0mcolumn_or_1d\u001b[0m\u001b[1;33m(\u001b[0m\u001b[0my\u001b[0m\u001b[1;33m,\u001b[0m \u001b[0mwarn\u001b[0m\u001b[1;33m=\u001b[0m\u001b[1;32mTrue\u001b[0m\u001b[1;33m)\u001b[0m\u001b[1;33m\u001b[0m\u001b[0m\n\u001b[0;32m--> 527\u001b[0;31m         \u001b[0m_assert_all_finite\u001b[0m\u001b[1;33m(\u001b[0m\u001b[0my\u001b[0m\u001b[1;33m)\u001b[0m\u001b[1;33m\u001b[0m\u001b[0m\n\u001b[0m\u001b[1;32m    528\u001b[0m     \u001b[1;32mif\u001b[0m \u001b[0my_numeric\u001b[0m \u001b[1;32mand\u001b[0m \u001b[0my\u001b[0m\u001b[1;33m.\u001b[0m\u001b[0mdtype\u001b[0m\u001b[1;33m.\u001b[0m\u001b[0mkind\u001b[0m \u001b[1;33m==\u001b[0m \u001b[1;34m'O'\u001b[0m\u001b[1;33m:\u001b[0m\u001b[1;33m\u001b[0m\u001b[0m\n\u001b[1;32m    529\u001b[0m         \u001b[0my\u001b[0m \u001b[1;33m=\u001b[0m \u001b[0my\u001b[0m\u001b[1;33m.\u001b[0m\u001b[0mastype\u001b[0m\u001b[1;33m(\u001b[0m\u001b[0mnp\u001b[0m\u001b[1;33m.\u001b[0m\u001b[0mfloat64\u001b[0m\u001b[1;33m)\u001b[0m\u001b[1;33m\u001b[0m\u001b[0m\n",
      "\u001b[0;32mC:\\ProgramData\\Anaconda3\\lib\\site-packages\\sklearn\\utils\\validation.py\u001b[0m in \u001b[0;36m_assert_all_finite\u001b[0;34m(X)\u001b[0m\n\u001b[1;32m     56\u001b[0m             and not np.isfinite(X).all()):\n\u001b[1;32m     57\u001b[0m         raise ValueError(\"Input contains NaN, infinity\"\n\u001b[0;32m---> 58\u001b[0;31m                          \" or a value too large for %r.\" % X.dtype)\n\u001b[0m\u001b[1;32m     59\u001b[0m \u001b[1;33m\u001b[0m\u001b[0m\n\u001b[1;32m     60\u001b[0m \u001b[1;33m\u001b[0m\u001b[0m\n",
      "\u001b[0;31mValueError\u001b[0m: Input contains NaN, infinity or a value too large for dtype('float64')."
     ]
    }
   ],
   "source": [
    "from sklearn.cross_validation import train_test_split\n",
    "from sklearn.decomposition import PCA\n",
    "import datetime\n",
    "\n",
    "all_feature_columns = merge_macro_df.columns.tolist()\n",
    "\n",
    "all_feature_columns.remove('timestamp')\n",
    "\n",
    "rowid=merge_macro_df['id'] \n",
    "\n",
    "\n",
    "model_house_df = merge_macro_df[selected_columns]\n",
    "\n",
    "cat_columns_model  = model_house_df.select_dtypes(exclude=['float64' , 'int64']).columns\n",
    "\n",
    "num_columns_model = model_house_df.select_dtypes(include=['float64' , 'int64']).columns\n",
    "\n",
    "print(model_house_df.shape)\n",
    "var_mod = cat_columns_model.tolist()\n",
    "model_house_df = createDummy(model_house_df,var_mod)\n",
    "print(\"After Dummay Coding Shape\"+str(model_house_df.shape))\n",
    "\n",
    "#model_house_df[num_columns_model] = preprocessing.scale(model_house_df[num_columns_model])\n",
    "#pca = PCA(n_components=60)\n",
    "#pca_house_df_reduced = pca.fit_transform(model_house_df)\n",
    "#pca_reduced_df = pd.DataFrame(pca_house_df_reduced, columns=['pca_'+ str(i) for i in range(0,60)])\n",
    "#pca_reduced_df['id']=rowid\n",
    "\n",
    "#print(\"PCA Reduced :\"+str(pca_reduced_df.shape))\n",
    "\n",
    "#train_house_pca_df  = pca_reduced_df.loc[0:30412]\n",
    "#train_house_pca_df['price_doc'] = label_df.values\n",
    "#test_pca_df  = pca_reduced_df.loc[30413:38075]\n",
    "#train_pca_df, validation_pca_df = train_test_split(train_house_pca_df, train_size = 0.8)\n",
    "\n",
    "\n",
    "train_house_model_df  = model_house_df.loc[0:30412]\n",
    "train_house_model_df['price_doc'] = (label_df.values/train_house_model_df['log_full_sq'])\n",
    "test_model_df  = model_house_df.loc[30413:38075]\n",
    "train_model_df, validation_model_df = train_test_split(train_house_model_df, train_size = 0.8)\n",
    "\n",
    "\n",
    "\n",
    "print('--Model Start----')\n",
    "print(datetime.datetime.now().time())\n",
    "target = 'price_doc'\n",
    "IDcol = ['id']\n",
    "index=0\n",
    "#rmse  = best_fit_model_ensemble_regression(train_pca_df,validation_pca_df, test_pca_df, target, IDcol, 10,index)\n",
    "\n",
    "removeColumn =[ ]\n",
    "predictors = [x for x in train_model_df.columns if x not in [target]+IDcol+removeColumn]\n",
    "\n",
    "alg = GradientBoostingRegressor(min_samples_split=10 ,max_depth=10 , min_samples_leaf=5, n_estimators=500 )\n",
    "\n",
    "alg.fit(train_model_df[predictors], train_model_df[target])\n",
    "\n",
    "#Predict training set:\n",
    "dtrain_predictions = alg.predict(train_model_df[predictors])\n",
    "#print('predictors '+str(predictors))\n",
    "\n",
    "#Print model report:\n",
    "print (\"\\nModel Report\")\n",
    "print (\"RMSE : %.4g\" % np.sqrt(metrics.mean_squared_error((train_model_df[target].values*train_model_df['log_full_sq']), (dtrain_predictions*train_model_df['log_full_sq']))))\n",
    "print(alg.decision_function)\n",
    "    \n",
    "dvalidation_predictions = alg.predict(validation_model_df[predictors])\n",
    "validation_model_df.loc[:,'PRED_'+str(target)] = np.expm1(dvalidation_predictions)\n",
    "print (\"\\nValidation Model Report\")\n",
    "print (\"RMSE : %.4g\" % np.sqrt(metrics.mean_squared_error((validation_model_df[target].values*validation_model_df['log_full_sq']), (dvalidation_predictions*validation_model_df['log_full_sq']))))\n",
    "print('--Model End----')\n",
    "print(datetime.datetime.now().time())"
   ]
  },
  {
   "cell_type": "code",
   "execution_count": 290,
   "metadata": {
    "collapsed": false
   },
   "outputs": [
    {
     "data": {
      "text/plain": [
       "<matplotlib.axes._subplots.AxesSubplot at 0x1c6116a1898>"
      ]
     },
     "execution_count": 290,
     "metadata": {},
     "output_type": "execute_result"
    },
    {
     "data": {
      "image/png": "[encoded data removed]",
      "text/plain": [
       "<matplotlib.figure.Figure at 0x1c61163d550>"
      ]
     },
     "metadata": {},
     "output_type": "display_data"
    }
   ],
   "source": [
    "validation_model_df['orig_price_doc'] = np.expm1(validation_model_df['price_doc'])\n",
    "\n",
    "validation_model_df[['orig_price_doc','PRED_price_doc']].plot.hist(stacked=True , bins=100 , figsize= (8,6) )"
   ]
  },
  {
   "cell_type": "code",
   "execution_count": 291,
   "metadata": {
    "collapsed": false
   },
   "outputs": [
    {
     "data": {
      "text/html": [
       "<div>\n",
       "<table border=\"1\" class=\"dataframe\">\n",
       "  <thead>\n",
       "    <tr style=\"text-align: right;\">\n",
       "      <th></th>\n",
       "      <th>orig_price_doc</th>\n",
       "      <th>PRED_price_doc</th>\n",
       "    </tr>\n",
       "  </thead>\n",
       "  <tbody>\n",
       "    <tr>\n",
       "      <th>count</th>\n",
       "      <td>6.083000e+03</td>\n",
       "      <td>6.083000e+03</td>\n",
       "    </tr>\n",
       "    <tr>\n",
       "      <th>mean</th>\n",
       "      <td>7.094650e+06</td>\n",
       "      <td>6.583907e+06</td>\n",
       "    </tr>\n",
       "    <tr>\n",
       "      <th>std</th>\n",
       "      <td>4.729812e+06</td>\n",
       "      <td>3.693991e+06</td>\n",
       "    </tr>\n",
       "    <tr>\n",
       "      <th>min</th>\n",
       "      <td>2.000000e+05</td>\n",
       "      <td>9.776936e+05</td>\n",
       "    </tr>\n",
       "    <tr>\n",
       "      <th>25%</th>\n",
       "      <td>4.700000e+06</td>\n",
       "      <td>4.514914e+06</td>\n",
       "    </tr>\n",
       "    <tr>\n",
       "      <th>50%</th>\n",
       "      <td>6.200000e+06</td>\n",
       "      <td>5.736799e+06</td>\n",
       "    </tr>\n",
       "    <tr>\n",
       "      <th>75%</th>\n",
       "      <td>8.200000e+06</td>\n",
       "      <td>7.471684e+06</td>\n",
       "    </tr>\n",
       "    <tr>\n",
       "      <th>max</th>\n",
       "      <td>7.700000e+07</td>\n",
       "      <td>6.065989e+07</td>\n",
       "    </tr>\n",
       "  </tbody>\n",
       "</table>\n",
       "</div>"
      ],
      "text/plain": [
       "       orig_price_doc  PRED_price_doc\n",
       "count    6.083000e+03    6.083000e+03\n",
       "mean     7.094650e+06    6.583907e+06\n",
       "std      4.729812e+06    3.693991e+06\n",
       "min      2.000000e+05    9.776936e+05\n",
       "25%      4.700000e+06    4.514914e+06\n",
       "50%      6.200000e+06    5.736799e+06\n",
       "75%      8.200000e+06    7.471684e+06\n",
       "max      7.700000e+07    6.065989e+07"
      ]
     },
     "execution_count": 291,
     "metadata": {},
     "output_type": "execute_result"
    }
   ],
   "source": [
    "validation_model_df[['orig_price_doc','PRED_price_doc']].describe()"
   ]
  },
  {
   "cell_type": "code",
   "execution_count": 283,
   "metadata": {
    "collapsed": false
   },
   "outputs": [
    {
     "data": {
      "text/plain": [
       "<matplotlib.text.Text at 0x1c6112a3710>"
      ]
     },
     "execution_count": 283,
     "metadata": {},
     "output_type": "execute_result"
    },
    {
     "data": {
      "image/png": "[encoded data removed]",
      "text/plain": [
       "<matplotlib.figure.Figure at 0x1c61127ae48>"
      ]
     },
     "metadata": {},
     "output_type": "display_data"
    }
   ],
   "source": [
    "feat_imp = pd.Series(alg.feature_importances_, predictors).sort_values(ascending=False)\n",
    "feat_imp.head(50).plot(kind='bar', title='Feature Importances' ,figsize= (15,8)  )\n",
    "plt.ylabel('Feature Importance Score')\n",
    "        \n",
    "    "
   ]
  },
  {
   "cell_type": "code",
   "execution_count": 212,
   "metadata": {
    "collapsed": false
   },
   "outputs": [],
   "source": [
    "important_columns = pd.DataFrame(columns=['imp','predictor'] )\n",
    "important_columns\n",
    "\n",
    "important_columns['imp'] = alg.feature_importances_\n",
    "#[alg.feature_importances_, predictors] "
   ]
  },
  {
   "cell_type": "code",
   "execution_count": 214,
   "metadata": {
    "collapsed": true
   },
   "outputs": [],
   "source": [
    "important_columns['predictor'] = predictors"
   ]
  },
  {
   "cell_type": "code",
   "execution_count": 63,
   "metadata": {
    "collapsed": false
   },
   "outputs": [
    {
     "data": {
      "text/html": [
       "<div>\n",
       "<table border=\"1\" class=\"dataframe\">\n",
       "  <thead>\n",
       "    <tr style=\"text-align: right;\">\n",
       "      <th></th>\n",
       "      <th>pca_0</th>\n",
       "      <th>pca_1</th>\n",
       "      <th>pca_2</th>\n",
       "      <th>pca_3</th>\n",
       "      <th>pca_4</th>\n",
       "      <th>pca_5</th>\n",
       "      <th>pca_6</th>\n",
       "      <th>pca_7</th>\n",
       "      <th>pca_8</th>\n",
       "      <th>pca_9</th>\n",
       "      <th>pca_10</th>\n",
       "      <th>pca_11</th>\n",
       "      <th>pca_12</th>\n",
       "      <th>pca_13</th>\n",
       "      <th>pca_14</th>\n",
       "      <th>pca_15</th>\n",
       "      <th>pca_16</th>\n",
       "      <th>pca_17</th>\n",
       "      <th>pca_18</th>\n",
       "      <th>pca_19</th>\n",
       "      <th>pca_20</th>\n",
       "      <th>pca_21</th>\n",
       "      <th>pca_22</th>\n",
       "      <th>pca_23</th>\n",
       "      <th>pca_24</th>\n",
       "      <th>pca_25</th>\n",
       "      <th>pca_26</th>\n",
       "      <th>pca_27</th>\n",
       "      <th>pca_28</th>\n",
       "      <th>pca_29</th>\n",
       "      <th>pca_30</th>\n",
       "      <th>pca_31</th>\n",
       "      <th>pca_32</th>\n",
       "      <th>pca_33</th>\n",
       "      <th>pca_34</th>\n",
       "      <th>pca_35</th>\n",
       "      <th>pca_36</th>\n",
       "      <th>pca_37</th>\n",
       "      <th>pca_38</th>\n",
       "      <th>pca_39</th>\n",
       "      <th>pca_40</th>\n",
       "      <th>pca_41</th>\n",
       "      <th>pca_42</th>\n",
       "      <th>pca_43</th>\n",
       "      <th>pca_44</th>\n",
       "      <th>pca_45</th>\n",
       "      <th>pca_46</th>\n",
       "      <th>pca_47</th>\n",
       "      <th>pca_48</th>\n",
       "      <th>pca_49</th>\n",
       "      <th>pca_50</th>\n",
       "      <th>pca_51</th>\n",
       "      <th>pca_52</th>\n",
       "      <th>pca_53</th>\n",
       "      <th>pca_54</th>\n",
       "      <th>pca_55</th>\n",
       "      <th>pca_56</th>\n",
       "      <th>pca_57</th>\n",
       "      <th>pca_58</th>\n",
       "      <th>pca_59</th>\n",
       "      <th>id</th>\n",
       "    </tr>\n",
       "  </thead>\n",
       "  <tbody>\n",
       "    <tr>\n",
       "      <th>0</th>\n",
       "      <td>1.947352</td>\n",
       "      <td>-7.558688</td>\n",
       "      <td>-4.813447</td>\n",
       "      <td>4.385314</td>\n",
       "      <td>5.386629</td>\n",
       "      <td>1.428108</td>\n",
       "      <td>-1.293098</td>\n",
       "      <td>3.712942</td>\n",
       "      <td>-2.263203</td>\n",
       "      <td>0.326876</td>\n",
       "      <td>-1.089535</td>\n",
       "      <td>0.058495</td>\n",
       "      <td>-2.797233</td>\n",
       "      <td>-1.016353</td>\n",
       "      <td>-0.656063</td>\n",
       "      <td>2.039077</td>\n",
       "      <td>-0.633044</td>\n",
       "      <td>-0.089860</td>\n",
       "      <td>-1.332358</td>\n",
       "      <td>-3.121896</td>\n",
       "      <td>-0.452280</td>\n",
       "      <td>-0.754303</td>\n",
       "      <td>1.969165</td>\n",
       "      <td>-0.175914</td>\n",
       "      <td>1.740864</td>\n",
       "      <td>1.007529</td>\n",
       "      <td>-1.523749</td>\n",
       "      <td>0.617329</td>\n",
       "      <td>0.674635</td>\n",
       "      <td>0.765826</td>\n",
       "      <td>1.328421</td>\n",
       "      <td>0.029861</td>\n",
       "      <td>1.029985</td>\n",
       "      <td>0.909755</td>\n",
       "      <td>-1.448659</td>\n",
       "      <td>-0.897570</td>\n",
       "      <td>1.051223</td>\n",
       "      <td>-0.556680</td>\n",
       "      <td>0.591846</td>\n",
       "      <td>-2.606044</td>\n",
       "      <td>-0.703024</td>\n",
       "      <td>0.345159</td>\n",
       "      <td>0.124198</td>\n",
       "      <td>0.488042</td>\n",
       "      <td>-0.556388</td>\n",
       "      <td>-0.553990</td>\n",
       "      <td>-0.059128</td>\n",
       "      <td>-0.697996</td>\n",
       "      <td>-0.110491</td>\n",
       "      <td>-0.546714</td>\n",
       "      <td>0.534795</td>\n",
       "      <td>0.865486</td>\n",
       "      <td>-0.751075</td>\n",
       "      <td>0.266597</td>\n",
       "      <td>-0.442545</td>\n",
       "      <td>-1.732623</td>\n",
       "      <td>-0.229799</td>\n",
       "      <td>0.890089</td>\n",
       "      <td>-0.343303</td>\n",
       "      <td>-1.122263</td>\n",
       "      <td>1.0</td>\n",
       "    </tr>\n",
       "    <tr>\n",
       "      <th>1</th>\n",
       "      <td>1.798419</td>\n",
       "      <td>-7.509954</td>\n",
       "      <td>-3.767407</td>\n",
       "      <td>0.857591</td>\n",
       "      <td>4.945634</td>\n",
       "      <td>1.982987</td>\n",
       "      <td>-1.011284</td>\n",
       "      <td>3.229270</td>\n",
       "      <td>-0.505802</td>\n",
       "      <td>-0.203239</td>\n",
       "      <td>0.096041</td>\n",
       "      <td>-0.434184</td>\n",
       "      <td>-0.380562</td>\n",
       "      <td>-1.315609</td>\n",
       "      <td>-0.734619</td>\n",
       "      <td>-0.695669</td>\n",
       "      <td>-1.158092</td>\n",
       "      <td>-1.754299</td>\n",
       "      <td>2.168779</td>\n",
       "      <td>-2.524657</td>\n",
       "      <td>-0.460555</td>\n",
       "      <td>2.903680</td>\n",
       "      <td>0.955905</td>\n",
       "      <td>0.139032</td>\n",
       "      <td>1.650932</td>\n",
       "      <td>2.511534</td>\n",
       "      <td>-1.032076</td>\n",
       "      <td>-0.627131</td>\n",
       "      <td>-0.177572</td>\n",
       "      <td>0.614740</td>\n",
       "      <td>1.747038</td>\n",
       "      <td>0.270012</td>\n",
       "      <td>1.236230</td>\n",
       "      <td>-0.510428</td>\n",
       "      <td>-0.837056</td>\n",
       "      <td>0.432981</td>\n",
       "      <td>-0.951066</td>\n",
       "      <td>-0.342266</td>\n",
       "      <td>0.126195</td>\n",
       "      <td>-0.107767</td>\n",
       "      <td>-0.357158</td>\n",
       "      <td>-0.351941</td>\n",
       "      <td>-0.284294</td>\n",
       "      <td>0.285119</td>\n",
       "      <td>2.083325</td>\n",
       "      <td>-0.491026</td>\n",
       "      <td>-0.361329</td>\n",
       "      <td>-1.257683</td>\n",
       "      <td>-0.451304</td>\n",
       "      <td>-0.226637</td>\n",
       "      <td>1.693146</td>\n",
       "      <td>1.212496</td>\n",
       "      <td>0.257530</td>\n",
       "      <td>-0.305583</td>\n",
       "      <td>-0.437963</td>\n",
       "      <td>-0.480927</td>\n",
       "      <td>-0.027241</td>\n",
       "      <td>0.256904</td>\n",
       "      <td>0.859548</td>\n",
       "      <td>-0.632942</td>\n",
       "      <td>2.0</td>\n",
       "    </tr>\n",
       "    <tr>\n",
       "      <th>2</th>\n",
       "      <td>0.597862</td>\n",
       "      <td>-7.592519</td>\n",
       "      <td>-4.713488</td>\n",
       "      <td>-0.106388</td>\n",
       "      <td>5.151075</td>\n",
       "      <td>2.934303</td>\n",
       "      <td>0.205340</td>\n",
       "      <td>3.475125</td>\n",
       "      <td>-0.627177</td>\n",
       "      <td>-0.332188</td>\n",
       "      <td>-0.635767</td>\n",
       "      <td>0.465087</td>\n",
       "      <td>2.751195</td>\n",
       "      <td>-5.296102</td>\n",
       "      <td>0.050170</td>\n",
       "      <td>-1.613656</td>\n",
       "      <td>-0.182774</td>\n",
       "      <td>-0.176863</td>\n",
       "      <td>0.649003</td>\n",
       "      <td>-0.299899</td>\n",
       "      <td>2.071764</td>\n",
       "      <td>0.543455</td>\n",
       "      <td>1.894179</td>\n",
       "      <td>-0.261403</td>\n",
       "      <td>1.268444</td>\n",
       "      <td>1.139323</td>\n",
       "      <td>-1.824078</td>\n",
       "      <td>-0.204425</td>\n",
       "      <td>-0.723465</td>\n",
       "      <td>-0.963670</td>\n",
       "      <td>1.231605</td>\n",
       "      <td>-0.102727</td>\n",
       "      <td>1.185481</td>\n",
       "      <td>-0.442837</td>\n",
       "      <td>-1.239706</td>\n",
       "      <td>0.832025</td>\n",
       "      <td>-0.381841</td>\n",
       "      <td>0.147294</td>\n",
       "      <td>0.445908</td>\n",
       "      <td>-0.420584</td>\n",
       "      <td>-0.705266</td>\n",
       "      <td>0.310495</td>\n",
       "      <td>0.067072</td>\n",
       "      <td>0.568150</td>\n",
       "      <td>1.092775</td>\n",
       "      <td>-0.078161</td>\n",
       "      <td>0.092610</td>\n",
       "      <td>-0.070726</td>\n",
       "      <td>-0.615926</td>\n",
       "      <td>-0.922104</td>\n",
       "      <td>-0.548281</td>\n",
       "      <td>0.334808</td>\n",
       "      <td>0.436351</td>\n",
       "      <td>-0.297422</td>\n",
       "      <td>0.907656</td>\n",
       "      <td>-0.193662</td>\n",
       "      <td>-0.509526</td>\n",
       "      <td>0.500087</td>\n",
       "      <td>-0.512684</td>\n",
       "      <td>-1.309420</td>\n",
       "      <td>3.0</td>\n",
       "    </tr>\n",
       "    <tr>\n",
       "      <th>3</th>\n",
       "      <td>0.269071</td>\n",
       "      <td>-7.752770</td>\n",
       "      <td>-5.908064</td>\n",
       "      <td>7.800465</td>\n",
       "      <td>5.938656</td>\n",
       "      <td>-1.639482</td>\n",
       "      <td>-2.667447</td>\n",
       "      <td>4.745898</td>\n",
       "      <td>-2.208121</td>\n",
       "      <td>0.902550</td>\n",
       "      <td>-0.723146</td>\n",
       "      <td>-0.111376</td>\n",
       "      <td>-1.946833</td>\n",
       "      <td>0.208350</td>\n",
       "      <td>0.184897</td>\n",
       "      <td>-0.705584</td>\n",
       "      <td>0.125524</td>\n",
       "      <td>1.588806</td>\n",
       "      <td>-0.013421</td>\n",
       "      <td>2.190801</td>\n",
       "      <td>0.808279</td>\n",
       "      <td>-0.365277</td>\n",
       "      <td>1.318989</td>\n",
       "      <td>-0.350345</td>\n",
       "      <td>0.943941</td>\n",
       "      <td>-0.117058</td>\n",
       "      <td>-2.089197</td>\n",
       "      <td>-1.644275</td>\n",
       "      <td>0.106457</td>\n",
       "      <td>0.276945</td>\n",
       "      <td>2.159616</td>\n",
       "      <td>-0.123058</td>\n",
       "      <td>-0.914624</td>\n",
       "      <td>-0.025403</td>\n",
       "      <td>-1.095347</td>\n",
       "      <td>0.274794</td>\n",
       "      <td>0.097087</td>\n",
       "      <td>-0.197511</td>\n",
       "      <td>0.024348</td>\n",
       "      <td>0.233821</td>\n",
       "      <td>-0.501252</td>\n",
       "      <td>-0.644778</td>\n",
       "      <td>-0.068515</td>\n",
       "      <td>-0.380654</td>\n",
       "      <td>-0.686067</td>\n",
       "      <td>-1.194322</td>\n",
       "      <td>-0.150140</td>\n",
       "      <td>-0.562724</td>\n",
       "      <td>-1.026018</td>\n",
       "      <td>0.173371</td>\n",
       "      <td>-0.326423</td>\n",
       "      <td>0.676472</td>\n",
       "      <td>-0.842275</td>\n",
       "      <td>-0.800176</td>\n",
       "      <td>0.830776</td>\n",
       "      <td>-0.932291</td>\n",
       "      <td>-1.286366</td>\n",
       "      <td>-0.181133</td>\n",
       "      <td>0.434513</td>\n",
       "      <td>-0.378045</td>\n",
       "      <td>4.0</td>\n",
       "    </tr>\n",
       "    <tr>\n",
       "      <th>4</th>\n",
       "      <td>26.009687</td>\n",
       "      <td>-8.268048</td>\n",
       "      <td>10.036782</td>\n",
       "      <td>-0.169984</td>\n",
       "      <td>5.771913</td>\n",
       "      <td>4.626333</td>\n",
       "      <td>2.037516</td>\n",
       "      <td>4.509860</td>\n",
       "      <td>-1.126159</td>\n",
       "      <td>2.541689</td>\n",
       "      <td>-5.686374</td>\n",
       "      <td>0.794262</td>\n",
       "      <td>0.221234</td>\n",
       "      <td>2.903497</td>\n",
       "      <td>-0.259572</td>\n",
       "      <td>-2.881774</td>\n",
       "      <td>-1.113576</td>\n",
       "      <td>1.999040</td>\n",
       "      <td>-0.204417</td>\n",
       "      <td>1.193937</td>\n",
       "      <td>0.085391</td>\n",
       "      <td>-0.571975</td>\n",
       "      <td>1.722289</td>\n",
       "      <td>-1.082099</td>\n",
       "      <td>0.699482</td>\n",
       "      <td>3.144186</td>\n",
       "      <td>-1.493027</td>\n",
       "      <td>0.529019</td>\n",
       "      <td>3.964761</td>\n",
       "      <td>1.773702</td>\n",
       "      <td>2.898687</td>\n",
       "      <td>-1.337716</td>\n",
       "      <td>-3.233871</td>\n",
       "      <td>-2.513654</td>\n",
       "      <td>2.318592</td>\n",
       "      <td>2.444975</td>\n",
       "      <td>0.356392</td>\n",
       "      <td>-1.293368</td>\n",
       "      <td>-2.460606</td>\n",
       "      <td>-0.924718</td>\n",
       "      <td>-0.796787</td>\n",
       "      <td>2.150876</td>\n",
       "      <td>0.825676</td>\n",
       "      <td>1.099944</td>\n",
       "      <td>-0.165341</td>\n",
       "      <td>-2.341148</td>\n",
       "      <td>-0.407633</td>\n",
       "      <td>-0.820569</td>\n",
       "      <td>1.448190</td>\n",
       "      <td>1.739008</td>\n",
       "      <td>0.954058</td>\n",
       "      <td>-0.217953</td>\n",
       "      <td>0.567790</td>\n",
       "      <td>-0.761384</td>\n",
       "      <td>1.418553</td>\n",
       "      <td>0.605659</td>\n",
       "      <td>0.238849</td>\n",
       "      <td>1.655692</td>\n",
       "      <td>-0.146019</td>\n",
       "      <td>-0.742236</td>\n",
       "      <td>5.0</td>\n",
       "    </tr>\n",
       "  </tbody>\n",
       "</table>\n",
       "</div>"
      ],
      "text/plain": [
       "       pca_0     pca_1      pca_2     pca_3     pca_4     pca_5     pca_6  \\\n",
       "0   1.947352 -7.558688  -4.813447  4.385314  5.386629  1.428108 -1.293098   \n",
       "1   1.798419 -7.509954  -3.767407  0.857591  4.945634  1.982987 -1.011284   \n",
       "2   0.597862 -7.592519  -4.713488 -0.106388  5.151075  2.934303  0.205340   \n",
       "3   0.269071 -7.752770  -5.908064  7.800465  5.938656 -1.639482 -2.667447   \n",
       "4  26.009687 -8.268048  10.036782 -0.169984  5.771913  4.626333  2.037516   \n",
       "\n",
       "      pca_7     pca_8     pca_9    pca_10    pca_11    pca_12    pca_13  \\\n",
       "0  3.712942 -2.263203  0.326876 -1.089535  0.058495 -2.797233 -1.016353   \n",
       "1  3.229270 -0.505802 -0.203239  0.096041 -0.434184 -0.380562 -1.315609   \n",
       "2  3.475125 -0.627177 -0.332188 -0.635767  0.465087  2.751195 -5.296102   \n",
       "3  4.745898 -2.208121  0.902550 -0.723146 -0.111376 -1.946833  0.208350   \n",
       "4  4.509860 -1.126159  2.541689 -5.686374  0.794262  0.221234  2.903497   \n",
       "\n",
       "     pca_14    pca_15    pca_16    pca_17    pca_18    pca_19    pca_20  \\\n",
       "0 -0.656063  2.039077 -0.633044 -0.089860 -1.332358 -3.121896 -0.452280   \n",
       "1 -0.734619 -0.695669 -1.158092 -1.754299  2.168779 -2.524657 -0.460555   \n",
       "2  0.050170 -1.613656 -0.182774 -0.176863  0.649003 -0.299899  2.071764   \n",
       "3  0.184897 -0.705584  0.125524  1.588806 -0.013421  2.190801  0.808279   \n",
       "4 -0.259572 -2.881774 -1.113576  1.999040 -0.204417  1.193937  0.085391   \n",
       "\n",
       "     pca_21    pca_22    pca_23    pca_24    pca_25    pca_26    pca_27  \\\n",
       "0 -0.754303  1.969165 -0.175914  1.740864  1.007529 -1.523749  0.617329   \n",
       "1  2.903680  0.955905  0.139032  1.650932  2.511534 -1.032076 -0.627131   \n",
       "2  0.543455  1.894179 -0.261403  1.268444  1.139323 -1.824078 -0.204425   \n",
       "3 -0.365277  1.318989 -0.350345  0.943941 -0.117058 -2.089197 -1.644275   \n",
       "4 -0.571975  1.722289 -1.082099  0.699482  3.144186 -1.493027  0.529019   \n",
       "\n",
       "     pca_28    pca_29    pca_30    pca_31    pca_32    pca_33    pca_34  \\\n",
       "0  0.674635  0.765826  1.328421  0.029861  1.029985  0.909755 -1.448659   \n",
       "1 -0.177572  0.614740  1.747038  0.270012  1.236230 -0.510428 -0.837056   \n",
       "2 -0.723465 -0.963670  1.231605 -0.102727  1.185481 -0.442837 -1.239706   \n",
       "3  0.106457  0.276945  2.159616 -0.123058 -0.914624 -0.025403 -1.095347   \n",
       "4  3.964761  1.773702  2.898687 -1.337716 -3.233871 -2.513654  2.318592   \n",
       "\n",
       "     pca_35    pca_36    pca_37    pca_38    pca_39    pca_40    pca_41  \\\n",
       "0 -0.897570  1.051223 -0.556680  0.591846 -2.606044 -0.703024  0.345159   \n",
       "1  0.432981 -0.951066 -0.342266  0.126195 -0.107767 -0.357158 -0.351941   \n",
       "2  0.832025 -0.381841  0.147294  0.445908 -0.420584 -0.705266  0.310495   \n",
       "3  0.274794  0.097087 -0.197511  0.024348  0.233821 -0.501252 -0.644778   \n",
       "4  2.444975  0.356392 -1.293368 -2.460606 -0.924718 -0.796787  2.150876   \n",
       "\n",
       "     pca_42    pca_43    pca_44    pca_45    pca_46    pca_47    pca_48  \\\n",
       "0  0.124198  0.488042 -0.556388 -0.553990 -0.059128 -0.697996 -0.110491   \n",
       "1 -0.284294  0.285119  2.083325 -0.491026 -0.361329 -1.257683 -0.451304   \n",
       "2  0.067072  0.568150  1.092775 -0.078161  0.092610 -0.070726 -0.615926   \n",
       "3 -0.068515 -0.380654 -0.686067 -1.194322 -0.150140 -0.562724 -1.026018   \n",
       "4  0.825676  1.099944 -0.165341 -2.341148 -0.407633 -0.820569  1.448190   \n",
       "\n",
       "     pca_49    pca_50    pca_51    pca_52    pca_53    pca_54    pca_55  \\\n",
       "0 -0.546714  0.534795  0.865486 -0.751075  0.266597 -0.442545 -1.732623   \n",
       "1 -0.226637  1.693146  1.212496  0.257530 -0.305583 -0.437963 -0.480927   \n",
       "2 -0.922104 -0.548281  0.334808  0.436351 -0.297422  0.907656 -0.193662   \n",
       "3  0.173371 -0.326423  0.676472 -0.842275 -0.800176  0.830776 -0.932291   \n",
       "4  1.739008  0.954058 -0.217953  0.567790 -0.761384  1.418553  0.605659   \n",
       "\n",
       "     pca_56    pca_57    pca_58    pca_59   id  \n",
       "0 -0.229799  0.890089 -0.343303 -1.122263  1.0  \n",
       "1 -0.027241  0.256904  0.859548 -0.632942  2.0  \n",
       "2 -0.509526  0.500087 -0.512684 -1.309420  3.0  \n",
       "3 -1.286366 -0.181133  0.434513 -0.378045  4.0  \n",
       "4  0.238849  1.655692 -0.146019 -0.742236  5.0  "
      ]
     },
     "execution_count": 63,
     "metadata": {},
     "output_type": "execute_result"
    }
   ],
   "source": [
    "pca_reduced_df.head()"
   ]
  },
  {
   "cell_type": "code",
   "execution_count": null,
   "metadata": {
    "collapsed": false
   },
   "outputs": [],
   "source": [
    "test_pca_df['price_doc'].describe()"
   ]
  },
  {
   "cell_type": "code",
   "execution_count": null,
   "metadata": {
    "collapsed": false
   },
   "outputs": [],
   "source": [
    "train_house_df['price_doc'].describe()"
   ]
  },
  {
   "cell_type": "code",
   "execution_count": null,
   "metadata": {
    "collapsed": false
   },
   "outputs": [],
   "source": [
    "plt.figure(figsize=(12,8))\n",
    "sns.distplot(test_pca_df.price_doc.values, bins=50, kde=True)\n",
    "plt.xlabel('price', fontsize=12)\n",
    "plt.show()"
   ]
  },
  {
   "cell_type": "code",
   "execution_count": null,
   "metadata": {
    "collapsed": false
   },
   "outputs": [],
   "source": [
    "plt.figure(figsize=(12,8))\n",
    "sns.distplot(train_pca_df.price_doc.values, bins=50, kde=True)\n",
    "plt.xlabel('price', fontsize=12)\n",
    "plt.show()"
   ]
  },
  {
   "cell_type": "code",
   "execution_count": null,
   "metadata": {
    "collapsed": true
   },
   "outputs": [],
   "source": []
  }
 ],
 "metadata": {
  "kernelspec": {
   "display_name": "Python 3",
   "language": "python",
   "name": "python3"
  },
  "language_info": {
   "codemirror_mode": {
    "name": "ipython",
    "version": 3
   },
   "file_extension": ".py",
   "mimetype": "text/x-python",
   "name": "python",
   "nbconvert_exporter": "python",
   "pygments_lexer": "ipython3",
   "version": "3.6.0"
  }
 },
 "nbformat": 4,
 "nbformat_minor": 2
}
