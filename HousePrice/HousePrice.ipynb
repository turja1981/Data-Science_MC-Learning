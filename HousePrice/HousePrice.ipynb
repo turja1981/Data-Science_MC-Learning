{
 "cells": [
  {
   "cell_type": "code",
   "execution_count": 1,
   "metadata": {
    "collapsed": true
   },
   "outputs": [],
   "source": [
    "import pandas as pd\n",
    "import scipy as sc\n",
    "import numpy as np\n",
    "from scipy.stats import mode\n",
    "%matplotlib inline\n",
    "\n",
    "import seaborn as sns\n",
    "import matplotlib.pyplot as plt\n",
    "sns.set(style=\"white\", color_codes=True)"
   ]
  },
  {
   "cell_type": "code",
   "execution_count": 28,
   "metadata": {
    "collapsed": true
   },
   "outputs": [],
   "source": [
    "house_df = pd.read_csv('train.csv.folder\\\\train.csv')"
   ]
  },
  {
   "cell_type": "code",
   "execution_count": 3,
   "metadata": {
    "collapsed": false
   },
   "outputs": [
    {
     "data": {
      "text/plain": [
       "(30471, 292)"
      ]
     },
     "execution_count": 3,
     "metadata": {},
     "output_type": "execute_result"
    }
   ],
   "source": [
    "house_df.shape"
   ]
  },
  {
   "cell_type": "code",
   "execution_count": 8,
   "metadata": {
    "collapsed": true
   },
   "outputs": [],
   "source": [
    "pd.set_option('display.max_rows', 300)"
   ]
  },
  {
   "cell_type": "code",
   "execution_count": 12,
   "metadata": {
    "collapsed": true
   },
   "outputs": [],
   "source": [
    "pd.set_option('display.max_columns', None)"
   ]
  },
  {
   "cell_type": "code",
   "execution_count": 14,
   "metadata": {
    "collapsed": false
   },
   "outputs": [
    {
     "name": "stdout",
     "output_type": "stream",
     "text": [
      "292\n"
     ]
    }
   ],
   "source": [
    "print(len(house_df.columns))"
   ]
  },
  {
   "cell_type": "code",
   "execution_count": 15,
   "metadata": {
    "collapsed": false
   },
   "outputs": [
    {
     "data": {
      "text/plain": [
       "id                                         int64\n",
       "timestamp                                 object\n",
       "full_sq                                    int64\n",
       "life_sq                                  float64\n",
       "floor                                    float64\n",
       "max_floor                                float64\n",
       "material                                 float64\n",
       "build_year                               float64\n",
       "num_room                                 float64\n",
       "kitch_sq                                 float64\n",
       "state                                    float64\n",
       "product_type                              object\n",
       "sub_area                                  object\n",
       "area_m                                   float64\n",
       "raion_popul                                int64\n",
       "green_zone_part                          float64\n",
       "indust_part                              float64\n",
       "children_preschool                         int64\n",
       "preschool_quota                          float64\n",
       "preschool_education_centers_raion          int64\n",
       "children_school                            int64\n",
       "school_quota                             float64\n",
       "school_education_centers_raion             int64\n",
       "school_education_centers_top_20_raion      int64\n",
       "hospital_beds_raion                      float64\n",
       "healthcare_centers_raion                   int64\n",
       "university_top_20_raion                    int64\n",
       "sport_objects_raion                        int64\n",
       "additional_education_raion                 int64\n",
       "culture_objects_top_25                    object\n",
       "culture_objects_top_25_raion               int64\n",
       "shopping_centers_raion                     int64\n",
       "office_raion                               int64\n",
       "thermal_power_plant_raion                 object\n",
       "incineration_raion                        object\n",
       "oil_chemistry_raion                       object\n",
       "radiation_raion                           object\n",
       "railroad_terminal_raion                   object\n",
       "big_market_raion                          object\n",
       "nuclear_reactor_raion                     object\n",
       "detention_facility_raion                  object\n",
       "full_all                                   int64\n",
       "male_f                                     int64\n",
       "female_f                                   int64\n",
       "young_all                                  int64\n",
       "young_male                                 int64\n",
       "young_female                               int64\n",
       "work_all                                   int64\n",
       "work_male                                  int64\n",
       "work_female                                int64\n",
       "ekder_all                                  int64\n",
       "ekder_male                                 int64\n",
       "ekder_female                               int64\n",
       "0_6_all                                    int64\n",
       "0_6_male                                   int64\n",
       "0_6_female                                 int64\n",
       "7_14_all                                   int64\n",
       "7_14_male                                  int64\n",
       "7_14_female                                int64\n",
       "0_17_all                                   int64\n",
       "0_17_male                                  int64\n",
       "0_17_female                                int64\n",
       "16_29_all                                  int64\n",
       "16_29_male                                 int64\n",
       "16_29_female                               int64\n",
       "0_13_all                                   int64\n",
       "0_13_male                                  int64\n",
       "0_13_female                                int64\n",
       "raion_build_count_with_material_info     float64\n",
       "build_count_block                        float64\n",
       "build_count_wood                         float64\n",
       "build_count_frame                        float64\n",
       "build_count_brick                        float64\n",
       "build_count_monolith                     float64\n",
       "build_count_panel                        float64\n",
       "build_count_foam                         float64\n",
       "build_count_slag                         float64\n",
       "build_count_mix                          float64\n",
       "raion_build_count_with_builddate_info    float64\n",
       "build_count_before_1920                  float64\n",
       "build_count_1921-1945                    float64\n",
       "build_count_1946-1970                    float64\n",
       "build_count_1971-1995                    float64\n",
       "build_count_after_1995                   float64\n",
       "ID_metro                                   int64\n",
       "metro_min_avto                           float64\n",
       "metro_km_avto                            float64\n",
       "metro_min_walk                           float64\n",
       "metro_km_walk                            float64\n",
       "kindergarten_km                          float64\n",
       "school_km                                float64\n",
       "park_km                                  float64\n",
       "green_zone_km                            float64\n",
       "industrial_km                            float64\n",
       "water_treatment_km                       float64\n",
       "cemetery_km                              float64\n",
       "incineration_km                          float64\n",
       "railroad_station_walk_km                 float64\n",
       "railroad_station_walk_min                float64\n",
       "ID_railroad_station_walk                 float64\n",
       "railroad_station_avto_km                 float64\n",
       "railroad_station_avto_min                float64\n",
       "ID_railroad_station_avto                   int64\n",
       "public_transport_station_km              float64\n",
       "public_transport_station_min_walk        float64\n",
       "water_km                                 float64\n",
       "water_1line                               object\n",
       "mkad_km                                  float64\n",
       "ttk_km                                   float64\n",
       "sadovoe_km                               float64\n",
       "bulvar_ring_km                           float64\n",
       "kremlin_km                               float64\n",
       "big_road1_km                             float64\n",
       "ID_big_road1                               int64\n",
       "big_road1_1line                           object\n",
       "big_road2_km                             float64\n",
       "ID_big_road2                               int64\n",
       "railroad_km                              float64\n",
       "railroad_1line                            object\n",
       "zd_vokzaly_avto_km                       float64\n",
       "ID_railroad_terminal                       int64\n",
       "bus_terminal_avto_km                     float64\n",
       "ID_bus_terminal                            int64\n",
       "oil_chemistry_km                         float64\n",
       "nuclear_reactor_km                       float64\n",
       "radiation_km                             float64\n",
       "power_transmission_line_km               float64\n",
       "thermal_power_plant_km                   float64\n",
       "ts_km                                    float64\n",
       "big_market_km                            float64\n",
       "market_shop_km                           float64\n",
       "fitness_km                               float64\n",
       "swim_pool_km                             float64\n",
       "ice_rink_km                              float64\n",
       "stadium_km                               float64\n",
       "basketball_km                            float64\n",
       "hospice_morgue_km                        float64\n",
       "detention_facility_km                    float64\n",
       "public_healthcare_km                     float64\n",
       "university_km                            float64\n",
       "workplaces_km                            float64\n",
       "shopping_centers_km                      float64\n",
       "office_km                                float64\n",
       "additional_education_km                  float64\n",
       "preschool_km                             float64\n",
       "big_church_km                            float64\n",
       "church_synagogue_km                      float64\n",
       "mosque_km                                float64\n",
       "theater_km                               float64\n",
       "museum_km                                float64\n",
       "exhibition_km                            float64\n",
       "catering_km                              float64\n",
       "ecology                                   object\n",
       "green_part_500                           float64\n",
       "prom_part_500                            float64\n",
       "office_count_500                           int64\n",
       "office_sqm_500                             int64\n",
       "trc_count_500                              int64\n",
       "trc_sqm_500                                int64\n",
       "cafe_count_500                             int64\n",
       "cafe_sum_500_min_price_avg               float64\n",
       "cafe_sum_500_max_price_avg               float64\n",
       "cafe_avg_price_500                       float64\n",
       "cafe_count_500_na_price                    int64\n",
       "cafe_count_500_price_500                   int64\n",
       "cafe_count_500_price_1000                  int64\n",
       "cafe_count_500_price_1500                  int64\n",
       "cafe_count_500_price_2500                  int64\n",
       "cafe_count_500_price_4000                  int64\n",
       "cafe_count_500_price_high                  int64\n",
       "big_church_count_500                       int64\n",
       "church_count_500                           int64\n",
       "mosque_count_500                           int64\n",
       "leisure_count_500                          int64\n",
       "sport_count_500                            int64\n",
       "market_count_500                           int64\n",
       "green_part_1000                          float64\n",
       "prom_part_1000                           float64\n",
       "office_count_1000                          int64\n",
       "office_sqm_1000                            int64\n",
       "trc_count_1000                             int64\n",
       "trc_sqm_1000                               int64\n",
       "cafe_count_1000                            int64\n",
       "cafe_sum_1000_min_price_avg              float64\n",
       "cafe_sum_1000_max_price_avg              float64\n",
       "cafe_avg_price_1000                      float64\n",
       "cafe_count_1000_na_price                   int64\n",
       "cafe_count_1000_price_500                  int64\n",
       "cafe_count_1000_price_1000                 int64\n",
       "cafe_count_1000_price_1500                 int64\n",
       "cafe_count_1000_price_2500                 int64\n",
       "cafe_count_1000_price_4000                 int64\n",
       "cafe_count_1000_price_high                 int64\n",
       "big_church_count_1000                      int64\n",
       "church_count_1000                          int64\n",
       "mosque_count_1000                          int64\n",
       "leisure_count_1000                         int64\n",
       "sport_count_1000                           int64\n",
       "market_count_1000                          int64\n",
       "green_part_1500                          float64\n",
       "prom_part_1500                           float64\n",
       "office_count_1500                          int64\n",
       "office_sqm_1500                            int64\n",
       "trc_count_1500                             int64\n",
       "trc_sqm_1500                               int64\n",
       "cafe_count_1500                            int64\n",
       "cafe_sum_1500_min_price_avg              float64\n",
       "cafe_sum_1500_max_price_avg              float64\n",
       "cafe_avg_price_1500                      float64\n",
       "cafe_count_1500_na_price                   int64\n",
       "cafe_count_1500_price_500                  int64\n",
       "cafe_count_1500_price_1000                 int64\n",
       "cafe_count_1500_price_1500                 int64\n",
       "cafe_count_1500_price_2500                 int64\n",
       "cafe_count_1500_price_4000                 int64\n",
       "cafe_count_1500_price_high                 int64\n",
       "big_church_count_1500                      int64\n",
       "church_count_1500                          int64\n",
       "mosque_count_1500                          int64\n",
       "leisure_count_1500                         int64\n",
       "sport_count_1500                           int64\n",
       "market_count_1500                          int64\n",
       "green_part_2000                          float64\n",
       "prom_part_2000                           float64\n",
       "office_count_2000                          int64\n",
       "office_sqm_2000                            int64\n",
       "trc_count_2000                             int64\n",
       "trc_sqm_2000                               int64\n",
       "cafe_count_2000                            int64\n",
       "cafe_sum_2000_min_price_avg              float64\n",
       "cafe_sum_2000_max_price_avg              float64\n",
       "cafe_avg_price_2000                      float64\n",
       "cafe_count_2000_na_price                   int64\n",
       "cafe_count_2000_price_500                  int64\n",
       "cafe_count_2000_price_1000                 int64\n",
       "cafe_count_2000_price_1500                 int64\n",
       "cafe_count_2000_price_2500                 int64\n",
       "cafe_count_2000_price_4000                 int64\n",
       "cafe_count_2000_price_high                 int64\n",
       "big_church_count_2000                      int64\n",
       "church_count_2000                          int64\n",
       "mosque_count_2000                          int64\n",
       "leisure_count_2000                         int64\n",
       "sport_count_2000                           int64\n",
       "market_count_2000                          int64\n",
       "green_part_3000                          float64\n",
       "prom_part_3000                           float64\n",
       "office_count_3000                          int64\n",
       "office_sqm_3000                            int64\n",
       "trc_count_3000                             int64\n",
       "trc_sqm_3000                               int64\n",
       "cafe_count_3000                            int64\n",
       "cafe_sum_3000_min_price_avg              float64\n",
       "cafe_sum_3000_max_price_avg              float64\n",
       "cafe_avg_price_3000                      float64\n",
       "cafe_count_3000_na_price                   int64\n",
       "cafe_count_3000_price_500                  int64\n",
       "cafe_count_3000_price_1000                 int64\n",
       "cafe_count_3000_price_1500                 int64\n",
       "cafe_count_3000_price_2500                 int64\n",
       "cafe_count_3000_price_4000                 int64\n",
       "cafe_count_3000_price_high                 int64\n",
       "big_church_count_3000                      int64\n",
       "church_count_3000                          int64\n",
       "mosque_count_3000                          int64\n",
       "leisure_count_3000                         int64\n",
       "sport_count_3000                           int64\n",
       "market_count_3000                          int64\n",
       "green_part_5000                          float64\n",
       "prom_part_5000                           float64\n",
       "office_count_5000                          int64\n",
       "office_sqm_5000                            int64\n",
       "trc_count_5000                             int64\n",
       "trc_sqm_5000                               int64\n",
       "cafe_count_5000                            int64\n",
       "cafe_sum_5000_min_price_avg              float64\n",
       "cafe_sum_5000_max_price_avg              float64\n",
       "cafe_avg_price_5000                      float64\n",
       "cafe_count_5000_na_price                   int64\n",
       "cafe_count_5000_price_500                  int64\n",
       "cafe_count_5000_price_1000                 int64\n",
       "cafe_count_5000_price_1500                 int64\n",
       "cafe_count_5000_price_2500                 int64\n",
       "cafe_count_5000_price_4000                 int64\n",
       "cafe_count_5000_price_high                 int64\n",
       "big_church_count_5000                      int64\n",
       "church_count_5000                          int64\n",
       "mosque_count_5000                          int64\n",
       "leisure_count_5000                         int64\n",
       "sport_count_5000                           int64\n",
       "market_count_5000                          int64\n",
       "price_doc                                  int64\n",
       "dtype: object"
      ]
     },
     "execution_count": 15,
     "metadata": {},
     "output_type": "execute_result"
    }
   ],
   "source": [
    "house_df.dtypes"
   ]
  },
  {
   "cell_type": "code",
   "execution_count": 29,
   "metadata": {
    "collapsed": false
   },
   "outputs": [
    {
     "name": "stdout",
     "output_type": "stream",
     "text": [
      "Index(['timestamp', 'product_type', 'sub_area', 'culture_objects_top_25',\n",
      "       'thermal_power_plant_raion', 'incineration_raion',\n",
      "       'oil_chemistry_raion', 'radiation_raion', 'railroad_terminal_raion',\n",
      "       'big_market_raion', 'nuclear_reactor_raion', 'detention_facility_raion',\n",
      "       'water_1line', 'big_road1_1line', 'railroad_1line', 'ecology'],\n",
      "      dtype='object')\n"
     ]
    }
   ],
   "source": [
    "cat_columns = house_df.select_dtypes(exclude=['float64' , 'int64']).columns\n",
    "\n",
    "print(cat_columns)"
   ]
  },
  {
   "cell_type": "code",
   "execution_count": 30,
   "metadata": {
    "collapsed": false
   },
   "outputs": [],
   "source": [
    "pca_house_df =  house_df.drop(cat_columns , axis=1 )"
   ]
  },
  {
   "cell_type": "code",
   "execution_count": 31,
   "metadata": {
    "collapsed": false
   },
   "outputs": [
    {
     "data": {
      "text/plain": [
       "(30471, 276)"
      ]
     },
     "execution_count": 31,
     "metadata": {},
     "output_type": "execute_result"
    }
   ],
   "source": [
    "pca_house_df.shape"
   ]
  },
  {
   "cell_type": "code",
   "execution_count": 32,
   "metadata": {
    "collapsed": true
   },
   "outputs": [],
   "source": [
    "from sklearn.decomposition import PCA"
   ]
  },
  {
   "cell_type": "code",
   "execution_count": 38,
   "metadata": {
    "collapsed": false
   },
   "outputs": [
    {
     "data": {
      "text/plain": [
       "Index(['life_sq', 'floor', 'max_floor', 'material', 'build_year', 'num_room',\n",
       "       'kitch_sq', 'state', 'preschool_quota', 'school_quota',\n",
       "       'hospital_beds_raion', 'raion_build_count_with_material_info',\n",
       "       'build_count_block', 'build_count_wood', 'build_count_frame',\n",
       "       'build_count_brick', 'build_count_monolith', 'build_count_panel',\n",
       "       'build_count_foam', 'build_count_slag', 'build_count_mix',\n",
       "       'raion_build_count_with_builddate_info', 'build_count_before_1920',\n",
       "       'build_count_1921-1945', 'build_count_1946-1970',\n",
       "       'build_count_1971-1995', 'build_count_after_1995', 'metro_min_walk',\n",
       "       'metro_km_walk', 'railroad_station_walk_km',\n",
       "       'railroad_station_walk_min', 'ID_railroad_station_walk',\n",
       "       'cafe_sum_500_min_price_avg', 'cafe_sum_500_max_price_avg',\n",
       "       'cafe_avg_price_500', 'cafe_sum_1000_min_price_avg',\n",
       "       'cafe_sum_1000_max_price_avg', 'cafe_avg_price_1000',\n",
       "       'cafe_sum_1500_min_price_avg', 'cafe_sum_1500_max_price_avg',\n",
       "       'cafe_avg_price_1500', 'cafe_sum_2000_min_price_avg',\n",
       "       'cafe_sum_2000_max_price_avg', 'cafe_avg_price_2000',\n",
       "       'cafe_sum_3000_min_price_avg', 'cafe_sum_3000_max_price_avg',\n",
       "       'cafe_avg_price_3000', 'prom_part_5000', 'cafe_sum_5000_min_price_avg',\n",
       "       'cafe_sum_5000_max_price_avg', 'cafe_avg_price_5000'],\n",
       "      dtype='object')"
      ]
     },
     "execution_count": 38,
     "metadata": {},
     "output_type": "execute_result"
    }
   ],
   "source": [
    "house_df.columns[house_df.apply(lambda x: sum(x.isnull())) > 0]"
   ]
  },
  {
   "cell_type": "code",
   "execution_count": 40,
   "metadata": {
    "collapsed": false
   },
   "outputs": [],
   "source": [
    "from sklearn.preprocessing import Imputer\n",
    "imp = Imputer(missing_values='NaN', strategy='mean', axis=1)\n",
    "cleaned_pca_house_df = imp.fit_transform(pca_house_df)"
   ]
  },
  {
   "cell_type": "code",
   "execution_count": 55,
   "metadata": {
    "collapsed": false
   },
   "outputs": [],
   "source": [
    "pca = PCA(n_components=10)\n",
    "pca_house_df_reduced = pca.fit_transform(cleaned_pca_house_df)"
   ]
  },
  {
   "cell_type": "code",
   "execution_count": 56,
   "metadata": {
    "collapsed": false
   },
   "outputs": [
    {
     "data": {
      "text/plain": [
       "array([[ -1.12292742e+07,  -1.70713621e+06,  -1.72955444e+05, ...,\n",
       "          1.13610547e+05,  -2.49281617e+04,   2.02567612e+05],\n",
       "       [ -8.07015946e+06,  -1.22832658e+06,  -1.34660632e+06, ...,\n",
       "         -3.49180080e+04,  -5.19306391e+04,   7.58120593e+04],\n",
       "       [ -1.27701219e+07,  -2.01558798e+06,   2.37322266e+05, ...,\n",
       "         -4.54139821e+03,  -6.35079657e+04,   2.27588947e+05],\n",
       "       ..., \n",
       "       [  7.94895571e+06,  -7.78091547e+04,   1.38581995e+06, ...,\n",
       "          2.31820687e+05,  -1.27661275e+05,  -6.65362794e+04],\n",
       "       [ -1.18494104e+07,   5.70094227e+06,   1.62423216e+06, ...,\n",
       "          1.64491269e+04,   7.31318542e+04,  -4.24838232e+04],\n",
       "       [ -1.31297555e+07,  -2.34351623e+06,   1.35780002e+06, ...,\n",
       "          3.53353690e+04,   1.46376843e+05,  -2.33164133e+05]])"
      ]
     },
     "execution_count": 56,
     "metadata": {},
     "output_type": "execute_result"
    }
   ],
   "source": [
    "pca_house_df_reduced"
   ]
  },
  {
   "cell_type": "code",
   "execution_count": 59,
   "metadata": {
    "collapsed": false
   },
   "outputs": [
    {
     "data": {
      "text/plain": [
       "array([[  2.64198298e-05,   9.70254522e-08,   2.51087688e-03, ...,\n",
       "         -9.45118366e-07,  -1.07137736e-07,  -4.09747718e-02],\n",
       "       [  2.48071322e-04,   2.80364915e-06,   5.98901217e-04, ...,\n",
       "          2.88369154e-06,   1.62445890e-07,   9.83238928e-01],\n",
       "       [  2.09832351e-05,   1.16048770e-06,  -2.04566821e-03, ...,\n",
       "         -1.41073150e-05,  -8.67825877e-07,   1.77106938e-01],\n",
       "       ..., \n",
       "       [ -2.35629758e-03,   7.30508051e-07,   7.50032101e-02, ...,\n",
       "         -7.58671407e-06,  -7.90422971e-07,   2.69276053e-03],\n",
       "       [  1.45054049e-03,   2.76765906e-07,  -5.53773945e-03, ...,\n",
       "         -3.71707907e-06,   5.29957568e-07,   9.25779953e-04],\n",
       "       [ -1.45446981e-03,   5.74337468e-06,   3.29861201e-02, ...,\n",
       "          6.52998201e-06,   2.43051991e-06,   3.89602549e-03]])"
      ]
     },
     "execution_count": 59,
     "metadata": {},
     "output_type": "execute_result"
    }
   ],
   "source": [
    "pca.components_"
   ]
  },
  {
   "cell_type": "code",
   "execution_count": 57,
   "metadata": {
    "collapsed": true
   },
   "outputs": [],
   "source": [
    "filtered = pca.inverse_transform(pca_house_df_reduced)"
   ]
  },
  {
   "cell_type": "code",
   "execution_count": 58,
   "metadata": {
    "collapsed": false
   },
   "outputs": [
    {
     "data": {
      "text/plain": [
       "(30471, 276)"
      ]
     },
     "execution_count": 58,
     "metadata": {},
     "output_type": "execute_result"
    }
   ],
   "source": [
    "filtered.shape"
   ]
  },
  {
   "cell_type": "code",
   "execution_count": 52,
   "metadata": {
    "collapsed": false
   },
   "outputs": [
    {
     "data": {
      "text/plain": [
       "276"
      ]
     },
     "execution_count": 52,
     "metadata": {},
     "output_type": "execute_result"
    }
   ],
   "source": [
    "pca.n_features_"
   ]
  },
  {
   "cell_type": "code",
   "execution_count": 54,
   "metadata": {
    "collapsed": false
   },
   "outputs": [
    {
     "data": {
      "text/plain": [
       "2"
      ]
     },
     "execution_count": 54,
     "metadata": {},
     "output_type": "execute_result"
    }
   ],
   "source": [
    "pca.n_components_"
   ]
  },
  {
   "cell_type": "code",
   "execution_count": null,
   "metadata": {
    "collapsed": true
   },
   "outputs": [],
   "source": []
  }
 ],
 "metadata": {
  "kernelspec": {
   "display_name": "Python 3",
   "language": "python",
   "name": "python3"
  },
  "language_info": {
   "codemirror_mode": {
    "name": "ipython",
    "version": 3
   },
   "file_extension": ".py",
   "mimetype": "text/x-python",
   "name": "python",
   "nbconvert_exporter": "python",
   "pygments_lexer": "ipython3",
   "version": "3.6.0"
  }
 },
 "nbformat": 4,
 "nbformat_minor": 2
}
